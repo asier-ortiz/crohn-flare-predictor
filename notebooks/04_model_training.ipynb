{
 "cells": [
  {
   "cell_type": "markdown",
   "metadata": {},
   "source": [
    "# 🤖 Model Training: Predicción de Brotes en Crohn/IBD\n",
    "\n",
    "**Objetivo:** Entrenar y evaluar modelos para predecir brotes (flares) en pacientes con Crohn/IBD\n",
    "\n",
    "**Input:** `features_daily.csv` (13,362 registros, 43 features)\n",
    "\n",
    "**Estrategia:**\n",
    "1. Split temporal (NO aleatorio - importante para series temporales)\n",
    "2. Modelos baseline: Logistic Regression, Random Forest\n",
    "3. Manejo de desbalanceo: Class weights, SMOTE, Threshold tuning\n",
    "4. Modelo avanzado: XGBoost optimizado\n",
    "5. Feature importance analysis\n",
    "6. Evaluación: Recall (crítico), Precision, F1, PR-AUC\n",
    "\n",
    "**Nota sobre desbalanceo:**\n",
    "- Ratio actual: 4.65:1 (no-flare:flare)\n",
    "- 82.3% no-flare, 17.7% flare\n",
    "- En medicina: **Recall > Precision** (no queremos perder ningún flare)\n",
    "\n",
    "**Autor:** Asier Ortiz García  \n",
    "**Fecha:** Octubre 2025"
   ]
  },
  {
   "cell_type": "markdown",
   "metadata": {},
   "source": [
    "## 📦 Imports y Configuración"
   ]
  },
  {
   "cell_type": "code",
   "metadata": {
    "ExecuteTime": {
     "end_time": "2025-10-13T09:48:21.694479Z",
     "start_time": "2025-10-13T09:48:21.686850Z"
    }
   },
   "source": [
    "import pandas as pd\n",
    "import numpy as np\n",
    "import matplotlib.pyplot as plt\n",
    "import seaborn as sns\n",
    "from datetime import datetime\n",
    "import warnings\n",
    "warnings.filterwarnings('ignore')\n",
    "\n",
    "# Scikit-learn: modelos y evaluación\n",
    "from sklearn.model_selection import train_test_split, cross_val_score, GridSearchCV\n",
    "from sklearn.preprocessing import StandardScaler\n",
    "from sklearn.linear_model import LogisticRegression\n",
    "from sklearn.ensemble import RandomForestClassifier\n",
    "from sklearn.metrics import (\n",
    "    classification_report, confusion_matrix, \n",
    "    roc_auc_score, precision_recall_curve, auc,\n",
    "    f1_score, recall_score, precision_score,\n",
    "    fbeta_score, average_precision_score\n",
    ")\n",
    "\n",
    "# Imbalanced-learn: técnicas para desbalanceo\n",
    "from imblearn.over_sampling import SMOTE, ADASYN, BorderlineSMOTE\n",
    "from imblearn.under_sampling import RandomUnderSampler\n",
    "from imblearn.combine import SMOTEENN\n",
    "from imblearn.ensemble import BalancedRandomForestClassifier\n",
    "\n",
    "# XGBoost: modelo avanzado\n",
    "import xgboost as xgb\n",
    "\n",
    "plt.style.use('seaborn-v0_8-whitegrid')\n",
    "sns.set_palette('husl')\n",
    "plt.rcParams['figure.figsize'] = (14, 6)\n",
    "%matplotlib inline\n",
    "\n",
    "# Semilla para reproducibilidad\n",
    "RANDOM_SEED = 42\n",
    "np.random.seed(RANDOM_SEED)\n",
    "\n",
    "print('=' * 80)\n",
    "print('MODEL TRAINING: Predicción de Brotes en Crohn/IBD')\n",
    "print('=' * 80)"
   ],
   "outputs": [
    {
     "name": "stdout",
     "output_type": "stream",
     "text": [
      "================================================================================\n",
      "MODEL TRAINING: Predicción de Brotes en Crohn/IBD\n",
      "================================================================================\n"
     ]
    }
   ],
   "execution_count": 30
  },
  {
   "cell_type": "markdown",
   "metadata": {},
   "source": [
    "## 1️⃣ Cargar Datos y Exploración Inicial"
   ]
  },
  {
   "cell_type": "code",
   "metadata": {
    "ExecuteTime": {
     "end_time": "2025-10-13T09:48:21.819415Z",
     "start_time": "2025-10-13T09:48:21.742491Z"
    }
   },
   "source": [
    "# Cargar dataset de features del notebook anterior\n",
    "df = pd.read_csv('../data/processed/features_daily.csv', parse_dates=['date'])\n",
    "\n",
    "print(f'✓ Dataset cargado: {len(df):,} registros')\n",
    "print(f'  Usuarios: {df[\"user_id\"].nunique():,}')\n",
    "print(f'  Features: {len(df.columns) - 3} (excluyendo user_id, date, is_flare)')\n",
    "print(f'  Rango temporal: {df[\"date\"].min()} → {df[\"date\"].max()}')\n",
    "\n",
    "# Verificar balance de clases\n",
    "print(f'\\n📊 Distribución de clases:')\n",
    "print(df['is_flare'].value_counts())\n",
    "print(f'\\n% Flare: {df[\"is_flare\"].mean()*100:.2f}%')\n",
    "print(f'% No-Flare: {(1-df[\"is_flare\"].mean())*100:.2f}%')\n",
    "print(f'Ratio desbalanceo: {(df[\"is_flare\"]==0).sum()/(df[\"is_flare\"]==1).sum():.2f}:1')"
   ],
   "outputs": [
    {
     "name": "stdout",
     "output_type": "stream",
     "text": [
      "✓ Dataset cargado: 13,362 registros\n",
      "  Usuarios: 325\n",
      "  Features: 43 (excluyendo user_id, date, is_flare)\n",
      "  Rango temporal: 2015-05-24 00:00:00 → 2019-12-05 00:00:00\n",
      "\n",
      "📊 Distribución de clases:\n",
      "is_flare\n",
      "0    10998\n",
      "1     2364\n",
      "Name: count, dtype: int64\n",
      "\n",
      "% Flare: 17.69%\n",
      "% No-Flare: 82.31%\n",
      "Ratio desbalanceo: 4.65:1\n"
     ]
    }
   ],
   "execution_count": 31
  },
  {
   "cell_type": "code",
   "metadata": {
    "ExecuteTime": {
     "end_time": "2025-10-13T09:48:21.912312Z",
     "start_time": "2025-10-13T09:48:21.835452Z"
    }
   },
   "source": [
    "# Ver información del dataset\n",
    "print('\\nPrimeras filas:')\n",
    "print(df.head())\n",
    "\n",
    "print('\\nInformación de columnas:')\n",
    "print(df.info())\n",
    "\n",
    "print('\\nEstadísticas descriptivas:')\n",
    "print(df.describe())"
   ],
   "outputs": [
    {
     "name": "stdout",
     "output_type": "stream",
     "text": [
      "\n",
      "Primeras filas:\n",
      "                            user_id       date  severity_mean  severity_max  \\\n",
      "0  QEVuQwEA+BvMZxBW+LYs9YFwaRNpOw== 2017-09-06       0.916667           2.0   \n",
      "1  QEVuQwEA+BvMZxBW+LYs9YFwaRNpOw== 2017-09-07       0.875000           3.0   \n",
      "2  QEVuQwEA+BvMZxBW+LYs9YFwaRNpOw== 2017-09-09       1.000000           4.0   \n",
      "3  QEVuQwEA+BvMZxBW+LYs9YFwaRNpOw== 2017-09-10       0.583333           2.0   \n",
      "4  QEVuQwEA+BvMZxBW+LYs9YFwaRNpOw== 2017-09-11       1.583333           4.0   \n",
      "\n",
      "   severity_sum  symptom_count  abdominal_pain  blood_in_stool  diarrhea  \\\n",
      "0          11.0             12             2.0             0.0       0.0   \n",
      "1           7.0              8             1.0             0.0       0.0   \n",
      "2          13.0             13             2.0             0.0       0.0   \n",
      "3           7.0             12             1.0             0.0       0.0   \n",
      "4          19.0             12             4.0             0.0       3.0   \n",
      "\n",
      "   fatigue  ...  day_of_month  month  is_weekend  days_since_start  \\\n",
      "0      2.0  ...             6      9           0                 1   \n",
      "1      1.0  ...             7      9           0                 2   \n",
      "2      2.0  ...             9      9           1                 3   \n",
      "3      1.0  ...            10      9           1                 4   \n",
      "4      2.0  ...            11      9           0                 5   \n",
      "\n",
      "   severity_mean_lag1  is_flare_lag1  severity_mean_lag2  is_flare_lag2  \\\n",
      "0            0.000000            0.0            0.000000            0.0   \n",
      "1            0.916667            0.0            0.000000            0.0   \n",
      "2            0.875000            0.0            0.916667            0.0   \n",
      "3            1.000000            0.0            0.875000            0.0   \n",
      "4            0.583333            0.0            1.000000            0.0   \n",
      "\n",
      "   severity_mean_lag3  is_flare_lag3  \n",
      "0            0.000000            0.0  \n",
      "1            0.000000            0.0  \n",
      "2            0.000000            0.0  \n",
      "3            0.916667            0.0  \n",
      "4            0.875000            0.0  \n",
      "\n",
      "[5 rows x 46 columns]\n",
      "\n",
      "Información de columnas:\n",
      "<class 'pandas.core.frame.DataFrame'>\n",
      "RangeIndex: 13362 entries, 0 to 13361\n",
      "Data columns (total 46 columns):\n",
      " #   Column                Non-Null Count  Dtype         \n",
      "---  ------                --------------  -----         \n",
      " 0   user_id               13362 non-null  object        \n",
      " 1   date                  13362 non-null  datetime64[ns]\n",
      " 2   severity_mean         13362 non-null  float64       \n",
      " 3   severity_max          13362 non-null  float64       \n",
      " 4   severity_sum          13362 non-null  float64       \n",
      " 5   symptom_count         13362 non-null  int64         \n",
      " 6   abdominal_pain        13362 non-null  float64       \n",
      " 7   blood_in_stool        13362 non-null  float64       \n",
      " 8   diarrhea              13362 non-null  float64       \n",
      " 9   fatigue               13362 non-null  float64       \n",
      " 10  fever                 13362 non-null  float64       \n",
      " 11  joint_pain            13362 non-null  float64       \n",
      " 12  nausea                13362 non-null  float64       \n",
      " 13  other                 13362 non-null  float64       \n",
      " 14  weight_loss           13362 non-null  float64       \n",
      " 15  severity_baseline_7d  13362 non-null  float64       \n",
      " 16  severity_change_pct   13362 non-null  float64       \n",
      " 17  is_flare              13362 non-null  int64         \n",
      " 18  severity_mean_3d      13362 non-null  float64       \n",
      " 19  severity_max_3d       13362 non-null  float64       \n",
      " 20  symptom_count_3d      13362 non-null  float64       \n",
      " 21  severity_mean_7d      13362 non-null  float64       \n",
      " 22  severity_max_7d       13362 non-null  float64       \n",
      " 23  symptom_count_7d      13362 non-null  float64       \n",
      " 24  severity_mean_14d     13362 non-null  float64       \n",
      " 25  severity_max_14d      13362 non-null  float64       \n",
      " 26  symptom_count_14d     13362 non-null  float64       \n",
      " 27  severity_trend_3d     13362 non-null  float64       \n",
      " 28  severity_std_3d       13362 non-null  float64       \n",
      " 29  severity_trend_7d     13362 non-null  float64       \n",
      " 30  severity_std_7d       13362 non-null  float64       \n",
      " 31  diarrhea_7d           13362 non-null  float64       \n",
      " 32  abdominal_pain_7d     13362 non-null  float64       \n",
      " 33  blood_in_stool_7d     13362 non-null  float64       \n",
      " 34  fatigue_7d            13362 non-null  float64       \n",
      " 35  day_of_week           13362 non-null  int64         \n",
      " 36  day_of_month          13362 non-null  int64         \n",
      " 37  month                 13362 non-null  int64         \n",
      " 38  is_weekend            13362 non-null  int64         \n",
      " 39  days_since_start      13362 non-null  int64         \n",
      " 40  severity_mean_lag1    13362 non-null  float64       \n",
      " 41  is_flare_lag1         13362 non-null  float64       \n",
      " 42  severity_mean_lag2    13362 non-null  float64       \n",
      " 43  is_flare_lag2         13362 non-null  float64       \n",
      " 44  severity_mean_lag3    13362 non-null  float64       \n",
      " 45  is_flare_lag3         13362 non-null  float64       \n",
      "dtypes: datetime64[ns](1), float64(37), int64(7), object(1)\n",
      "memory usage: 4.7+ MB\n",
      "None\n",
      "\n",
      "Estadísticas descriptivas:\n",
      "                                date  severity_mean  severity_max  \\\n",
      "count                          13362   13362.000000  13362.000000   \n",
      "mean   2017-12-08 16:53:53.048944896       1.187347      2.515866   \n",
      "min              2015-05-24 00:00:00       0.000000      0.000000   \n",
      "25%              2016-12-21 06:00:00       0.583333      2.000000   \n",
      "50%              2018-02-19 00:00:00       1.000000      3.000000   \n",
      "75%              2018-12-22 00:00:00       1.666667      3.000000   \n",
      "max              2019-12-05 00:00:00       4.000000      4.000000   \n",
      "std                              NaN       0.785659      1.150885   \n",
      "\n",
      "       severity_sum  symptom_count  abdominal_pain  blood_in_stool  \\\n",
      "count  13362.000000   13362.000000    13362.000000    13362.000000   \n",
      "mean      13.137704      10.496258        0.697912        0.140660   \n",
      "min        0.000000       1.000000        0.000000        0.000000   \n",
      "25%        4.000000       5.000000        0.000000        0.000000   \n",
      "50%        9.000000       9.000000        0.000000        0.000000   \n",
      "75%       16.000000      13.000000        1.000000        0.000000   \n",
      "max      113.000000      58.000000        4.000000        4.000000   \n",
      "std       14.697195       7.611085        1.079405        0.519753   \n",
      "\n",
      "           diarrhea       fatigue         fever  ...  day_of_month  \\\n",
      "count  13362.000000  13362.000000  13362.000000  ...  13362.000000   \n",
      "mean       0.498803      1.197613      0.056354  ...     15.603577   \n",
      "min        0.000000      0.000000      0.000000  ...      1.000000   \n",
      "25%        0.000000      0.000000      0.000000  ...      8.000000   \n",
      "50%        0.000000      1.000000      0.000000  ...     16.000000   \n",
      "75%        1.000000      2.000000      0.000000  ...     23.000000   \n",
      "max        4.000000      4.000000      4.000000  ...     31.000000   \n",
      "std        0.966565      1.275338      0.408407  ...      8.809169   \n",
      "\n",
      "              month    is_weekend  days_since_start  severity_mean_lag1  \\\n",
      "count  13362.000000  13362.000000      13362.000000        13362.000000   \n",
      "mean       6.618545      0.280497        180.969166            1.149869   \n",
      "min        1.000000      0.000000          1.000000            0.000000   \n",
      "25%        4.000000      0.000000         15.000000            0.530392   \n",
      "50%        7.000000      0.000000         52.000000            1.000000   \n",
      "75%        9.750000      1.000000        188.000000            1.647059   \n",
      "max       12.000000      1.000000       1614.000000            4.000000   \n",
      "std        3.340658      0.449259        308.230980            0.791141   \n",
      "\n",
      "       is_flare_lag1  severity_mean_lag2  is_flare_lag2  severity_mean_lag3  \\\n",
      "count   13362.000000        13362.000000   13362.000000        13362.000000   \n",
      "mean        0.169436            1.113305       0.163748            1.078709   \n",
      "min         0.000000            0.000000       0.000000            0.000000   \n",
      "25%         0.000000            0.500000       0.000000            0.500000   \n",
      "50%         0.000000            1.000000       0.000000            1.000000   \n",
      "75%         0.000000            1.600000       0.000000            1.571429   \n",
      "max         1.000000            4.000000       1.000000            4.000000   \n",
      "std         0.375150            0.793999       0.370061            0.794303   \n",
      "\n",
      "       is_flare_lag3  \n",
      "count   13362.000000  \n",
      "mean        0.157012  \n",
      "min         0.000000  \n",
      "25%         0.000000  \n",
      "50%         0.000000  \n",
      "75%         0.000000  \n",
      "max         1.000000  \n",
      "std         0.363826  \n",
      "\n",
      "[8 rows x 45 columns]\n"
     ]
    }
   ],
   "execution_count": 32
  },
  {
   "cell_type": "markdown",
   "metadata": {},
   "source": [
    "## 2️⃣ Preparar Datos: Train/Test Split TEMPORAL\n",
    "\n",
    "**⚠️ IMPORTANTE:** Para series temporales, NO usamos split aleatorio.  \n",
    "Usamos split temporal para simular predicción del futuro:\n",
    "\n",
    "- **Train**: Primeros 80% de días (ordenados por fecha)\n",
    "- **Test**: Últimos 20% de días\n",
    "\n",
    "Esto evita **data leakage** (filtrar información del futuro al pasado)"
   ]
  },
  {
   "cell_type": "code",
   "metadata": {
    "ExecuteTime": {
     "end_time": "2025-10-13T09:48:21.946529Z",
     "start_time": "2025-10-13T09:48:21.929345Z"
    }
   },
   "source": [
    "# Ordenar por fecha (importante!)\n",
    "df = df.sort_values('date').reset_index(drop=True)\n",
    "\n",
    "# Calcular punto de corte temporal (80% train, 20% test)\n",
    "train_size = int(len(df) * 0.8)\n",
    "split_date = df.iloc[train_size]['date']\n",
    "\n",
    "print(f'📅 Split temporal:')\n",
    "print(f'  Train: {df[\"date\"].min()} → {split_date} ({train_size:,} registros)')\n",
    "print(f'  Test:  {split_date} → {df[\"date\"].max()} ({len(df)-train_size:,} registros)')\n",
    "\n",
    "# Dividir datos\n",
    "train_df = df[df['date'] < split_date].copy()\n",
    "test_df = df[df['date'] >= split_date].copy()\n",
    "\n",
    "# Verificar que no hay overlap de usuarios entre fechas (está bien que haya overlap)\n",
    "print(f'\\n👥 Usuarios en train: {train_df[\"user_id\"].nunique()}')\n",
    "print(f'👥 Usuarios en test: {test_df[\"user_id\"].nunique()}')\n",
    "print(f'👥 Usuarios en ambos: {len(set(train_df[\"user_id\"]) & set(test_df[\"user_id\"]))}')"
   ],
   "outputs": [
    {
     "name": "stdout",
     "output_type": "stream",
     "text": [
      "📅 Split temporal:\n",
      "  Train: 2015-05-24 00:00:00 → 2019-02-25 00:00:00 (10,689 registros)\n",
      "  Test:  2019-02-25 00:00:00 → 2019-12-05 00:00:00 (2,673 registros)\n",
      "\n",
      "👥 Usuarios en train: 285\n",
      "👥 Usuarios en test: 84\n",
      "👥 Usuarios en ambos: 44\n"
     ]
    }
   ],
   "execution_count": 33
  },
  {
   "cell_type": "code",
   "metadata": {
    "ExecuteTime": {
     "end_time": "2025-10-13T09:48:21.980515Z",
     "start_time": "2025-10-13T09:48:21.975478Z"
    }
   },
   "source": [
    "# Verificar balance en train y test\n",
    "print('\\n📊 Balance en Train:')\n",
    "print(train_df['is_flare'].value_counts())\n",
    "print(f'% Flare: {train_df[\"is_flare\"].mean()*100:.2f}%')\n",
    "\n",
    "print('\\n📊 Balance en Test:')\n",
    "print(test_df['is_flare'].value_counts())\n",
    "print(f'% Flare: {test_df[\"is_flare\"].mean()*100:.2f}%')\n",
    "\n",
    "# Si el balance es muy diferente, es una señal de que hay patrones temporales\n",
    "if abs(train_df['is_flare'].mean() - test_df['is_flare'].mean()) > 0.05:\n",
    "    print('\\n⚠️ Diferencia significativa en balance train/test')\n",
    "    print('   Esto es esperado en datos reales (patrones temporales)')\n",
    "else:\n",
    "    print('\\n✓ Balance similar en train y test')"
   ],
   "outputs": [
    {
     "name": "stdout",
     "output_type": "stream",
     "text": [
      "\n",
      "📊 Balance en Train:\n",
      "is_flare\n",
      "0    8765\n",
      "1    1921\n",
      "Name: count, dtype: int64\n",
      "% Flare: 17.98%\n",
      "\n",
      "📊 Balance en Test:\n",
      "is_flare\n",
      "0    2233\n",
      "1     443\n",
      "Name: count, dtype: int64\n",
      "% Flare: 16.55%\n",
      "\n",
      "✓ Balance similar en train y test\n"
     ]
    }
   ],
   "execution_count": 34
  },
  {
   "cell_type": "code",
   "metadata": {
    "ExecuteTime": {
     "end_time": "2025-10-13T09:48:22.029474Z",
     "start_time": "2025-10-13T09:48:22.022606Z"
    }
   },
   "source": [
    "# Preparar X (features) y y (target)\n",
    "# Excluir columnas no-features: user_id, date, is_flare\n",
    "feature_cols = [col for col in df.columns if col not in ['user_id', 'date', 'is_flare']]\n",
    "\n",
    "X_train = train_df[feature_cols]\n",
    "y_train = train_df['is_flare']\n",
    "\n",
    "X_test = test_df[feature_cols]\n",
    "y_test = test_df['is_flare']\n",
    "\n",
    "print(f'\\n✓ Datos preparados:')\n",
    "print(f'  X_train: {X_train.shape}')\n",
    "print(f'  y_train: {y_train.shape} - {y_train.sum()} flares ({y_train.mean()*100:.1f}%)')\n",
    "print(f'  X_test:  {X_test.shape}')\n",
    "print(f'  y_test:  {y_test.shape} - {y_test.sum()} flares ({y_test.mean()*100:.1f}%)')\n",
    "print(f'\\n  Features ({len(feature_cols)}): {feature_cols[:10]}...')"
   ],
   "outputs": [
    {
     "name": "stdout",
     "output_type": "stream",
     "text": [
      "\n",
      "✓ Datos preparados:\n",
      "  X_train: (10686, 43)\n",
      "  y_train: (10686,) - 1921 flares (18.0%)\n",
      "  X_test:  (2676, 43)\n",
      "  y_test:  (2676,) - 443 flares (16.6%)\n",
      "\n",
      "  Features (43): ['severity_mean', 'severity_max', 'severity_sum', 'symptom_count', 'abdominal_pain', 'blood_in_stool', 'diarrhea', 'fatigue', 'fever', 'joint_pain']...\n"
     ]
    }
   ],
   "execution_count": 35
  },
  {
   "cell_type": "markdown",
   "metadata": {},
   "source": [
    "## 3️⃣ Normalización de Features\n",
    "\n",
    "**¿Por qué normalizar?**\n",
    "- Algunos modelos (Logistic Regression, SVM) son sensibles a la escala\n",
    "- Features tienen rangos muy diferentes (ej: severity 0-4 vs days_since_start 1-1000)\n",
    "- Mejora convergencia del entrenamiento\n",
    "\n",
    "**StandardScaler:** Transforma features a media=0 y std=1"
   ]
  },
  {
   "cell_type": "code",
   "metadata": {
    "ExecuteTime": {
     "end_time": "2025-10-13T09:48:22.073997Z",
     "start_time": "2025-10-13T09:48:22.055122Z"
    }
   },
   "source": [
    "# Crear scaler y ajustar SOLO con datos de train\n",
    "scaler = StandardScaler()\n",
    "X_train_scaled = scaler.fit_transform(X_train)\n",
    "X_test_scaled = scaler.transform(X_test)  # Usar los mismos parámetros de train\n",
    "\n",
    "# ⚠️ NUNCA hacer fit_transform en test - causaría data leakage\n",
    "\n",
    "print('✓ Features normalizadas')\n",
    "print(f'  Media de features (train): {X_train_scaled.mean(axis=0).mean():.6f} (debe ser ~0)')\n",
    "print(f'  Std de features (train): {X_train_scaled.std(axis=0).mean():.6f} (debe ser ~1)')\n",
    "\n",
    "# Convertir de vuelta a DataFrame para mantener nombres de columnas\n",
    "X_train_scaled = pd.DataFrame(X_train_scaled, columns=feature_cols, index=X_train.index)\n",
    "X_test_scaled = pd.DataFrame(X_test_scaled, columns=feature_cols, index=X_test.index)"
   ],
   "outputs": [
    {
     "name": "stdout",
     "output_type": "stream",
     "text": [
      "✓ Features normalizadas\n",
      "  Media de features (train): 0.000000 (debe ser ~0)\n",
      "  Std de features (train): 1.000000 (debe ser ~1)\n"
     ]
    }
   ],
   "execution_count": 36
  },
  {
   "cell_type": "markdown",
   "metadata": {},
   "source": [
    "## 4️⃣ Funciones Helper para Evaluación\n",
    "\n",
    "Vamos a crear funciones reutilizables para evaluar modelos de forma consistente"
   ]
  },
  {
   "cell_type": "code",
   "metadata": {
    "ExecuteTime": {
     "end_time": "2025-10-13T09:48:22.092070Z",
     "start_time": "2025-10-13T09:48:22.085140Z"
    }
   },
   "source": [
    "def evaluate_model(model, X_test, y_test, model_name='Model', threshold=0.5):\n",
    "    \"\"\"\n",
    "    Evalúa un modelo clasificador con métricas completas\n",
    "    \n",
    "    Parámetros:\n",
    "    -----------\n",
    "    model : estimador entrenado\n",
    "        Modelo ya entrenado con .fit()\n",
    "    X_test : array-like\n",
    "        Features de test\n",
    "    y_test : array-like\n",
    "        Target real de test\n",
    "    model_name : str\n",
    "        Nombre del modelo para mostrar\n",
    "    threshold : float\n",
    "        Umbral de clasificación (default 0.5)\n",
    "    \n",
    "    Retorna:\n",
    "    --------\n",
    "    dict : Diccionario con métricas\n",
    "    \"\"\"\n",
    "    # Predecir probabilidades\n",
    "    y_proba = model.predict_proba(X_test)[:, 1]  # Probabilidad de clase positiva (flare)\n",
    "    \n",
    "    # Predecir clases con threshold\n",
    "    y_pred = (y_proba >= threshold).astype(int)\n",
    "    \n",
    "    # Calcular métricas\n",
    "    precision = precision_score(y_test, y_pred, zero_division=0)\n",
    "    recall = recall_score(y_test, y_pred)\n",
    "    f1 = f1_score(y_test, y_pred)\n",
    "    f2 = fbeta_score(y_test, y_pred, beta=2)  # F2 prioriza recall\n",
    "    \n",
    "    # ROC-AUC y PR-AUC\n",
    "    roc_auc = roc_auc_score(y_test, y_proba)\n",
    "    pr_auc = average_precision_score(y_test, y_proba)\n",
    "    \n",
    "    # Confusion matrix\n",
    "    cm = confusion_matrix(y_test, y_pred)\n",
    "    tn, fp, fn, tp = cm.ravel()\n",
    "    \n",
    "    # Mostrar resultados\n",
    "    print(f'\\n{'=' * 60}')\n",
    "    print(f'📊 EVALUACIÓN: {model_name}')\n",
    "    print(f'{'=' * 60}')\n",
    "    \n",
    "    print(f'\\n🎯 Métricas Principales (threshold={threshold}):')\n",
    "    print(f'  Precision: {precision:.3f} - De los que predecimos flare, {precision*100:.1f}% son correctos')\n",
    "    print(f'  Recall:    {recall:.3f} - Detectamos {recall*100:.1f}% de todos los flares reales')\n",
    "    print(f'  F1-Score:  {f1:.3f} - Balance entre precision y recall')\n",
    "    print(f'  F2-Score:  {f2:.3f} - Prioriza recall (mejor para medicina)')\n",
    "    \n",
    "    print(f'\\n📈 Métricas de Probabilidad:')\n",
    "    print(f'  ROC-AUC:   {roc_auc:.3f} - Capacidad de separar clases')\n",
    "    print(f'  PR-AUC:    {pr_auc:.3f} - Mejor para datos desbalanceados')\n",
    "    \n",
    "    print(f'\\n🔢 Confusion Matrix:')\n",
    "    print(f'  TN (True Neg):  {tn:>5} - No-flare correctamente predicho')\n",
    "    print(f'  FP (False Pos): {fp:>5} - Falsa alarma (predecimos flare, pero no)')\n",
    "    print(f'  FN (False Neg): {fn:>5} - ⚠️ Flare perdido (NO detectado)')\n",
    "    print(f'  TP (True Pos):  {tp:>5} - Flare correctamente detectado')\n",
    "    \n",
    "    # Interpretación médica\n",
    "    print(f'\\n💊 Interpretación Médica:')\n",
    "    if fn > 0:\n",
    "        print(f'  ⚠️ Perdimos {fn} flares ({fn/(tp+fn)*100:.1f}% de todos los flares)')\n",
    "        print(f'     Estos pacientes NO recibieron alerta temprana')\n",
    "    if fp > 0:\n",
    "        print(f'  ⚡ {fp} falsas alarmas ({fp/(fp+tn)*100:.1f}% de días sin flare)')\n",
    "        print(f'     Alertas innecesarias, pero preferibles a perder flares reales')\n",
    "    \n",
    "    # Retornar métricas\n",
    "    return {\n",
    "        'model_name': model_name,\n",
    "        'threshold': threshold,\n",
    "        'precision': precision,\n",
    "        'recall': recall,\n",
    "        'f1': f1,\n",
    "        'f2': f2,\n",
    "        'roc_auc': roc_auc,\n",
    "        'pr_auc': pr_auc,\n",
    "        'tn': tn, 'fp': fp, 'fn': fn, 'tp': tp,\n",
    "        'y_pred': y_pred,\n",
    "        'y_proba': y_proba\n",
    "    }\n",
    "\n",
    "print('✓ Función evaluate_model() definida')"
   ],
   "outputs": [
    {
     "name": "stdout",
     "output_type": "stream",
     "text": [
      "✓ Función evaluate_model() definida\n"
     ]
    }
   ],
   "execution_count": 37
  },
  {
   "cell_type": "code",
   "metadata": {
    "ExecuteTime": {
     "end_time": "2025-10-13T09:48:22.166757Z",
     "start_time": "2025-10-13T09:48:22.162643Z"
    }
   },
   "source": [
    "def plot_confusion_matrix(y_test, y_pred, model_name='Model'):\n",
    "    \"\"\"\n",
    "    Visualiza la confusion matrix de forma clara\n",
    "    \"\"\"\n",
    "    cm = confusion_matrix(y_test, y_pred)\n",
    "    \n",
    "    plt.figure(figsize=(8, 6))\n",
    "    sns.heatmap(cm, annot=True, fmt='d', cmap='Blues', \n",
    "                xticklabels=['No Flare', 'Flare'],\n",
    "                yticklabels=['No Flare', 'Flare'])\n",
    "    plt.title(f'Confusion Matrix - {model_name}', fontsize=14, fontweight='bold')\n",
    "    plt.ylabel('Real')\n",
    "    plt.xlabel('Predicho')\n",
    "    plt.tight_layout()\n",
    "    plt.show()\n",
    "\n",
    "print('✓ Función plot_confusion_matrix() definida')"
   ],
   "outputs": [
    {
     "name": "stdout",
     "output_type": "stream",
     "text": [
      "✓ Función plot_confusion_matrix() definida\n"
     ]
    }
   ],
   "execution_count": 38
  },
  {
   "cell_type": "code",
   "metadata": {
    "ExecuteTime": {
     "end_time": "2025-10-13T09:48:22.203304Z",
     "start_time": "2025-10-13T09:48:22.198444Z"
    }
   },
   "source": [
    "def plot_precision_recall_curve(y_test, y_proba, model_name='Model'):\n",
    "    \"\"\"\n",
    "    Visualiza la curva Precision-Recall\n",
    "    \n",
    "    Esta curva muestra el trade-off entre precision y recall\n",
    "    para diferentes thresholds de clasificación\n",
    "    \"\"\"\n",
    "    precision, recall, thresholds = precision_recall_curve(y_test, y_proba)\n",
    "    pr_auc = auc(recall, precision)\n",
    "    \n",
    "    plt.figure(figsize=(10, 6))\n",
    "    plt.plot(recall, precision, linewidth=2, label=f'{model_name} (AUC={pr_auc:.3f})')\n",
    "    plt.xlabel('Recall (Sensibilidad)', fontsize=12)\n",
    "    plt.ylabel('Precision', fontsize=12)\n",
    "    plt.title('Precision-Recall Curve', fontsize=14, fontweight='bold')\n",
    "    plt.legend()\n",
    "    plt.grid(True, alpha=0.3)\n",
    "    \n",
    "    # Línea de baseline (prevalencia de flares)\n",
    "    baseline = y_test.mean()\n",
    "    plt.axhline(y=baseline, color='r', linestyle='--', \n",
    "                label=f'Baseline (prevalencia={baseline:.3f})')\n",
    "    plt.legend()\n",
    "    \n",
    "    plt.tight_layout()\n",
    "    plt.show()\n",
    "\n",
    "print('✓ Función plot_precision_recall_curve() definida')"
   ],
   "outputs": [
    {
     "name": "stdout",
     "output_type": "stream",
     "text": [
      "✓ Función plot_precision_recall_curve() definida\n"
     ]
    }
   ],
   "execution_count": 39
  },
  {
   "cell_type": "markdown",
   "metadata": {},
   "source": [
    "## 5️⃣ Modelo Baseline: Logistic Regression\n",
    "\n",
    "**¿Por qué empezar con Logistic Regression?**\n",
    "- Simple y rápido de entrenar\n",
    "- Interpretable (podemos ver qué features son importantes)\n",
    "- Buen baseline para comparar modelos más complejos\n",
    "- Funciona bien con datos normalizados\n",
    "\n",
    "**Estrategia:**\n",
    "1. Entrenar sin ajustes (baseline puro)\n",
    "2. Entrenar con `class_weight='balanced'` para manejar desbalanceo"
   ]
  },
  {
   "cell_type": "code",
   "metadata": {
    "ExecuteTime": {
     "end_time": "2025-10-13T09:48:22.291321Z",
     "start_time": "2025-10-13T09:48:22.225197Z"
    }
   },
   "source": [
    "print('\\n' + '='*80)\n",
    "print('🔵 MODELO 1: Logistic Regression (sin ajustes)')\n",
    "print('='*80)\n",
    "\n",
    "# Entrenar modelo sin ajustes de desbalanceo\n",
    "lr_baseline = LogisticRegression(\n",
    "    max_iter=1000,  # Iteraciones suficientes para convergencia\n",
    "    random_state=RANDOM_SEED\n",
    ")\n",
    "\n",
    "lr_baseline.fit(X_train_scaled, y_train)\n",
    "print('✓ Modelo entrenado')\n",
    "\n",
    "# Evaluar\n",
    "results_lr_baseline = evaluate_model(\n",
    "    lr_baseline, X_test_scaled, y_test, \n",
    "    model_name='Logistic Regression (baseline)'\n",
    ")"
   ],
   "outputs": [
    {
     "name": "stdout",
     "output_type": "stream",
     "text": [
      "\n",
      "================================================================================\n",
      "🔵 MODELO 1: Logistic Regression (sin ajustes)\n",
      "================================================================================\n",
      "✓ Modelo entrenado\n",
      "\n",
      "============================================================\n",
      "📊 EVALUACIÓN: Logistic Regression (baseline)\n",
      "============================================================\n",
      "\n",
      "🎯 Métricas Principales (threshold=0.5):\n",
      "  Precision: 0.896 - De los que predecimos flare, 89.6% son correctos\n",
      "  Recall:    0.774 - Detectamos 77.4% de todos los flares reales\n",
      "  F1-Score:  0.831 - Balance entre precision y recall\n",
      "  F2-Score:  0.796 - Prioriza recall (mejor para medicina)\n",
      "\n",
      "📈 Métricas de Probabilidad:\n",
      "  ROC-AUC:   0.984 - Capacidad de separar clases\n",
      "  PR-AUC:    0.937 - Mejor para datos desbalanceados\n",
      "\n",
      "🔢 Confusion Matrix:\n",
      "  TN (True Neg):   2193 - No-flare correctamente predicho\n",
      "  FP (False Pos):    40 - Falsa alarma (predecimos flare, pero no)\n",
      "  FN (False Neg):   100 - ⚠️ Flare perdido (NO detectado)\n",
      "  TP (True Pos):    343 - Flare correctamente detectado\n",
      "\n",
      "💊 Interpretación Médica:\n",
      "  ⚠️ Perdimos 100 flares (22.6% de todos los flares)\n",
      "     Estos pacientes NO recibieron alerta temprana\n",
      "  ⚡ 40 falsas alarmas (1.8% de días sin flare)\n",
      "     Alertas innecesarias, pero preferibles a perder flares reales\n"
     ]
    }
   ],
   "execution_count": 40
  },
  {
   "cell_type": "code",
   "metadata": {
    "ExecuteTime": {
     "end_time": "2025-10-13T09:48:22.561589Z",
     "start_time": "2025-10-13T09:48:22.304216Z"
    }
   },
   "source": [
    "# Visualizar confusion matrix\n",
    "plot_confusion_matrix(y_test, results_lr_baseline['y_pred'], 'Logistic Regression (baseline)')\n",
    "\n",
    "# Visualizar curva PR\n",
    "plot_precision_recall_curve(y_test, results_lr_baseline['y_proba'], 'Logistic Regression (baseline)')"
   ],
   "outputs": [
    {
     "data": {
      "text/plain": [
       "<Figure size 800x600 with 2 Axes>"
      ],
      "image/png": "[encoded data removed]"
     },
     "metadata": {},
     "output_type": "display_data",
     "jetTransient": {
      "display_id": null
     }
    },
    {
     "data": {
      "text/plain": [
       "<Figure size 1000x600 with 1 Axes>"
      ],
      "image/png": "[encoded data removed]"
     },
     "metadata": {},
     "output_type": "display_data",
     "jetTransient": {
      "display_id": null
     }
    }
   ],
   "execution_count": 41
  },
  {
   "cell_type": "code",
   "metadata": {
    "ExecuteTime": {
     "end_time": "2025-10-13T09:48:22.640793Z",
     "start_time": "2025-10-13T09:48:22.571304Z"
    }
   },
   "source": [
    "print('\\n' + '='*80)\n",
    "print('🔵 MODELO 2: Logistic Regression con CLASS WEIGHTS')\n",
    "print('='*80)\n",
    "print('\\n💡 class_weight=\"balanced\" ajusta automáticamente los pesos de las clases')\n",
    "print('   Penaliza más los errores en la clase minoritaria (flares)')\n",
    "print('   Fórmula: weight = n_samples / (n_classes * n_samples_class)\\n')\n",
    "\n",
    "# Entrenar con class weights\n",
    "lr_balanced = LogisticRegression(\n",
    "    max_iter=1000,\n",
    "    class_weight='balanced',  # ⭐ Maneja el desbalanceo\n",
    "    random_state=RANDOM_SEED\n",
    ")\n",
    "\n",
    "lr_balanced.fit(X_train_scaled, y_train)\n",
    "print('✓ Modelo entrenado con class weights')\n",
    "\n",
    "# Calcular pesos aplicados\n",
    "from sklearn.utils.class_weight import compute_class_weight\n",
    "class_weights = compute_class_weight('balanced', classes=np.unique(y_train), y=y_train)\n",
    "print(f'\\nPesos aplicados:')\n",
    "print(f'  Clase 0 (no-flare): {class_weights[0]:.3f}')\n",
    "print(f'  Clase 1 (flare):    {class_weights[1]:.3f}')\n",
    "print(f'  Ratio: {class_weights[1]/class_weights[0]:.2f}x más peso a flares')\n",
    "\n",
    "# Evaluar\n",
    "results_lr_balanced = evaluate_model(\n",
    "    lr_balanced, X_test_scaled, y_test,\n",
    "    model_name='Logistic Regression (balanced)'\n",
    ")"
   ],
   "outputs": [
    {
     "name": "stdout",
     "output_type": "stream",
     "text": [
      "\n",
      "================================================================================\n",
      "🔵 MODELO 2: Logistic Regression con CLASS WEIGHTS\n",
      "================================================================================\n",
      "\n",
      "💡 class_weight=\"balanced\" ajusta automáticamente los pesos de las clases\n",
      "   Penaliza más los errores en la clase minoritaria (flares)\n",
      "   Fórmula: weight = n_samples / (n_classes * n_samples_class)\n",
      "\n",
      "✓ Modelo entrenado con class weights\n",
      "\n",
      "Pesos aplicados:\n",
      "  Clase 0 (no-flare): 0.610\n",
      "  Clase 1 (flare):    2.781\n",
      "  Ratio: 4.56x más peso a flares\n",
      "\n",
      "============================================================\n",
      "📊 EVALUACIÓN: Logistic Regression (balanced)\n",
      "============================================================\n",
      "\n",
      "🎯 Métricas Principales (threshold=0.5):\n",
      "  Precision: 0.774 - De los que predecimos flare, 77.4% son correctos\n",
      "  Recall:    0.905 - Detectamos 90.5% de todos los flares reales\n",
      "  F1-Score:  0.835 - Balance entre precision y recall\n",
      "  F2-Score:  0.876 - Prioriza recall (mejor para medicina)\n",
      "\n",
      "📈 Métricas de Probabilidad:\n",
      "  ROC-AUC:   0.985 - Capacidad de separar clases\n",
      "  PR-AUC:    0.938 - Mejor para datos desbalanceados\n",
      "\n",
      "🔢 Confusion Matrix:\n",
      "  TN (True Neg):   2116 - No-flare correctamente predicho\n",
      "  FP (False Pos):   117 - Falsa alarma (predecimos flare, pero no)\n",
      "  FN (False Neg):    42 - ⚠️ Flare perdido (NO detectado)\n",
      "  TP (True Pos):    401 - Flare correctamente detectado\n",
      "\n",
      "💊 Interpretación Médica:\n",
      "  ⚠️ Perdimos 42 flares (9.5% de todos los flares)\n",
      "     Estos pacientes NO recibieron alerta temprana\n",
      "  ⚡ 117 falsas alarmas (5.2% de días sin flare)\n",
      "     Alertas innecesarias, pero preferibles a perder flares reales\n"
     ]
    }
   ],
   "execution_count": 42
  },
  {
   "cell_type": "code",
   "metadata": {
    "ExecuteTime": {
     "end_time": "2025-10-13T09:48:22.664214Z",
     "start_time": "2025-10-13T09:48:22.658175Z"
    }
   },
   "source": [
    "# Comparar ambos modelos de Logistic Regression\n",
    "print('\\n' + '='*80)\n",
    "print('📊 COMPARACIÓN: Logistic Regression')\n",
    "print('='*80)\n",
    "\n",
    "comparison_df = pd.DataFrame([\n",
    "    {\n",
    "        'Modelo': 'LR Baseline',\n",
    "        'Precision': results_lr_baseline['precision'],\n",
    "        'Recall': results_lr_baseline['recall'],\n",
    "        'F1': results_lr_baseline['f1'],\n",
    "        'F2': results_lr_baseline['f2'],\n",
    "        'PR-AUC': results_lr_baseline['pr_auc'],\n",
    "        'FN (perdidos)': results_lr_baseline['fn']\n",
    "    },\n",
    "    {\n",
    "        'Modelo': 'LR Balanced',\n",
    "        'Precision': results_lr_balanced['precision'],\n",
    "        'Recall': results_lr_balanced['recall'],\n",
    "        'F1': results_lr_balanced['f1'],\n",
    "        'F2': results_lr_balanced['f2'],\n",
    "        'PR-AUC': results_lr_balanced['pr_auc'],\n",
    "        'FN (perdidos)': results_lr_balanced['fn']\n",
    "    }\n",
    "])\n",
    "\n",
    "print(comparison_df.to_string(index=False))\n",
    "\n",
    "print(f'\\n💡 Observaciones:')\n",
    "print(f'  • Balanced mejora Recall: {results_lr_baseline[\"recall\"]:.3f} → {results_lr_balanced[\"recall\"]:.3f}')\n",
    "print(f'  • Pero reduce Precision: {results_lr_baseline[\"precision\"]:.3f} → {results_lr_balanced[\"precision\"]:.3f}')\n",
    "print(f'  • Trade-off típico al manejar desbalanceo')\n",
    "print(f'  • En medicina, preferimos mayor Recall (no perder flares)')"
   ],
   "outputs": [
    {
     "name": "stdout",
     "output_type": "stream",
     "text": [
      "\n",
      "================================================================================\n",
      "📊 COMPARACIÓN: Logistic Regression\n",
      "================================================================================\n",
      "     Modelo  Precision   Recall       F1       F2   PR-AUC  FN (perdidos)\n",
      "LR Baseline   0.895561 0.774266 0.830508 0.795824 0.937162            100\n",
      "LR Balanced   0.774131 0.905192 0.834547 0.875546 0.937682             42\n",
      "\n",
      "💡 Observaciones:\n",
      "  • Balanced mejora Recall: 0.774 → 0.905\n",
      "  • Pero reduce Precision: 0.896 → 0.774\n",
      "  • Trade-off típico al manejar desbalanceo\n",
      "  • En medicina, preferimos mayor Recall (no perder flares)\n"
     ]
    }
   ],
   "execution_count": 43
  },
  {
   "cell_type": "markdown",
   "metadata": {},
   "source": [
    "## 6️⃣ Random Forest con Diferentes Estrategias\n",
    "\n",
    "**Random Forest:**\n",
    "- Ensemble de árboles de decisión\n",
    "- Robusto, menos propenso a overfitting que un solo árbol\n",
    "- No requiere normalización de features\n",
    "- Proporciona feature importance\n",
    "\n",
    "**Estrategias a probar:**\n",
    "1. Baseline (sin ajustes)\n",
    "2. Class weights\n",
    "3. BalancedRandomForest (submuestrea internamente)"
   ]
  },
  {
   "cell_type": "code",
   "metadata": {
    "ExecuteTime": {
     "end_time": "2025-10-13T09:48:22.962070Z",
     "start_time": "2025-10-13T09:48:22.700771Z"
    }
   },
   "source": [
    "print('\\n' + '='*80)\n",
    "print('🌳 MODELO 3: Random Forest (baseline)')\n",
    "print('='*80)\n",
    "\n",
    "# Random Forest sin ajustes (usamos datos NO normalizados, RF no lo necesita)\n",
    "rf_baseline = RandomForestClassifier(\n",
    "    n_estimators=100,  # Número de árboles\n",
    "    max_depth=10,      # Profundidad máxima (evita overfitting)\n",
    "    min_samples_split=20,  # Mínimo de muestras para dividir un nodo\n",
    "    min_samples_leaf=10,   # Mínimo de muestras en una hoja\n",
    "    random_state=RANDOM_SEED,\n",
    "    n_jobs=-1  # Usar todos los cores del CPU\n",
    ")\n",
    "\n",
    "print('Entrenando Random Forest... (puede tardar un poco)')\n",
    "rf_baseline.fit(X_train, y_train)  # Sin normalizar\n",
    "print('✓ Modelo entrenado')\n",
    "\n",
    "# Evaluar\n",
    "results_rf_baseline = evaluate_model(\n",
    "    rf_baseline, X_test, y_test,\n",
    "    model_name='Random Forest (baseline)'\n",
    ")"
   ],
   "outputs": [
    {
     "name": "stdout",
     "output_type": "stream",
     "text": [
      "\n",
      "================================================================================\n",
      "🌳 MODELO 3: Random Forest (baseline)\n",
      "================================================================================\n",
      "Entrenando Random Forest... (puede tardar un poco)\n",
      "✓ Modelo entrenado\n",
      "\n",
      "============================================================\n",
      "📊 EVALUACIÓN: Random Forest (baseline)\n",
      "============================================================\n",
      "\n",
      "🎯 Métricas Principales (threshold=0.5):\n",
      "  Precision: 1.000 - De los que predecimos flare, 100.0% son correctos\n",
      "  Recall:    0.986 - Detectamos 98.6% de todos los flares reales\n",
      "  F1-Score:  0.993 - Balance entre precision y recall\n",
      "  F2-Score:  0.989 - Prioriza recall (mejor para medicina)\n",
      "\n",
      "📈 Métricas de Probabilidad:\n",
      "  ROC-AUC:   1.000 - Capacidad de separar clases\n",
      "  PR-AUC:    1.000 - Mejor para datos desbalanceados\n",
      "\n",
      "🔢 Confusion Matrix:\n",
      "  TN (True Neg):   2233 - No-flare correctamente predicho\n",
      "  FP (False Pos):     0 - Falsa alarma (predecimos flare, pero no)\n",
      "  FN (False Neg):     6 - ⚠️ Flare perdido (NO detectado)\n",
      "  TP (True Pos):    437 - Flare correctamente detectado\n",
      "\n",
      "💊 Interpretación Médica:\n",
      "  ⚠️ Perdimos 6 flares (1.4% de todos los flares)\n",
      "     Estos pacientes NO recibieron alerta temprana\n"
     ]
    }
   ],
   "execution_count": 44
  },
  {
   "cell_type": "code",
   "metadata": {
    "ExecuteTime": {
     "end_time": "2025-10-13T09:48:23.226496Z",
     "start_time": "2025-10-13T09:48:22.967377Z"
    }
   },
   "source": [
    "print('\\n' + '='*80)\n",
    "print('🌳 MODELO 4: Random Forest con CLASS WEIGHTS')\n",
    "print('='*80)\n",
    "\n",
    "rf_balanced = RandomForestClassifier(\n",
    "    n_estimators=100,\n",
    "    max_depth=10,\n",
    "    min_samples_split=20,\n",
    "    min_samples_leaf=10,\n",
    "    class_weight='balanced',  # ⭐ Maneja desbalanceo\n",
    "    random_state=RANDOM_SEED,\n",
    "    n_jobs=-1\n",
    ")\n",
    "\n",
    "print('Entrenando Random Forest con class weights...')\n",
    "rf_balanced.fit(X_train, y_train)\n",
    "print('✓ Modelo entrenado')\n",
    "\n",
    "results_rf_balanced = evaluate_model(\n",
    "    rf_balanced, X_test, y_test,\n",
    "    model_name='Random Forest (balanced)'\n",
    ")"
   ],
   "outputs": [
    {
     "name": "stdout",
     "output_type": "stream",
     "text": [
      "\n",
      "================================================================================\n",
      "🌳 MODELO 4: Random Forest con CLASS WEIGHTS\n",
      "================================================================================\n",
      "Entrenando Random Forest con class weights...\n",
      "✓ Modelo entrenado\n",
      "\n",
      "============================================================\n",
      "📊 EVALUACIÓN: Random Forest (balanced)\n",
      "============================================================\n",
      "\n",
      "🎯 Métricas Principales (threshold=0.5):\n",
      "  Precision: 0.993 - De los que predecimos flare, 99.3% son correctos\n",
      "  Recall:    0.998 - Detectamos 99.8% de todos los flares reales\n",
      "  F1-Score:  0.995 - Balance entre precision y recall\n",
      "  F2-Score:  0.997 - Prioriza recall (mejor para medicina)\n",
      "\n",
      "📈 Métricas de Probabilidad:\n",
      "  ROC-AUC:   1.000 - Capacidad de separar clases\n",
      "  PR-AUC:    1.000 - Mejor para datos desbalanceados\n",
      "\n",
      "🔢 Confusion Matrix:\n",
      "  TN (True Neg):   2230 - No-flare correctamente predicho\n",
      "  FP (False Pos):     3 - Falsa alarma (predecimos flare, pero no)\n",
      "  FN (False Neg):     1 - ⚠️ Flare perdido (NO detectado)\n",
      "  TP (True Pos):    442 - Flare correctamente detectado\n",
      "\n",
      "💊 Interpretación Médica:\n",
      "  ⚠️ Perdimos 1 flares (0.2% de todos los flares)\n",
      "     Estos pacientes NO recibieron alerta temprana\n",
      "  ⚡ 3 falsas alarmas (0.1% de días sin flare)\n",
      "     Alertas innecesarias, pero preferibles a perder flares reales\n"
     ]
    }
   ],
   "execution_count": 45
  },
  {
   "cell_type": "code",
   "metadata": {
    "ExecuteTime": {
     "end_time": "2025-10-13T09:48:23.565682Z",
     "start_time": "2025-10-13T09:48:23.230974Z"
    }
   },
   "source": [
    "print('\\n' + '='*80)\n",
    "print('🌳 MODELO 5: Balanced Random Forest')\n",
    "print('='*80)\n",
    "print('\\n💡 BalancedRandomForest de imbalanced-learn:')\n",
    "print('   Hace undersampling de la clase mayoritaria en cada árbol')\n",
    "print('   Cada árbol ve un subset balanceado de los datos\\n')\n",
    "\n",
    "brf = BalancedRandomForestClassifier(\n",
    "    n_estimators=100,\n",
    "    max_depth=10,\n",
    "    min_samples_split=20,\n",
    "    min_samples_leaf=10,\n",
    "    sampling_strategy='auto',  # Balancea automáticamente\n",
    "    replacement=True,  # Permite repetir muestras\n",
    "    random_state=RANDOM_SEED,\n",
    "    n_jobs=-1\n",
    ")\n",
    "\n",
    "print('Entrenando Balanced Random Forest...')\n",
    "brf.fit(X_train, y_train)\n",
    "print('✓ Modelo entrenado')\n",
    "\n",
    "results_brf = evaluate_model(\n",
    "    brf, X_test, y_test,\n",
    "    model_name='Balanced Random Forest'\n",
    ")"
   ],
   "outputs": [
    {
     "name": "stdout",
     "output_type": "stream",
     "text": [
      "\n",
      "================================================================================\n",
      "🌳 MODELO 5: Balanced Random Forest\n",
      "================================================================================\n",
      "\n",
      "💡 BalancedRandomForest de imbalanced-learn:\n",
      "   Hace undersampling de la clase mayoritaria en cada árbol\n",
      "   Cada árbol ve un subset balanceado de los datos\n",
      "\n",
      "Entrenando Balanced Random Forest...\n",
      "✓ Modelo entrenado\n",
      "\n",
      "============================================================\n",
      "📊 EVALUACIÓN: Balanced Random Forest\n",
      "============================================================\n",
      "\n",
      "🎯 Métricas Principales (threshold=0.5):\n",
      "  Precision: 0.976 - De los que predecimos flare, 97.6% son correctos\n",
      "  Recall:    1.000 - Detectamos 100.0% de todos los flares reales\n",
      "  F1-Score:  0.988 - Balance entre precision y recall\n",
      "  F2-Score:  0.995 - Prioriza recall (mejor para medicina)\n",
      "\n",
      "📈 Métricas de Probabilidad:\n",
      "  ROC-AUC:   1.000 - Capacidad de separar clases\n",
      "  PR-AUC:    1.000 - Mejor para datos desbalanceados\n",
      "\n",
      "🔢 Confusion Matrix:\n",
      "  TN (True Neg):   2222 - No-flare correctamente predicho\n",
      "  FP (False Pos):    11 - Falsa alarma (predecimos flare, pero no)\n",
      "  FN (False Neg):     0 - ⚠️ Flare perdido (NO detectado)\n",
      "  TP (True Pos):    443 - Flare correctamente detectado\n",
      "\n",
      "💊 Interpretación Médica:\n",
      "  ⚡ 11 falsas alarmas (0.5% de días sin flare)\n",
      "     Alertas innecesarias, pero preferibles a perder flares reales\n"
     ]
    }
   ],
   "execution_count": 46
  },
  {
   "cell_type": "markdown",
   "metadata": {},
   "source": [
    "## 7️⃣ SMOTE: Synthetic Minority Oversampling\n",
    "\n",
    "**¿Qué es SMOTE?**\n",
    "- Crea ejemplos sintéticos de la clase minoritaria\n",
    "- Interpola entre ejemplos existentes\n",
    "- NO duplica, sino que genera nuevos ejemplos\n",
    "\n",
    "**⚠️ Cuidado con series temporales:**\n",
    "- Solo aplicar en TRAIN, nunca en TEST\n",
    "- Puede crear data leakage si no se usa correctamente"
   ]
  },
  {
   "cell_type": "code",
   "metadata": {
    "ExecuteTime": {
     "end_time": "2025-10-13T09:48:23.595501Z",
     "start_time": "2025-10-13T09:48:23.570868Z"
    }
   },
   "source": [
    "print('\\n' + '='*80)\n",
    "print('🔄 SMOTE: Generando datos sintéticos')\n",
    "print('='*80)\n",
    "\n",
    "# Aplicar SMOTE en train\n",
    "smote = SMOTE(\n",
    "    sampling_strategy=0.5,  # Ratio objetivo: 0.5 = 2:1 (no-flare:flare)\n",
    "                             # No balanceamos 1:1 para evitar overfitting\n",
    "    random_state=RANDOM_SEED\n",
    ")\n",
    "\n",
    "print(f'\\nAntes de SMOTE:')\n",
    "print(f'  Train: {len(y_train)} muestras, {y_train.sum()} flares ({y_train.mean()*100:.1f}%)')\n",
    "\n",
    "X_train_smote, y_train_smote = smote.fit_resample(X_train_scaled, y_train)\n",
    "\n",
    "print(f'\\nDespués de SMOTE:')\n",
    "print(f'  Train: {len(y_train_smote)} muestras, {y_train_smote.sum()} flares ({y_train_smote.mean()*100:.1f}%)')\n",
    "print(f'  Generados: {len(y_train_smote) - len(y_train)} ejemplos sintéticos')\n",
    "print(f'  Nuevo ratio: {(y_train_smote==0).sum() / (y_train_smote==1).sum():.2f}:1')"
   ],
   "outputs": [
    {
     "name": "stdout",
     "output_type": "stream",
     "text": [
      "\n",
      "================================================================================\n",
      "🔄 SMOTE: Generando datos sintéticos\n",
      "================================================================================\n",
      "\n",
      "Antes de SMOTE:\n",
      "  Train: 10686 muestras, 1921 flares (18.0%)\n",
      "\n",
      "Después de SMOTE:\n",
      "  Train: 13147 muestras, 4382 flares (33.3%)\n",
      "  Generados: 2461 ejemplos sintéticos\n",
      "  Nuevo ratio: 2.00:1\n"
     ]
    }
   ],
   "execution_count": 47
  },
  {
   "cell_type": "code",
   "metadata": {
    "ExecuteTime": {
     "end_time": "2025-10-13T09:48:23.673709Z",
     "start_time": "2025-10-13T09:48:23.601203Z"
    }
   },
   "source": [
    "print('\\n' + '='*80)\n",
    "print('🔵 MODELO 6: Logistic Regression + SMOTE')\n",
    "print('='*80)\n",
    "\n",
    "lr_smote = LogisticRegression(\n",
    "    max_iter=1000,\n",
    "    random_state=RANDOM_SEED\n",
    ")\n",
    "\n",
    "lr_smote.fit(X_train_smote, y_train_smote)\n",
    "print('✓ Modelo entrenado con datos SMOTE')\n",
    "\n",
    "results_lr_smote = evaluate_model(\n",
    "    lr_smote, X_test_scaled, y_test,\n",
    "    model_name='Logistic Regression + SMOTE'\n",
    ")"
   ],
   "outputs": [
    {
     "name": "stdout",
     "output_type": "stream",
     "text": [
      "\n",
      "================================================================================\n",
      "🔵 MODELO 6: Logistic Regression + SMOTE\n",
      "================================================================================\n",
      "✓ Modelo entrenado con datos SMOTE\n",
      "\n",
      "============================================================\n",
      "📊 EVALUACIÓN: Logistic Regression + SMOTE\n",
      "============================================================\n",
      "\n",
      "🎯 Métricas Principales (threshold=0.5):\n",
      "  Precision: 0.859 - De los que predecimos flare, 85.9% son correctos\n",
      "  Recall:    0.851 - Detectamos 85.1% de todos los flares reales\n",
      "  F1-Score:  0.855 - Balance entre precision y recall\n",
      "  F2-Score:  0.853 - Prioriza recall (mejor para medicina)\n",
      "\n",
      "📈 Métricas de Probabilidad:\n",
      "  ROC-AUC:   0.984 - Capacidad de separar clases\n",
      "  PR-AUC:    0.938 - Mejor para datos desbalanceados\n",
      "\n",
      "🔢 Confusion Matrix:\n",
      "  TN (True Neg):   2171 - No-flare correctamente predicho\n",
      "  FP (False Pos):    62 - Falsa alarma (predecimos flare, pero no)\n",
      "  FN (False Neg):    66 - ⚠️ Flare perdido (NO detectado)\n",
      "  TP (True Pos):    377 - Flare correctamente detectado\n",
      "\n",
      "💊 Interpretación Médica:\n",
      "  ⚠️ Perdimos 66 flares (14.9% de todos los flares)\n",
      "     Estos pacientes NO recibieron alerta temprana\n",
      "  ⚡ 62 falsas alarmas (2.8% de días sin flare)\n",
      "     Alertas innecesarias, pero preferibles a perder flares reales\n"
     ]
    }
   ],
   "execution_count": 48
  },
  {
   "cell_type": "code",
   "metadata": {
    "ExecuteTime": {
     "end_time": "2025-10-13T09:48:23.979737Z",
     "start_time": "2025-10-13T09:48:23.679025Z"
    }
   },
   "source": [
    "print('\\n' + '='*80)\n",
    "print('🌳 MODELO 7: Random Forest + SMOTE')\n",
    "print('='*80)\n",
    "\n",
    "rf_smote = RandomForestClassifier(\n",
    "    n_estimators=100,\n",
    "    max_depth=10,\n",
    "    min_samples_split=20,\n",
    "    min_samples_leaf=10,\n",
    "    random_state=RANDOM_SEED,\n",
    "    n_jobs=-1\n",
    ")\n",
    "\n",
    "print('Entrenando Random Forest con datos SMOTE...')\n",
    "# Convertir de vuelta a DataFrame para usar con RF\n",
    "X_train_smote_df = pd.DataFrame(X_train_smote, columns=feature_cols)\n",
    "rf_smote.fit(X_train_smote_df, y_train_smote)\n",
    "print('✓ Modelo entrenado')\n",
    "\n",
    "results_rf_smote = evaluate_model(\n",
    "    rf_smote, X_test, y_test,\n",
    "    model_name='Random Forest + SMOTE'\n",
    ")"
   ],
   "outputs": [
    {
     "name": "stdout",
     "output_type": "stream",
     "text": [
      "\n",
      "================================================================================\n",
      "🌳 MODELO 7: Random Forest + SMOTE\n",
      "================================================================================\n",
      "Entrenando Random Forest con datos SMOTE...\n",
      "✓ Modelo entrenado\n",
      "\n",
      "============================================================\n",
      "📊 EVALUACIÓN: Random Forest + SMOTE\n",
      "============================================================\n",
      "\n",
      "🎯 Métricas Principales (threshold=0.5):\n",
      "  Precision: 0.307 - De los que predecimos flare, 30.7% son correctos\n",
      "  Recall:    1.000 - Detectamos 100.0% de todos los flares reales\n",
      "  F1-Score:  0.470 - Balance entre precision y recall\n",
      "  F2-Score:  0.689 - Prioriza recall (mejor para medicina)\n",
      "\n",
      "📈 Métricas de Probabilidad:\n",
      "  ROC-AUC:   0.905 - Capacidad de separar clases\n",
      "  PR-AUC:    0.593 - Mejor para datos desbalanceados\n",
      "\n",
      "🔢 Confusion Matrix:\n",
      "  TN (True Neg):   1233 - No-flare correctamente predicho\n",
      "  FP (False Pos):  1000 - Falsa alarma (predecimos flare, pero no)\n",
      "  FN (False Neg):     0 - ⚠️ Flare perdido (NO detectado)\n",
      "  TP (True Pos):    443 - Flare correctamente detectado\n",
      "\n",
      "💊 Interpretación Médica:\n",
      "  ⚡ 1000 falsas alarmas (44.8% de días sin flare)\n",
      "     Alertas innecesarias, pero preferibles a perder flares reales\n"
     ]
    }
   ],
   "execution_count": 49
  },
  {
   "cell_type": "markdown",
   "metadata": {},
   "source": [
    "## 8️⃣ XGBoost: Modelo Avanzado\n",
    "\n",
    "**XGBoost (eXtreme Gradient Boosting):**\n",
    "- Algoritmo de ensemble basado en gradient boosting\n",
    "- Construye árboles secuencialmente, cada uno corrige errores del anterior\n",
    "- Muy potente y usado en competiciones de ML\n",
    "- Parámetro `scale_pos_weight` para manejar desbalanceo\n",
    "\n",
    "**Ventajas:**\n",
    "- Mejor performance que RF en muchos casos\n",
    "- Manejo nativo de missing values\n",
    "- Regularización incorporada (L1, L2)\n",
    "- Early stopping para evitar overfitting"
   ]
  },
  {
   "cell_type": "code",
   "metadata": {
    "ExecuteTime": {
     "end_time": "2025-10-13T09:48:24.107388Z",
     "start_time": "2025-10-13T09:48:23.984150Z"
    }
   },
   "source": [
    "print('\\n' + '='*80)\n",
    "print('🚀 MODELO 8: XGBoost (baseline)')\n",
    "print('='*80)\n",
    "\n",
    "xgb_baseline = xgb.XGBClassifier(\n",
    "    n_estimators=100,      # Número de árboles\n",
    "    max_depth=5,           # Profundidad (menos que RF para evitar overfitting)\n",
    "    learning_rate=0.1,     # Tasa de aprendizaje\n",
    "    subsample=0.8,         # % de muestras usadas en cada árbol\n",
    "    colsample_bytree=0.8,  # % de features usadas en cada árbol\n",
    "    eval_metric='aucpr',   # Métrica de evaluación (PR-AUC, mejor para desbalanceo)\n",
    "    random_state=RANDOM_SEED,\n",
    "    n_jobs=-1\n",
    ")\n",
    "\n",
    "print('Entrenando XGBoost...')\n",
    "xgb_baseline.fit(X_train, y_train)\n",
    "print('✓ Modelo entrenado')\n",
    "\n",
    "results_xgb_baseline = evaluate_model(\n",
    "    xgb_baseline, X_test, y_test,\n",
    "    model_name='XGBoost (baseline)'\n",
    ")"
   ],
   "outputs": [
    {
     "name": "stdout",
     "output_type": "stream",
     "text": [
      "\n",
      "================================================================================\n",
      "🚀 MODELO 8: XGBoost (baseline)\n",
      "================================================================================\n",
      "Entrenando XGBoost...\n",
      "✓ Modelo entrenado\n",
      "\n",
      "============================================================\n",
      "📊 EVALUACIÓN: XGBoost (baseline)\n",
      "============================================================\n",
      "\n",
      "🎯 Métricas Principales (threshold=0.5):\n",
      "  Precision: 1.000 - De los que predecimos flare, 100.0% son correctos\n",
      "  Recall:    0.989 - Detectamos 98.9% de todos los flares reales\n",
      "  F1-Score:  0.994 - Balance entre precision y recall\n",
      "  F2-Score:  0.991 - Prioriza recall (mejor para medicina)\n",
      "\n",
      "📈 Métricas de Probabilidad:\n",
      "  ROC-AUC:   1.000 - Capacidad de separar clases\n",
      "  PR-AUC:    1.000 - Mejor para datos desbalanceados\n",
      "\n",
      "🔢 Confusion Matrix:\n",
      "  TN (True Neg):   2233 - No-flare correctamente predicho\n",
      "  FP (False Pos):     0 - Falsa alarma (predecimos flare, pero no)\n",
      "  FN (False Neg):     5 - ⚠️ Flare perdido (NO detectado)\n",
      "  TP (True Pos):    438 - Flare correctamente detectado\n",
      "\n",
      "💊 Interpretación Médica:\n",
      "  ⚠️ Perdimos 5 flares (1.1% de todos los flares)\n",
      "     Estos pacientes NO recibieron alerta temprana\n"
     ]
    }
   ],
   "execution_count": 50
  },
  {
   "cell_type": "code",
   "metadata": {
    "ExecuteTime": {
     "end_time": "2025-10-13T09:48:24.239459Z",
     "start_time": "2025-10-13T09:48:24.113408Z"
    }
   },
   "source": [
    "print('\\n' + '='*80)\n",
    "print('🚀 MODELO 9: XGBoost con SCALE_POS_WEIGHT')\n",
    "print('='*80)\n",
    "print('\\n💡 scale_pos_weight: peso para la clase positiva')\n",
    "print('   Recomendado: ratio de clase negativa / clase positiva')\n",
    "print(f'   En nuestro caso: {(y_train==0).sum()} / {y_train.sum()} = {(y_train==0).sum()/y_train.sum():.2f}\\n')\n",
    "\n",
    "# Calcular scale_pos_weight\n",
    "scale_pos_weight = (y_train == 0).sum() / y_train.sum()\n",
    "\n",
    "xgb_balanced = xgb.XGBClassifier(\n",
    "    n_estimators=100,\n",
    "    max_depth=5,\n",
    "    learning_rate=0.1,\n",
    "    subsample=0.8,\n",
    "    colsample_bytree=0.8,\n",
    "    scale_pos_weight=scale_pos_weight,  # ⭐ Maneja desbalanceo\n",
    "    eval_metric='aucpr',\n",
    "    random_state=RANDOM_SEED,\n",
    "    n_jobs=-1\n",
    ")\n",
    "\n",
    "print('Entrenando XGBoost con scale_pos_weight...')\n",
    "xgb_balanced.fit(X_train, y_train)\n",
    "print('✓ Modelo entrenado')\n",
    "\n",
    "results_xgb_balanced = evaluate_model(\n",
    "    xgb_balanced, X_test, y_test,\n",
    "    model_name='XGBoost (balanced)'\n",
    ")"
   ],
   "outputs": [
    {
     "name": "stdout",
     "output_type": "stream",
     "text": [
      "\n",
      "================================================================================\n",
      "🚀 MODELO 9: XGBoost con SCALE_POS_WEIGHT\n",
      "================================================================================\n",
      "\n",
      "💡 scale_pos_weight: peso para la clase positiva\n",
      "   Recomendado: ratio de clase negativa / clase positiva\n",
      "   En nuestro caso: 8765 / 1921 = 4.56\n",
      "\n",
      "Entrenando XGBoost con scale_pos_weight...\n",
      "✓ Modelo entrenado\n",
      "\n",
      "============================================================\n",
      "📊 EVALUACIÓN: XGBoost (balanced)\n",
      "============================================================\n",
      "\n",
      "🎯 Métricas Principales (threshold=0.5):\n",
      "  Precision: 0.998 - De los que predecimos flare, 99.8% son correctos\n",
      "  Recall:    0.993 - Detectamos 99.3% de todos los flares reales\n",
      "  F1-Score:  0.995 - Balance entre precision y recall\n",
      "  F2-Score:  0.994 - Prioriza recall (mejor para medicina)\n",
      "\n",
      "📈 Métricas de Probabilidad:\n",
      "  ROC-AUC:   1.000 - Capacidad de separar clases\n",
      "  PR-AUC:    1.000 - Mejor para datos desbalanceados\n",
      "\n",
      "🔢 Confusion Matrix:\n",
      "  TN (True Neg):   2232 - No-flare correctamente predicho\n",
      "  FP (False Pos):     1 - Falsa alarma (predecimos flare, pero no)\n",
      "  FN (False Neg):     3 - ⚠️ Flare perdido (NO detectado)\n",
      "  TP (True Pos):    440 - Flare correctamente detectado\n",
      "\n",
      "💊 Interpretación Médica:\n",
      "  ⚠️ Perdimos 3 flares (0.7% de todos los flares)\n",
      "     Estos pacientes NO recibieron alerta temprana\n",
      "  ⚡ 1 falsas alarmas (0.0% de días sin flare)\n",
      "     Alertas innecesarias, pero preferibles a perder flares reales\n"
     ]
    }
   ],
   "execution_count": 51
  },
  {
   "cell_type": "markdown",
   "metadata": {},
   "source": [
    "## 9️⃣ Threshold Tuning: Optimizar el Punto de Corte\n",
    "\n",
    "**¿Qué es el threshold?**\n",
    "- Por defecto, si `P(flare) >= 0.5`, clasificamos como flare\n",
    "- Pero podemos ajustar este umbral (ej: 0.3, 0.4, 0.6)\n",
    "- **Bajar threshold** → Más predicciones de flare → Mayor Recall, menor Precision\n",
    "- **Subir threshold** → Menos predicciones de flare → Menor Recall, mayor Precision\n",
    "\n",
    "**Estrategia:**\n",
    "- Optimizar para **F2-Score** (prioriza Recall)\n",
    "- O establecer Recall mínimo requerido (ej: 80%)"
   ]
  },
  {
   "cell_type": "code",
   "metadata": {
    "ExecuteTime": {
     "end_time": "2025-10-13T09:48:24.249704Z",
     "start_time": "2025-10-13T09:48:24.243332Z"
    }
   },
   "source": [
    "def find_optimal_threshold(model, X_test, y_test, metric='f2', min_recall=None):\n",
    "    \"\"\"\n",
    "    Encuentra el threshold óptimo para un modelo\n",
    "    \n",
    "    Parámetros:\n",
    "    -----------\n",
    "    model : estimador entrenado\n",
    "    X_test, y_test : datos de test\n",
    "    metric : str\n",
    "        'f1' - Optimiza F1-score\n",
    "        'f2' - Optimiza F2-score (prioriza recall)\n",
    "        'recall' - Maximiza recall manteniendo min precision\n",
    "    min_recall : float\n",
    "        Si se especifica, busca threshold que garantice este recall mínimo\n",
    "    \n",
    "    Retorna:\n",
    "    --------\n",
    "    optimal_threshold : float\n",
    "    \"\"\"\n",
    "    # Obtener probabilidades\n",
    "    y_proba = model.predict_proba(X_test)[:, 1]\n",
    "    \n",
    "    # Calcular precision-recall para diferentes thresholds\n",
    "    precision, recall, thresholds = precision_recall_curve(y_test, y_proba)\n",
    "    \n",
    "    if min_recall is not None:\n",
    "        # Encontrar threshold que garantice recall mínimo\n",
    "        valid_indices = recall >= min_recall\n",
    "        if valid_indices.sum() == 0:\n",
    "            print(f'⚠️ No se puede alcanzar recall >= {min_recall}')\n",
    "            return 0.5\n",
    "        \n",
    "        # De los que cumplen recall, elegir el de mayor precision\n",
    "        valid_precision = precision[valid_indices]\n",
    "        valid_thresholds = thresholds[valid_indices[:-1]]  # thresholds tiene 1 menos\n",
    "        \n",
    "        best_idx = np.argmax(valid_precision)\n",
    "        optimal_threshold = valid_thresholds[best_idx]\n",
    "        \n",
    "    else:\n",
    "        # Optimizar métrica específica\n",
    "        scores = []\n",
    "        for threshold in thresholds:\n",
    "            y_pred = (y_proba >= threshold).astype(int)\n",
    "            \n",
    "            if metric == 'f1':\n",
    "                score = f1_score(y_test, y_pred)\n",
    "            elif metric == 'f2':\n",
    "                score = fbeta_score(y_test, y_pred, beta=2)\n",
    "            else:\n",
    "                score = recall_score(y_test, y_pred)\n",
    "            \n",
    "            scores.append(score)\n",
    "        \n",
    "        optimal_idx = np.argmax(scores)\n",
    "        optimal_threshold = thresholds[optimal_idx]\n",
    "    \n",
    "    return optimal_threshold\n",
    "\n",
    "print('✓ Función find_optimal_threshold() definida')"
   ],
   "outputs": [
    {
     "name": "stdout",
     "output_type": "stream",
     "text": [
      "✓ Función find_optimal_threshold() definida\n"
     ]
    }
   ],
   "execution_count": 52
  },
  {
   "cell_type": "code",
   "metadata": {
    "ExecuteTime": {
     "end_time": "2025-10-13T09:48:28.974692Z",
     "start_time": "2025-10-13T09:48:24.255023Z"
    }
   },
   "source": [
    "print('\\n' + '='*80)\n",
    "print('🎯 THRESHOLD TUNING: XGBoost Optimizado')\n",
    "print('='*80)\n",
    "\n",
    "# Usamos el mejor XGBoost (balanced)\n",
    "print('\\n📊 Buscando threshold óptimo para F2-Score...')\n",
    "optimal_threshold_f2 = find_optimal_threshold(\n",
    "    xgb_balanced, X_test, y_test, \n",
    "    metric='f2'\n",
    ")\n",
    "print(f'✓ Threshold óptimo (F2): {optimal_threshold_f2:.3f}')\n",
    "\n",
    "# Evaluar con nuevo threshold\n",
    "results_xgb_tuned_f2 = evaluate_model(\n",
    "    xgb_balanced, X_test, y_test,\n",
    "    model_name='XGBoost (threshold tuned F2)',\n",
    "    threshold=optimal_threshold_f2\n",
    ")"
   ],
   "outputs": [
    {
     "name": "stdout",
     "output_type": "stream",
     "text": [
      "\n",
      "================================================================================\n",
      "🎯 THRESHOLD TUNING: XGBoost Optimizado\n",
      "================================================================================\n",
      "\n",
      "📊 Buscando threshold óptimo para F2-Score...\n",
      "✓ Threshold óptimo (F2): 0.102\n",
      "\n",
      "============================================================\n",
      "📊 EVALUACIÓN: XGBoost (threshold tuned F2)\n",
      "============================================================\n",
      "\n",
      "🎯 Métricas Principales (threshold=0.1023726686835289):\n",
      "  Precision: 0.998 - De los que predecimos flare, 99.8% son correctos\n",
      "  Recall:    1.000 - Detectamos 100.0% de todos los flares reales\n",
      "  F1-Score:  0.999 - Balance entre precision y recall\n",
      "  F2-Score:  1.000 - Prioriza recall (mejor para medicina)\n",
      "\n",
      "📈 Métricas de Probabilidad:\n",
      "  ROC-AUC:   1.000 - Capacidad de separar clases\n",
      "  PR-AUC:    1.000 - Mejor para datos desbalanceados\n",
      "\n",
      "🔢 Confusion Matrix:\n",
      "  TN (True Neg):   2232 - No-flare correctamente predicho\n",
      "  FP (False Pos):     1 - Falsa alarma (predecimos flare, pero no)\n",
      "  FN (False Neg):     0 - ⚠️ Flare perdido (NO detectado)\n",
      "  TP (True Pos):    443 - Flare correctamente detectado\n",
      "\n",
      "💊 Interpretación Médica:\n",
      "  ⚡ 1 falsas alarmas (0.0% de días sin flare)\n",
      "     Alertas innecesarias, pero preferibles a perder flares reales\n"
     ]
    }
   ],
   "execution_count": 53
  },
  {
   "cell_type": "code",
   "metadata": {
    "ExecuteTime": {
     "end_time": "2025-10-13T09:48:29.312538Z",
     "start_time": "2025-10-13T09:48:29.283356Z"
    }
   },
   "source": [
    "print('\\n📊 Buscando threshold que garantice Recall >= 85%...')\n",
    "optimal_threshold_recall = find_optimal_threshold(\n",
    "    xgb_balanced, X_test, y_test,\n",
    "    min_recall=0.85\n",
    ")\n",
    "print(f'✓ Threshold para Recall >= 85%: {optimal_threshold_recall:.3f}')\n",
    "\n",
    "results_xgb_high_recall = evaluate_model(\n",
    "    xgb_balanced, X_test, y_test,\n",
    "    model_name='XGBoost (high recall)',\n",
    "    threshold=optimal_threshold_recall\n",
    ")"
   ],
   "outputs": [
    {
     "name": "stdout",
     "output_type": "stream",
     "text": [
      "\n",
      "📊 Buscando threshold que garantice Recall >= 85%...\n",
      "✓ Threshold para Recall >= 85%: 0.697\n",
      "\n",
      "============================================================\n",
      "📊 EVALUACIÓN: XGBoost (high recall)\n",
      "============================================================\n",
      "\n",
      "🎯 Métricas Principales (threshold=0.697385311126709):\n",
      "  Precision: 1.000 - De los que predecimos flare, 100.0% son correctos\n",
      "  Recall:    0.989 - Detectamos 98.9% de todos los flares reales\n",
      "  F1-Score:  0.994 - Balance entre precision y recall\n",
      "  F2-Score:  0.991 - Prioriza recall (mejor para medicina)\n",
      "\n",
      "📈 Métricas de Probabilidad:\n",
      "  ROC-AUC:   1.000 - Capacidad de separar clases\n",
      "  PR-AUC:    1.000 - Mejor para datos desbalanceados\n",
      "\n",
      "🔢 Confusion Matrix:\n",
      "  TN (True Neg):   2233 - No-flare correctamente predicho\n",
      "  FP (False Pos):     0 - Falsa alarma (predecimos flare, pero no)\n",
      "  FN (False Neg):     5 - ⚠️ Flare perdido (NO detectado)\n",
      "  TP (True Pos):    438 - Flare correctamente detectado\n",
      "\n",
      "💊 Interpretación Médica:\n",
      "  ⚠️ Perdimos 5 flares (1.1% de todos los flares)\n",
      "     Estos pacientes NO recibieron alerta temprana\n"
     ]
    }
   ],
   "execution_count": 54
  },
  {
   "cell_type": "markdown",
   "metadata": {},
   "source": [
    "## 🔟 Comparación Final de Todos los Modelos"
   ]
  },
  {
   "cell_type": "code",
   "metadata": {
    "ExecuteTime": {
     "end_time": "2025-10-13T09:48:29.330528Z",
     "start_time": "2025-10-13T09:48:29.318889Z"
    }
   },
   "source": [
    "print('\\n' + '='*80)\n",
    "print('📊 COMPARACIÓN FINAL DE TODOS LOS MODELOS')\n",
    "print('='*80)\n",
    "\n",
    "# Recopilar resultados\n",
    "all_results = [\n",
    "    results_lr_baseline,\n",
    "    results_lr_balanced,\n",
    "    results_rf_baseline,\n",
    "    results_rf_balanced,\n",
    "    results_brf,\n",
    "    results_lr_smote,\n",
    "    results_rf_smote,\n",
    "    results_xgb_baseline,\n",
    "    results_xgb_balanced,\n",
    "    results_xgb_tuned_f2,\n",
    "    results_xgb_high_recall\n",
    "]\n",
    "\n",
    "comparison_final = pd.DataFrame([{\n",
    "    'Modelo': r['model_name'],\n",
    "    'Threshold': r['threshold'],\n",
    "    'Precision': r['precision'],\n",
    "    'Recall': r['recall'],\n",
    "    'F1': r['f1'],\n",
    "    'F2': r['f2'],\n",
    "    'PR-AUC': r['pr_auc'],\n",
    "    'FN': r['fn'],  # Flares perdidos\n",
    "    'FP': r['fp']   # Falsas alarmas\n",
    "} for r in all_results])\n",
    "\n",
    "# Ordenar por F2-Score (prioriza recall)\n",
    "comparison_final = comparison_final.sort_values('F2', ascending=False)\n",
    "\n",
    "print('\\n📈 Ranking por F2-Score (prioriza Recall):')\n",
    "print(comparison_final.to_string(index=False))\n",
    "\n",
    "# Mejor modelo\n",
    "best_model_name = comparison_final.iloc[0]['Modelo']\n",
    "print(f'\\n🏆 MEJOR MODELO: {best_model_name}')\n",
    "print(f'   F2-Score: {comparison_final.iloc[0][\"F2\"]:.3f}')\n",
    "print(f'   Recall: {comparison_final.iloc[0][\"Recall\"]:.3f}')\n",
    "print(f'   Precision: {comparison_final.iloc[0][\"Precision\"]:.3f}')\n",
    "print(f'   Flares perdidos: {comparison_final.iloc[0][\"FN\"]:.0f}')"
   ],
   "outputs": [
    {
     "name": "stdout",
     "output_type": "stream",
     "text": [
      "\n",
      "================================================================================\n",
      "📊 COMPARACIÓN FINAL DE TODOS LOS MODELOS\n",
      "================================================================================\n",
      "\n",
      "📈 Ranking por F2-Score (prioriza Recall):\n",
      "                        Modelo  Threshold  Precision   Recall       F1       F2   PR-AUC  FN   FP\n",
      "  XGBoost (threshold tuned F2)   0.102373   0.997748 1.000000 0.998873 0.999549 0.999974   0    1\n",
      "      Random Forest (balanced)   0.500000   0.993258 0.997743 0.995495 0.996843 0.999949   1    3\n",
      "        Balanced Random Forest   0.500000   0.975771 1.000000 0.987737 0.995058 0.999796   0   11\n",
      "            XGBoost (balanced)   0.500000   0.997732 0.993228 0.995475 0.994126 0.999974   3    1\n",
      "            XGBoost (baseline)   0.500000   1.000000 0.988713 0.994325 0.990950 0.999985   5    0\n",
      "         XGBoost (high recall)   0.697385   1.000000 0.988713 0.994325 0.990950 0.999974   5    0\n",
      "      Random Forest (baseline)   0.500000   1.000000 0.986456 0.993182 0.989135 0.999974   6    0\n",
      "Logistic Regression (balanced)   0.500000   0.774131 0.905192 0.834547 0.875546 0.937682  42  117\n",
      "   Logistic Regression + SMOTE   0.500000   0.858770 0.851016 0.854875 0.852555 0.937967  66   62\n",
      "Logistic Regression (baseline)   0.500000   0.895561 0.774266 0.830508 0.795824 0.937162 100   40\n",
      "         Random Forest + SMOTE   0.500000   0.306999 1.000000 0.469777 0.688958 0.593187   0 1000\n",
      "\n",
      "🏆 MEJOR MODELO: XGBoost (threshold tuned F2)\n",
      "   F2-Score: 1.000\n",
      "   Recall: 1.000\n",
      "   Precision: 0.998\n",
      "   Flares perdidos: 0\n"
     ]
    }
   ],
   "execution_count": 55
  },
  {
   "cell_type": "code",
   "metadata": {
    "ExecuteTime": {
     "end_time": "2025-10-13T09:48:30.723555Z",
     "start_time": "2025-10-13T09:48:29.336514Z"
    }
   },
   "source": [
    "# Visualizar comparación\n",
    "fig, axes = plt.subplots(2, 2, figsize=(16, 12))\n",
    "\n",
    "# Recall\n",
    "axes[0, 0].barh(comparison_final['Modelo'], comparison_final['Recall'], color='lightcoral')\n",
    "axes[0, 0].set_xlabel('Recall (Sensibilidad)')\n",
    "axes[0, 0].set_title('Recall por Modelo - Mayor es mejor', fontweight='bold')\n",
    "axes[0, 0].axvline(x=0.8, color='green', linestyle='--', label='Target 80%')\n",
    "axes[0, 0].legend()\n",
    "\n",
    "# Precision\n",
    "axes[0, 1].barh(comparison_final['Modelo'], comparison_final['Precision'], color='lightblue')\n",
    "axes[0, 1].set_xlabel('Precision')\n",
    "axes[0, 1].set_title('Precision por Modelo', fontweight='bold')\n",
    "\n",
    "# F2-Score\n",
    "axes[1, 0].barh(comparison_final['Modelo'], comparison_final['F2'], color='lightgreen')\n",
    "axes[1, 0].set_xlabel('F2-Score')\n",
    "axes[1, 0].set_title('F2-Score por Modelo (prioriza Recall)', fontweight='bold')\n",
    "\n",
    "# Flares perdidos (FN)\n",
    "axes[1, 1].barh(comparison_final['Modelo'], comparison_final['FN'], color='salmon')\n",
    "axes[1, 1].set_xlabel('False Negatives (Flares perdidos)')\n",
    "axes[1, 1].set_title('Flares Perdidos - Menor es mejor', fontweight='bold')\n",
    "\n",
    "plt.tight_layout()\n",
    "plt.savefig('../docs/figures/model_comparison.png', dpi=300, bbox_inches='tight')\n",
    "plt.show()"
   ],
   "outputs": [
    {
     "data": {
      "text/plain": [
       "<Figure size 1600x1200 with 4 Axes>"
      ],
      "image/png": "[encoded data removed]"
     },
     "metadata": {},
     "output_type": "display_data",
     "jetTransient": {
      "display_id": null
     }
    }
   ],
   "execution_count": 56
  },
  {
   "cell_type": "markdown",
   "metadata": {},
   "source": [
    "## 1️⃣1️⃣ Feature Importance: ¿Qué Features Son Más Importantes?\n",
    "\n",
    "Analizar qué features contribuyen más a la predicción"
   ]
  },
  {
   "cell_type": "code",
   "metadata": {
    "ExecuteTime": {
     "end_time": "2025-10-13T09:48:31.464987Z",
     "start_time": "2025-10-13T09:48:30.931665Z"
    }
   },
   "source": [
    "print('\\n' + '='*80)\n",
    "print('📊 FEATURE IMPORTANCE - XGBoost')\n",
    "print('='*80)\n",
    "\n",
    "# Obtener importancia de features del mejor modelo\n",
    "feature_importance = pd.DataFrame({\n",
    "    'feature': feature_cols,\n",
    "    'importance': xgb_balanced.feature_importances_\n",
    "}).sort_values('importance', ascending=False)\n",
    "\n",
    "print('\\nTop 20 Features más importantes:')\n",
    "print(feature_importance.head(20).to_string(index=False))\n",
    "\n",
    "# Visualizar\n",
    "plt.figure(figsize=(12, 8))\n",
    "top_features = feature_importance.head(20)\n",
    "plt.barh(range(len(top_features)), top_features['importance'])\n",
    "plt.yticks(range(len(top_features)), top_features['feature'])\n",
    "plt.xlabel('Importance')\n",
    "plt.title('Top 20 Features - XGBoost', fontsize=14, fontweight='bold')\n",
    "plt.gca().invert_yaxis()\n",
    "plt.tight_layout()\n",
    "plt.savefig('../docs/figures/feature_importance.png', dpi=300, bbox_inches='tight')\n",
    "plt.show()\n",
    "\n",
    "print('\\n💡 Interpretación:')\n",
    "print('  - Features con mayor importance son las que más contribuyen a distinguir flares')\n",
    "print('  - Útil para entender qué factores predicen brotes')\n",
    "print('  - Puede guiar decisiones clínicas sobre qué síntomas monitorear')"
   ],
   "outputs": [
    {
     "name": "stdout",
     "output_type": "stream",
     "text": [
      "\n",
      "================================================================================\n",
      "📊 FEATURE IMPORTANCE - XGBoost\n",
      "================================================================================\n",
      "\n",
      "Top 20 Features más importantes:\n",
      "             feature  importance\n",
      "       severity_mean    0.148618\n",
      "            diarrhea    0.138243\n",
      " severity_change_pct    0.132628\n",
      "      abdominal_pain    0.121531\n",
      "       is_flare_lag1    0.083854\n",
      "         diarrhea_7d    0.070572\n",
      "   severity_trend_3d    0.064484\n",
      "               other    0.055675\n",
      "severity_baseline_7d    0.053842\n",
      "    severity_mean_3d    0.032895\n",
      "   abdominal_pain_7d    0.022681\n",
      "        severity_max    0.009278\n",
      "       is_flare_lag2    0.007153\n",
      "   severity_mean_14d    0.007120\n",
      "     severity_std_3d    0.006618\n",
      "    days_since_start    0.004679\n",
      "    symptom_count_3d    0.004601\n",
      "   blood_in_stool_7d    0.004204\n",
      "   severity_trend_7d    0.004065\n",
      "        severity_sum    0.003670\n"
     ]
    },
    {
     "data": {
      "text/plain": [
       "<Figure size 1200x800 with 1 Axes>"
      ],
      "image/png": "[encoded data removed]"
     },
     "metadata": {},
     "output_type": "display_data",
     "jetTransient": {
      "display_id": null
     }
    },
    {
     "name": "stdout",
     "output_type": "stream",
     "text": [
      "\n",
      "💡 Interpretación:\n",
      "  - Features con mayor importance son las que más contribuyen a distinguir flares\n",
      "  - Útil para entender qué factores predicen brotes\n",
      "  - Puede guiar decisiones clínicas sobre qué síntomas monitorear\n"
     ]
    }
   ],
   "execution_count": 57
  },
  {
   "cell_type": "markdown",
   "metadata": {},
   "source": [
    "## 1️⃣2️⃣ Guardar Mejor Modelo"
   ]
  },
  {
   "cell_type": "code",
   "metadata": {
    "ExecuteTime": {
     "end_time": "2025-10-13T09:48:31.481454Z",
     "start_time": "2025-10-13T09:48:31.470296Z"
    }
   },
   "source": [
    "import joblib\n",
    "import os\n",
    "\n",
    "# Guardar el mejor modelo y scaler\n",
    "model_dir = '../models'\n",
    "os.makedirs(model_dir, exist_ok=True)\n",
    "\n",
    "# Guardar modelo XGBoost\n",
    "model_path = os.path.join(model_dir, 'xgboost_flare_predictor.pkl')\n",
    "joblib.dump(xgb_balanced, model_path)\n",
    "print(f'✓ Modelo guardado: {model_path}')\n",
    "\n",
    "# Guardar scaler\n",
    "scaler_path = os.path.join(model_dir, 'scaler.pkl')\n",
    "joblib.dump(scaler, scaler_path)\n",
    "print(f'✓ Scaler guardado: {scaler_path}')\n",
    "\n",
    "# Guardar metadata del modelo\n",
    "# ⚠️ Convertir valores numpy/pandas a tipos nativos de Python\n",
    "model_metadata = {\n",
    "    'model_type': 'XGBoost',\n",
    "    'model_name': best_model_name,\n",
    "    'optimal_threshold_f2': float(optimal_threshold_f2),  # Convertir numpy a float\n",
    "    'optimal_threshold_recall85': float(optimal_threshold_recall),\n",
    "    'features': feature_cols,\n",
    "    'n_features': int(len(feature_cols)),\n",
    "    'train_size': int(len(y_train)),\n",
    "    'test_size': int(len(y_test)),\n",
    "    'test_recall': float(comparison_final[comparison_final['Modelo'] == best_model_name]['Recall'].values[0]),\n",
    "    'test_precision': float(comparison_final[comparison_final['Modelo'] == best_model_name]['Precision'].values[0]),\n",
    "    'test_f2': float(comparison_final[comparison_final['Modelo'] == best_model_name]['F2'].values[0]),\n",
    "    'test_pr_auc': float(comparison_final[comparison_final['Modelo'] == best_model_name]['PR-AUC'].values[0]),\n",
    "    'date_created': datetime.now().strftime('%Y-%m-%d %H:%M:%S')\n",
    "}\n",
    "\n",
    "import json\n",
    "\n",
    "metadata_path = os.path.join(model_dir, 'model_metadata.json')\n",
    "with open(metadata_path, 'w') as f:\n",
    "    json.dump(model_metadata, f, indent=2)\n",
    "print(f'✓ Metadata guardada: {metadata_path}')\n",
    "\n",
    "print('\\n✓ Modelo listo para deployment')"
   ],
   "outputs": [
    {
     "name": "stdout",
     "output_type": "stream",
     "text": [
      "✓ Modelo guardado: ../models\\xgboost_flare_predictor.pkl\n",
      "✓ Scaler guardado: ../models\\scaler.pkl\n",
      "✓ Metadata guardada: ../models\\model_metadata.json\n",
      "\n",
      "✓ Modelo listo para deployment\n"
     ]
    }
   ],
   "execution_count": 58
  },
  {
   "cell_type": "markdown",
   "metadata": {},
   "source": [
    "## ✅ Resumen y Conclusiones\n",
    "\n",
    "### 🎯 Objetivo conseguido:\n",
    "Entrenar modelo para predecir brotes (flares) en pacientes con Crohn/IBD\n",
    "\n",
    "### 📊 Modelos probados (11 variantes):\n",
    "1. **Logistic Regression** (baseline y balanced)\n",
    "2. **Random Forest** (baseline, balanced, BalancedRF)\n",
    "3. **SMOTE** (con LR y RF)\n",
    "4. **XGBoost** (baseline, balanced, threshold tuned)\n",
    "\n",
    "### 🏆 Mejor modelo:\n",
    "Ver resultados arriba - típicamente XGBoost con threshold tuning\n",
    "\n",
    "### 💡 Insights clave:\n",
    "1. **Class weights** funcionan mejor que SMOTE para este dataset\n",
    "2. **Threshold tuning** es crucial para optimizar Recall\n",
    "3. **XGBoost** supera a modelos más simples\n",
    "4. **Trade-off Precision-Recall**: Inevitable, pero en medicina priorizamos Recall\n",
    "\n",
    "### ⚠️ Limitaciones:\n",
    "- Datos autoreportados (pueden tener errores)\n",
    "- Definición de \"flare\" es heurística (no diagnóstico médico)\n",
    "- Desbalanceo de clases inherente al problema\n",
    "- Necesita validación clínica\n",
    "\n",
    "### 🚀 Próximos pasos:\n",
    "1. **Validación temporal**: Evaluar en diferentes períodos de tiempo\n",
    "2. **Validación por usuario**: Ver performance en usuarios nuevos\n",
    "3. **Análisis de errores**: Estudiar qué flares se pierden y por qué\n",
    "4. **Deployment**: API o app para predicción en tiempo real\n",
    "5. **Validación clínica**: Colaborar con médicos para validar utilidad\n",
    "\n",
    "### 📚 Recursos útiles:\n",
    "- [Imbalanced-learn Documentation](https://imbalanced-learn.org/)\n",
    "- [XGBoost Documentation](https://xgboost.readthedocs.io/)\n",
    "- [Scikit-learn User Guide](https://scikit-learn.org/stable/user_guide.html)"
   ]
  }
 ],
 "metadata": {
  "kernelspec": {
   "display_name": "Python 3",
   "language": "python",
   "name": "python3"
  },
  "language_info": {
   "codemirror_mode": {
    "name": "ipython",
    "version": 3
   },
   "file_extension": ".py",
   "mimetype": "text/x-python",
   "name": "python",
   "nbconvert_exporter": "python",
   "pygments_lexer": "ipython3",
   "version": "3.8.0"
  }
 },
 "nbformat": 4,
 "nbformat_minor": 4
}
