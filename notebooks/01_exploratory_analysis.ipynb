{
 "cells": [
  {
   "cell_type": "markdown",
   "metadata": {},
   "source": [
    "# 🩺 Análisis Exploratorio: Dataset Flaredown\n",
    "\n",
    "**Objetivo:** Analizar datos históricos de síntomas para predicción de brotes en Crohn/IBD\n",
    "\n",
    "**Dataset:** Flaredown Autoimmune Symptom Tracker\n",
    "\n",
    "**Estructura confirmada:**\n",
    "- `user_id`: ID del usuario\n",
    "- `checkin_date`: Fecha del registro\n",
    "- `trackable_type`: Tipo (Condition, Symptom, Treatment, etc.)\n",
    "- `trackable_name`: Nombre (\"Crohn's disease\", \"Diarrhea\", etc.)\n",
    "- `trackable_value`: Valor/severidad (0-4 o yes/no)\n",
    "\n",
    "**Autor:** Asier Ortiz García\n",
    "\n",
    "**Fecha:** Octubre 2025"
   ]
  },
  {
   "cell_type": "markdown",
   "metadata": {},
   "source": [
    "## 📦 Imports y Configuración"
   ]
  },
  {
   "cell_type": "code",
   "metadata": {
    "ExecuteTime": {
     "end_time": "2025-10-12T07:57:32.186051Z",
     "start_time": "2025-10-12T07:57:32.181266Z"
    }
   },
   "source": [
    "import pandas as pd\n",
    "import numpy as np\n",
    "import matplotlib.pyplot as plt\n",
    "import seaborn as sns\n",
    "from datetime import datetime, timedelta\n",
    "import warnings\n",
    "import os\n",
    "warnings.filterwarnings('ignore')\n",
    "\n",
    "plt.style.use('seaborn-v0_8-whitegrid')\n",
    "sns.set_palette(\"husl\")\n",
    "plt.rcParams['figure.figsize'] = (14, 6)\n",
    "plt.rcParams['font.size'] = 10\n",
    "%matplotlib inline\n",
    "\n",
    "os.makedirs('../docs/figures', exist_ok=True)\n",
    "os.makedirs('../data/processed', exist_ok=True)\n",
    "os.makedirs('../models', exist_ok=True)\n",
    "\n",
    "print(\"=\" * 80)\n",
    "print(\"ANÁLISIS EXPLORATORIO: Dataset Flaredown para Predicción de Brotes\")\n",
    "print(\"=\" * 80)"
   ],
   "outputs": [
    {
     "name": "stdout",
     "output_type": "stream",
     "text": [
      "================================================================================\n",
      "ANÁLISIS EXPLORATORIO: Dataset Flaredown para Predicción de Brotes\n",
      "================================================================================\n"
     ]
    }
   ],
   "execution_count": 77
  },
  {
   "cell_type": "markdown",
   "metadata": {},
   "source": [
    "## 1️⃣ Carga Inicial"
   ]
  },
  {
   "metadata": {
    "ExecuteTime": {
     "end_time": "2025-10-12T07:57:37.000253Z",
     "start_time": "2025-10-12T07:57:32.197769Z"
    }
   },
   "cell_type": "code",
   "source": [
    "print(\"📊 Cargando muestra del dataset...\\n\")\n",
    "# df_sample = pd.read_csv('../data/raw/export.csv', nrows=10000)\n",
    "df_sample = pd.read_csv('../data/raw/export.csv')\n",
    "\n",
    "print(f\"✓ Muestra: {df_sample.shape[0]:,} registros × {df_sample.shape[1]} columnas\\n\")\n",
    "print(\"📋 Columnas:\")\n",
    "print(df_sample.columns.tolist())\n",
    "print(\"\\n📊 Info:\")\n",
    "print(df_sample.info())"
   ],
   "outputs": [
    {
     "name": "stdout",
     "output_type": "stream",
     "text": [
      "📊 Cargando muestra del dataset...\n",
      "\n",
      "✓ Muestra: 7,976,223 registros × 9 columnas\n",
      "\n",
      "📋 Columnas:\n",
      "['user_id', 'age', 'sex', 'country', 'checkin_date', 'trackable_id', 'trackable_type', 'trackable_name', 'trackable_value']\n",
      "\n",
      "📊 Info:\n",
      "<class 'pandas.core.frame.DataFrame'>\n",
      "RangeIndex: 7976223 entries, 0 to 7976222\n",
      "Data columns (total 9 columns):\n",
      " #   Column           Dtype  \n",
      "---  ------           -----  \n",
      " 0   user_id          object \n",
      " 1   age              float64\n",
      " 2   sex              object \n",
      " 3   country          object \n",
      " 4   checkin_date     object \n",
      " 5   trackable_id     object \n",
      " 6   trackable_type   object \n",
      " 7   trackable_name   object \n",
      " 8   trackable_value  object \n",
      "dtypes: float64(1), object(8)\n",
      "memory usage: 547.7+ MB\n",
      "None\n"
     ]
    }
   ],
   "execution_count": 78
  },
  {
   "metadata": {
    "ExecuteTime": {
     "end_time": "2025-10-12T07:57:37.034962Z",
     "start_time": "2025-10-12T07:57:37.029732Z"
    }
   },
   "cell_type": "code",
   "source": "df_sample.head(10)",
   "outputs": [
    {
     "data": {
      "text/plain": [
       "                            user_id   age     sex country checkin_date  \\\n",
       "0  QEVuQwEABlEzkh7fsBBjEe26RyIVcg==   NaN     NaN     NaN   2015-11-26   \n",
       "1  QEVuQwEAWRNGnuTRqXG2996KSkTIEw==  32.0    male      US   2015-11-26   \n",
       "2  QEVuQwEA+WkNxtp/qkHvN2YmTBBDqg==   2.0  female      CA   2017-04-28   \n",
       "3  QEVuQwEA+WkNxtp/qkHvN2YmTBBDqg==   2.0  female      CA   2017-04-28   \n",
       "4  QEVuQwEA+WkNxtp/qkHvN2YmTBBDqg==   2.0  female      CA   2017-04-28   \n",
       "5  QEVuQwEA+WkNxtp/qkHvN2YmTBBDqg==   2.0  female      CA   2017-04-28   \n",
       "6  QEVuQwEA+WkNxtp/qkHvN2YmTBBDqg==   2.0  female      CA   2017-04-28   \n",
       "7  QEVuQwEA+WkNxtp/qkHvN2YmTBBDqg==   2.0  female      CA   2017-04-28   \n",
       "8  QEVuQwEA+WkNxtp/qkHvN2YmTBBDqg==   2.0  female      CA   2017-04-28   \n",
       "9  QEVuQwEA+WkNxtp/qkHvN2YmTBBDqg==   2.0  female      CA   2017-04-28   \n",
       "\n",
       "  trackable_id trackable_type  \\\n",
       "0         1069      Condition   \n",
       "1         1069      Condition   \n",
       "2         3168      Condition   \n",
       "3         3169      Condition   \n",
       "4         3170      Condition   \n",
       "5         3171      Condition   \n",
       "6         1356      Condition   \n",
       "7         3172      Condition   \n",
       "8         3173      Condition   \n",
       "9         3174      Condition   \n",
       "\n",
       "                                      trackable_name trackable_value  \n",
       "0                                 Ulcerative colitis               0  \n",
       "1                                 Ulcerative colitis               0  \n",
       "2  pain in left upper arm felt like i was getting...               4  \n",
       "3                            hip pain when gettin up               3  \n",
       "4                                pain in hand joints               4  \n",
       "5                             numbness in right hand               2  \n",
       "6                                           Headache               2  \n",
       "7                                 pain in left ankle               1  \n",
       "8                                   pain in left leg               1  \n",
       "9                             pain in joints on feet               2  "
      ],
      "text/html": [
       "<div>\n",
       "<style scoped>\n",
       "    .dataframe tbody tr th:only-of-type {\n",
       "        vertical-align: middle;\n",
       "    }\n",
       "\n",
       "    .dataframe tbody tr th {\n",
       "        vertical-align: top;\n",
       "    }\n",
       "\n",
       "    .dataframe thead th {\n",
       "        text-align: right;\n",
       "    }\n",
       "</style>\n",
       "<table border=\"1\" class=\"dataframe\">\n",
       "  <thead>\n",
       "    <tr style=\"text-align: right;\">\n",
       "      <th></th>\n",
       "      <th>user_id</th>\n",
       "      <th>age</th>\n",
       "      <th>sex</th>\n",
       "      <th>country</th>\n",
       "      <th>checkin_date</th>\n",
       "      <th>trackable_id</th>\n",
       "      <th>trackable_type</th>\n",
       "      <th>trackable_name</th>\n",
       "      <th>trackable_value</th>\n",
       "    </tr>\n",
       "  </thead>\n",
       "  <tbody>\n",
       "    <tr>\n",
       "      <th>0</th>\n",
       "      <td>QEVuQwEABlEzkh7fsBBjEe26RyIVcg==</td>\n",
       "      <td>NaN</td>\n",
       "      <td>NaN</td>\n",
       "      <td>NaN</td>\n",
       "      <td>2015-11-26</td>\n",
       "      <td>1069</td>\n",
       "      <td>Condition</td>\n",
       "      <td>Ulcerative colitis</td>\n",
       "      <td>0</td>\n",
       "    </tr>\n",
       "    <tr>\n",
       "      <th>1</th>\n",
       "      <td>QEVuQwEAWRNGnuTRqXG2996KSkTIEw==</td>\n",
       "      <td>32.0</td>\n",
       "      <td>male</td>\n",
       "      <td>US</td>\n",
       "      <td>2015-11-26</td>\n",
       "      <td>1069</td>\n",
       "      <td>Condition</td>\n",
       "      <td>Ulcerative colitis</td>\n",
       "      <td>0</td>\n",
       "    </tr>\n",
       "    <tr>\n",
       "      <th>2</th>\n",
       "      <td>QEVuQwEA+WkNxtp/qkHvN2YmTBBDqg==</td>\n",
       "      <td>2.0</td>\n",
       "      <td>female</td>\n",
       "      <td>CA</td>\n",
       "      <td>2017-04-28</td>\n",
       "      <td>3168</td>\n",
       "      <td>Condition</td>\n",
       "      <td>pain in left upper arm felt like i was getting...</td>\n",
       "      <td>4</td>\n",
       "    </tr>\n",
       "    <tr>\n",
       "      <th>3</th>\n",
       "      <td>QEVuQwEA+WkNxtp/qkHvN2YmTBBDqg==</td>\n",
       "      <td>2.0</td>\n",
       "      <td>female</td>\n",
       "      <td>CA</td>\n",
       "      <td>2017-04-28</td>\n",
       "      <td>3169</td>\n",
       "      <td>Condition</td>\n",
       "      <td>hip pain when gettin up</td>\n",
       "      <td>3</td>\n",
       "    </tr>\n",
       "    <tr>\n",
       "      <th>4</th>\n",
       "      <td>QEVuQwEA+WkNxtp/qkHvN2YmTBBDqg==</td>\n",
       "      <td>2.0</td>\n",
       "      <td>female</td>\n",
       "      <td>CA</td>\n",
       "      <td>2017-04-28</td>\n",
       "      <td>3170</td>\n",
       "      <td>Condition</td>\n",
       "      <td>pain in hand joints</td>\n",
       "      <td>4</td>\n",
       "    </tr>\n",
       "    <tr>\n",
       "      <th>5</th>\n",
       "      <td>QEVuQwEA+WkNxtp/qkHvN2YmTBBDqg==</td>\n",
       "      <td>2.0</td>\n",
       "      <td>female</td>\n",
       "      <td>CA</td>\n",
       "      <td>2017-04-28</td>\n",
       "      <td>3171</td>\n",
       "      <td>Condition</td>\n",
       "      <td>numbness in right hand</td>\n",
       "      <td>2</td>\n",
       "    </tr>\n",
       "    <tr>\n",
       "      <th>6</th>\n",
       "      <td>QEVuQwEA+WkNxtp/qkHvN2YmTBBDqg==</td>\n",
       "      <td>2.0</td>\n",
       "      <td>female</td>\n",
       "      <td>CA</td>\n",
       "      <td>2017-04-28</td>\n",
       "      <td>1356</td>\n",
       "      <td>Condition</td>\n",
       "      <td>Headache</td>\n",
       "      <td>2</td>\n",
       "    </tr>\n",
       "    <tr>\n",
       "      <th>7</th>\n",
       "      <td>QEVuQwEA+WkNxtp/qkHvN2YmTBBDqg==</td>\n",
       "      <td>2.0</td>\n",
       "      <td>female</td>\n",
       "      <td>CA</td>\n",
       "      <td>2017-04-28</td>\n",
       "      <td>3172</td>\n",
       "      <td>Condition</td>\n",
       "      <td>pain in left ankle</td>\n",
       "      <td>1</td>\n",
       "    </tr>\n",
       "    <tr>\n",
       "      <th>8</th>\n",
       "      <td>QEVuQwEA+WkNxtp/qkHvN2YmTBBDqg==</td>\n",
       "      <td>2.0</td>\n",
       "      <td>female</td>\n",
       "      <td>CA</td>\n",
       "      <td>2017-04-28</td>\n",
       "      <td>3173</td>\n",
       "      <td>Condition</td>\n",
       "      <td>pain in left leg</td>\n",
       "      <td>1</td>\n",
       "    </tr>\n",
       "    <tr>\n",
       "      <th>9</th>\n",
       "      <td>QEVuQwEA+WkNxtp/qkHvN2YmTBBDqg==</td>\n",
       "      <td>2.0</td>\n",
       "      <td>female</td>\n",
       "      <td>CA</td>\n",
       "      <td>2017-04-28</td>\n",
       "      <td>3174</td>\n",
       "      <td>Condition</td>\n",
       "      <td>pain in joints on feet</td>\n",
       "      <td>2</td>\n",
       "    </tr>\n",
       "  </tbody>\n",
       "</table>\n",
       "</div>"
      ]
     },
     "execution_count": 79,
     "metadata": {},
     "output_type": "execute_result"
    }
   ],
   "execution_count": 79
  },
  {
   "cell_type": "markdown",
   "metadata": {},
   "source": [
    "## 2️⃣ Carga Completa"
   ]
  },
  {
   "metadata": {
    "ExecuteTime": {
     "end_time": "2025-10-12T07:57:42.066700Z",
     "start_time": "2025-10-12T07:57:37.059469Z"
    }
   },
   "cell_type": "code",
   "source": [
    "def load_data(filepath, sample_size=None):\n",
    "    if sample_size:\n",
    "        n_lines = sum(1 for _ in open(filepath)) - 1\n",
    "        skip = np.random.choice(range(1, n_lines), n_lines - sample_size, replace=False)\n",
    "        df = pd.read_csv(filepath, skiprows=skip)\n",
    "    else:\n",
    "        df = pd.read_csv(filepath, low_memory=False)\n",
    "    return df\n",
    "\n",
    "SAMPLE_SIZE = 100000  # Ajusta según RAM\n",
    "# df = load_data('../data/raw/export.csv', sample_size=SAMPLE_SIZE)\n",
    "df = pd.read_csv('../data/raw/export.csv', low_memory=False)\n",
    "print(f\"✓ Cargado: {len(df):,} registros\")"
   ],
   "outputs": [
    {
     "name": "stdout",
     "output_type": "stream",
     "text": [
      "✓ Cargado: 7,976,223 registros\n"
     ]
    }
   ],
   "execution_count": 80
  },
  {
   "cell_type": "markdown",
   "metadata": {},
   "source": [
    "## 3️⃣ Preparación de Datos"
   ]
  },
  {
   "cell_type": "code",
   "metadata": {
    "ExecuteTime": {
     "end_time": "2025-10-12T07:57:43.477982Z",
     "start_time": "2025-10-12T07:57:42.124088Z"
    }
   },
   "source": [
    "df['checkin_date'] = pd.to_datetime(df['checkin_date'], errors='coerce')\n",
    "df['year'] = df['checkin_date'].dt.year\n",
    "df['month'] = df['checkin_date'].dt.month\n",
    "df['day_of_week'] = df['checkin_date'].dt.dayofweek\n",
    "\n",
    "print(f\"Rango: {df['checkin_date'].min()} → {df['checkin_date'].max()}\")\n",
    "print(f\"Usuarios: {df['user_id'].nunique():,}\")\n",
    "print(f\"\\nTipos de trackables:\")\n",
    "print(df['trackable_type'].value_counts())"
   ],
   "outputs": [
    {
     "name": "stdout",
     "output_type": "stream",
     "text": [
      "Rango: 2012-05-18 00:00:00 → 2019-12-06 00:00:00\n",
      "Usuarios: 42,283\n",
      "\n",
      "Tipos de trackables:\n",
      "trackable_type\n",
      "Symptom      3642279\n",
      "Weather      1393806\n",
      "Condition    1111517\n",
      "Treatment     901820\n",
      "Food          480971\n",
      "Tag           445669\n",
      "HBI              161\n",
      "Name: count, dtype: int64\n"
     ]
    }
   ],
   "execution_count": 81
  },
  {
   "cell_type": "markdown",
   "metadata": {},
   "source": [
    "## 4️⃣ Filtrar Usuarios con Crohn"
   ]
  },
  {
   "cell_type": "code",
   "metadata": {
    "ExecuteTime": {
     "end_time": "2025-10-12T07:57:44.780311Z",
     "start_time": "2025-10-12T07:57:43.507473Z"
    }
   },
   "source": [
    "conditions_df = df[df['trackable_type'] == 'Condition']\n",
    "print(f\"Condiciones: {len(conditions_df):,} registros\\n\")\n",
    "\n",
    "print(\"Top 20 condiciones:\")\n",
    "print(conditions_df['trackable_name'].value_counts().head(20))\n",
    "\n",
    "ibd_keywords = ['crohn', 'ibd', 'colitis', 'inflammatory bowel', 'ulcerative']\n",
    "ibd_mask = conditions_df['trackable_name'].str.contains('|'.join(ibd_keywords), case=False, na=False)\n",
    "\n",
    "print(f\"\\nCondiciones IBD encontradas:\")\n",
    "print(conditions_df[ibd_mask]['trackable_name'].value_counts())\n",
    "\n",
    "ibd_user_ids = conditions_df[ibd_mask]['user_id'].unique()\n",
    "print(f\"\\n✓ Usuarios con Crohn/IBD: {len(ibd_user_ids):,}\")\n",
    "\n",
    "df_crohn = df[df['user_id'].isin(ibd_user_ids)].copy()\n",
    "print(f\"✓ Registros totales: {len(df_crohn):,}\")\n",
    "print(f\"\\nDistribución por tipo:\")\n",
    "print(df_crohn['trackable_type'].value_counts())"
   ],
   "outputs": [
    {
     "name": "stdout",
     "output_type": "stream",
     "text": [
      "Condiciones: 1,111,517 registros\n",
      "\n",
      "Top 20 condiciones:\n",
      "trackable_name\n",
      "Fibromyalgia                    55255\n",
      "Depression                      50109\n",
      "Anxiety                         46968\n",
      "Chronic fatigue syndrome        28259\n",
      "Migraine                        26082\n",
      "IBS                             17324\n",
      "Fatigue                         14920\n",
      "Asthma                          14218\n",
      "Endometriosis                   13873\n",
      "Ehlers-Danlos syndrome          13677\n",
      "Irritable bowel syndrome        11801\n",
      "Headaches                       11362\n",
      "Generalized anxiety disorder    10275\n",
      "Chronic Migraines               10034\n",
      "joint pain                       9781\n",
      "POTS                             8946\n",
      "Allergies                        8722\n",
      "Chronic Pain                     8367\n",
      "Insomnia                         7784\n",
      "Rheumatoid arthritis             7243\n",
      "Name: count, dtype: int64\n",
      "\n",
      "Condiciones IBD encontradas:\n",
      "trackable_name\n",
      "Ulcerative colitis                                5930\n",
      "Crohn's disease                                   5656\n",
      "Crohns disease                                     735\n",
      "Inflammatory bowel disease (IBD)                   715\n",
      "Crohn’s Disease                                    376\n",
      "Indeterminate Colitis                              224\n",
      "Collagenous colitis                                193\n",
      "Colitis                                            156\n",
      "Crohns                                             137\n",
      "Microscopic colitis                                110\n",
      "IBD                                                 52\n",
      "Eosinophilic colitis                                45\n",
      "ulcerative                                          35\n",
      "inflammatory bowel syndrome (IBS)                   27\n",
      "lymphocytic colitis                                 16\n",
      "colitis ?                                            9\n",
      "IBS/IBD                                              7\n",
      "ulcerative proctitis                                 6\n",
      "ulceritive colitis                                   5\n",
      "crohn                                                3\n",
      "Chrohns and ulcerative colitis                       2\n",
      "Crohn's Disease                                      1\n",
      "Ischemic colitis                                     1\n",
      "Endometriosys , Crohn’s Disease , Adenomiosys        1\n",
      "Necrotizing Enterocolitis                            1\n",
      "Necrotizing Enterocolitis                            1\n",
      "Spondylitis , crohns disease,copd                    1\n",
      "Ulceritif Colitis                                    1\n",
      "ulcerated colitis                                    1\n",
      "Name: count, dtype: int64\n",
      "\n",
      "✓ Usuarios con Crohn/IBD: 2,046\n",
      "✓ Registros totales: 390,765\n",
      "\n",
      "Distribución por tipo:\n",
      "trackable_type\n",
      "Symptom      161086\n",
      "Treatment     67169\n",
      "Weather       59892\n",
      "Condition     56185\n",
      "Food          23175\n",
      "Tag           23101\n",
      "HBI             157\n",
      "Name: count, dtype: int64\n"
     ]
    }
   ],
   "execution_count": 82
  },
  {
   "cell_type": "markdown",
   "metadata": {},
   "source": [
    "## 5️⃣ Análisis de Síntomas"
   ]
  },
  {
   "cell_type": "code",
   "metadata": {
    "ExecuteTime": {
     "end_time": "2025-10-12T07:57:45.096850Z",
     "start_time": "2025-10-12T07:57:44.808252Z"
    }
   },
   "source": [
    "symptoms = df_crohn[df_crohn['trackable_type'] == 'Symptom']\n",
    "print(f\"Síntomas: {len(symptoms):,} registros\")\n",
    "print(f\"Síntomas únicos: {symptoms['trackable_name'].nunique():,}\\n\")\n",
    "\n",
    "top_symptoms = symptoms['trackable_name'].value_counts().head(20)\n",
    "print(\"Top 20 síntomas:\")\n",
    "print(top_symptoms)\n",
    "\n",
    "plt.figure(figsize=(12, 8))\n",
    "top_symptoms.head(15).plot(kind='barh', color='lightcoral', edgecolor='black')\n",
    "plt.title('Top 15 Síntomas - Usuarios Crohn', fontsize=14, fontweight='bold')\n",
    "plt.xlabel('Reportes')\n",
    "plt.gca().invert_yaxis()\n",
    "plt.tight_layout()\n",
    "plt.savefig('../docs/figures/top_symptoms.png', dpi=300, bbox_inches='tight')\n",
    "plt.show()"
   ],
   "outputs": [
    {
     "name": "stdout",
     "output_type": "stream",
     "text": [
      "Síntomas: 161,086 registros\n",
      "Síntomas únicos: 2,159\n",
      "\n",
      "Top 20 síntomas:\n",
      "trackable_name\n",
      "Diarrhea                 8307\n",
      "Fatigue                  6695\n",
      "Nausea                   5371\n",
      "Abdominal pain           5202\n",
      "Headache                 4112\n",
      "Joint pain               3926\n",
      "Bloating                 3292\n",
      "Stomach Pain             3114\n",
      "Constipation             2838\n",
      "Fatigue and tiredness    2678\n",
      "Bloody Stools            2562\n",
      "Gas                      2253\n",
      "Bowel Urgency            1932\n",
      "Anxiety                  1892\n",
      "Brain fog                1863\n",
      "Lower abdomen pain       1842\n",
      "Stiffness                1790\n",
      "bowel movements          1720\n",
      "Depression               1454\n",
      "lightheadedness          1433\n",
      "Name: count, dtype: int64\n"
     ]
    },
    {
     "data": {
      "text/plain": [
       "<Figure size 1200x800 with 1 Axes>"
      ],
      "image/png": "[encoded data removed]"
     },
     "metadata": {},
     "output_type": "display_data",
     "jetTransient": {
      "display_id": null
     }
    }
   ],
   "execution_count": 83
  },
  {
   "cell_type": "markdown",
   "metadata": {},
   "source": [
    "## 6️⃣ Análisis de Severidad"
   ]
  },
  {
   "cell_type": "code",
   "metadata": {
    "ExecuteTime": {
     "end_time": "2025-10-12T07:57:45.220434Z",
     "start_time": "2025-10-12T07:57:45.107079Z"
    }
   },
   "source": [
    "df_crohn['value_numeric'] = pd.to_numeric(df_crohn['trackable_value'], errors='coerce')\n",
    "\n",
    "print(\"Valores (top 20):\")\n",
    "print(df_crohn['trackable_value'].value_counts().head(20))\n",
    "\n",
    "numeric_mask = df_crohn['value_numeric'].notna()\n",
    "print(f\"\\nNuméricos: {numeric_mask.sum():,} ({numeric_mask.sum()/len(df_crohn)*100:.1f}%)\")\n",
    "print(f\"No numéricos: {(~numeric_mask).sum():,}\")\n",
    "\n",
    "if numeric_mask.sum() > 0:\n",
    "    print(f\"\\nEstadísticas (valores numéricos):\")\n",
    "    print(f\"  Media: {df_crohn['value_numeric'].mean():.2f}\")\n",
    "    print(f\"  Mediana: {df_crohn['value_numeric'].median():.2f}\")\n",
    "    print(f\"  Min-Max: {df_crohn['value_numeric'].min():.0f} - {df_crohn['value_numeric'].max():.0f}\")"
   ],
   "outputs": [
    {
     "name": "stdout",
     "output_type": "stream",
     "text": [
      "Valores (top 20):\n",
      "trackable_value\n",
      "0                      75089\n",
      "1                      53002\n",
      "2                      46026\n",
      "3                      28541\n",
      "4                      15344\n",
      "partly-cloudy-day       3641\n",
      "rain                    2387\n",
      "1.0 tablet              2180\n",
      "0.0                     2012\n",
      "30.0 mg                 1726\n",
      "150.0 mcg               1548\n",
      "partly-cloudy-night     1462\n",
      "1000.0 IU               1439\n",
      "0.5 packet              1408\n",
      "2 capsules              1403\n",
      "1 capsule               1350\n",
      "150.0 mg                1099\n",
      "2 x 500mg               1033\n",
      "20 ml                   1011\n",
      "0.0001                   993\n",
      "Name: count, dtype: int64\n",
      "\n",
      "Numéricos: 268,473 (68.7%)\n",
      "No numéricos: 122,292\n",
      "\n",
      "Estadísticas (valores numéricos):\n",
      "  Media: 46.20\n",
      "  Mediana: 1.00\n",
      "  Min-Max: -44 - 10000\n"
     ]
    }
   ],
   "execution_count": 84
  },
  {
   "cell_type": "markdown",
   "metadata": {},
   "source": [
    "## 7️⃣ Análisis Temporal"
   ]
  },
  {
   "cell_type": "code",
   "metadata": {
    "ExecuteTime": {
     "end_time": "2025-10-12T07:57:45.236155Z",
     "start_time": "2025-10-12T07:57:45.230660Z"
    }
   },
   "source": [
    "print(\"Registros por año:\")\n",
    "print(df_crohn['year'].value_counts().sort_index())\n",
    "\n",
    "print(\"\\nRegistros por mes:\")\n",
    "months = ['Ene','Feb','Mar','Abr','May','Jun','Jul','Ago','Sep','Oct','Nov','Dic']\n",
    "for m, c in df_crohn['month'].value_counts().sort_index().items():\n",
    "    print(f\"  {months[int(m)-1]}: {c:,}\")"
   ],
   "outputs": [
    {
     "name": "stdout",
     "output_type": "stream",
     "text": [
      "Registros por año:\n",
      "year\n",
      "2015     29010\n",
      "2016     48170\n",
      "2017     91805\n",
      "2018    128752\n",
      "2019     93028\n",
      "Name: count, dtype: int64\n",
      "\n",
      "Registros por mes:\n",
      "  Ene: 26,896\n",
      "  Feb: 28,506\n",
      "  Mar: 30,871\n",
      "  Abr: 29,789\n",
      "  May: 32,534\n",
      "  Jun: 36,269\n",
      "  Jul: 38,557\n",
      "  Ago: 35,463\n",
      "  Sep: 32,964\n",
      "  Oct: 35,240\n",
      "  Nov: 38,282\n",
      "  Dic: 25,394\n"
     ]
    }
   ],
   "execution_count": 85
  },
  {
   "cell_type": "markdown",
   "metadata": {},
   "source": [
    "## 8️⃣ Análisis de Usuarios"
   ]
  },
  {
   "cell_type": "code",
   "metadata": {
    "ExecuteTime": {
     "end_time": "2025-10-12T07:57:45.260126Z",
     "start_time": "2025-10-12T07:57:45.246520Z"
    }
   },
   "source": [
    "records_per_user = df_crohn['user_id'].value_counts()\n",
    "print(f\"Usuarios: {len(records_per_user):,}\")\n",
    "print(f\"\\nRegistros por usuario:\")\n",
    "print(f\"  Media: {records_per_user.mean():.1f}\")\n",
    "print(f\"  Mediana: {records_per_user.median():.1f}\")\n",
    "print(f\"  Max: {records_per_user.max():,}\")\n",
    "\n",
    "active = records_per_user[records_per_user >= 30]\n",
    "print(f\"\\n✓ Usuarios con ≥30 registros: {len(active):,} ({len(active)/len(records_per_user)*100:.1f}%)\")"
   ],
   "outputs": [
    {
     "name": "stdout",
     "output_type": "stream",
     "text": [
      "Usuarios: 2,046\n",
      "\n",
      "Registros por usuario:\n",
      "  Media: 191.0\n",
      "  Mediana: 20.0\n",
      "  Max: 66,151\n",
      "\n",
      "✓ Usuarios con ≥30 registros: 782 (38.2%)\n"
     ]
    }
   ],
   "execution_count": 86
  },
  {
   "cell_type": "markdown",
   "metadata": {},
   "source": [
    "## 9️⃣ Viabilidad LSTM"
   ]
  },
  {
   "cell_type": "code",
   "metadata": {
    "ExecuteTime": {
     "end_time": "2025-10-12T07:57:45.299640Z",
     "start_time": "2025-10-12T07:57:45.269798Z"
    }
   },
   "source": [
    "user_ranges = df_crohn.groupby('user_id')['checkin_date'].agg(['min', 'max', 'count'])\n",
    "user_ranges['days'] = (user_ranges['max'] - user_ranges['min']).dt.days\n",
    "\n",
    "viable = user_ranges[user_ranges['days'] >= 30]\n",
    "ideal = user_ranges[user_ranges['days'] >= 90]\n",
    "\n",
    "print(f\"Usuarios con ≥30 días: {len(viable):,}\")\n",
    "print(f\"Usuarios con ≥90 días: {len(ideal):,}\")\n",
    "print(f\"\\nDías promedio: {viable['days'].mean():.1f}\")\n",
    "print(f\"Registros promedio: {viable['count'].mean():.1f}\")\n",
    "print(f\"\\n✓ VIABLE para LSTM\" if len(viable) > 20 else \"⚠️ Pocos usuarios viables\")"
   ],
   "outputs": [
    {
     "name": "stdout",
     "output_type": "stream",
     "text": [
      "Usuarios con ≥30 días: 513\n",
      "Usuarios con ≥90 días: 323\n",
      "\n",
      "Días promedio: 250.4\n",
      "Registros promedio: 664.2\n",
      "\n",
      "✓ VIABLE para LSTM\n"
     ]
    }
   ],
   "execution_count": 87
  },
  {
   "cell_type": "markdown",
   "metadata": {},
   "source": [
    "## 🔟 Guardar Datos"
   ]
  },
  {
   "cell_type": "code",
   "metadata": {
    "ExecuteTime": {
     "end_time": "2025-10-12T07:57:46.427309Z",
     "start_time": "2025-10-12T07:57:45.304875Z"
    }
   },
   "source": [
    "output = '../data/processed/crohn_filtered.csv'\n",
    "df_crohn.to_csv(output, index=False)\n",
    "print(f\"✓ Guardado: {output}\")\n",
    "print(f\"  Tamaño: {os.path.getsize(output)/(1024**2):.2f} MB\")\n",
    "\n",
    "if len(df_crohn) > 10000:\n",
    "    sample = df_crohn.sample(10000, random_state=42)\n",
    "    sample.to_csv('../data/processed/crohn_sample_10k.csv', index=False)\n",
    "    print(f\"✓ Muestra guardada (10k registros)\")"
   ],
   "outputs": [
    {
     "name": "stdout",
     "output_type": "stream",
     "text": [
      "✓ Guardado: ../data/processed/crohn_filtered.csv\n",
      "  Tamaño: 37.52 MB\n",
      "✓ Muestra guardada (10k registros)\n"
     ]
    }
   ],
   "execution_count": 88
  },
  {
   "cell_type": "markdown",
   "metadata": {},
   "source": [
    "## ✅ Resumen\n",
    "\n",
    "### Dataset confirmado:\n",
    "- ✅ Usuarios con Crohn/IBD identificados\n",
    "- ✅ Datos temporales (series de tiempo)\n",
    "- ✅ Síntomas, tratamientos, condiciones\n",
    "- ✅ Viable para modelos LSTM\n",
    "\n",
    "### Próximos pasos:\n",
    "1. Crear `02_data_cleaning.ipynb`\n",
    "2. Limpiar `trackable_value` (separar numérico/categórico)\n",
    "3. Normalizar nombres de síntomas\n",
    "4. Definir variable objetivo \"brote\"\n",
    "5. Feature engineering temporal"
   ]
  }
 ],
 "metadata": {
  "kernelspec": {
   "display_name": "Python 3",
   "language": "python",
   "name": "python3"
  },
  "language_info": {
   "codemirror_mode": {
    "name": "ipython",
    "version": 3
   },
   "file_extension": ".py",
   "mimetype": "text/x-python",
   "name": "python",
   "nbconvert_exporter": "python",
   "pygments_lexer": "ipython3",
   "version": "3.13.0"
  }
 },
 "nbformat": 4,
 "nbformat_minor": 4
}
