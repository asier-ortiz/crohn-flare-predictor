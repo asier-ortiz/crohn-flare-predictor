{
 "cells": [
  {
   "cell_type": "markdown",
   "metadata": {},
   "source": [
    "# ⚙️ Feature Engineering: Predicción de Brotes en Crohn/IBD\n",
    "\n",
    "**Objetivo:** Crear features temporales y definir la variable objetivo \"flare\" (brote)\n",
    "\n",
    "**Input:** `crohn_viable.csv` (usuarios viables para modelado)\n",
    "\n",
    "**Tareas clave:**\n",
    "1. **Definir variable objetivo \"flare\"** ⚠️ (crítico)\n",
    "2. Pivotar datos de formato long a wide (user-date)\n",
    "3. Crear features de rolling windows (3, 7, 14 días)\n",
    "4. Calcular tendencias y cambios en síntomas\n",
    "5. Preparar dataset final para modelado\n",
    "\n",
    "**Autor:** Asier Ortiz García  \n",
    "**Fecha:** Octubre 2025"
   ]
  },
  {
   "cell_type": "markdown",
   "metadata": {},
   "source": [
    "## 📦 Imports y Configuración"
   ]
  },
  {
   "cell_type": "code",
   "metadata": {
    "ExecuteTime": {
     "end_time": "2025-10-13T08:10:57.666831Z",
     "start_time": "2025-10-13T08:10:57.662169Z"
    }
   },
   "source": [
    "import pandas as pd\n",
    "import numpy as np\n",
    "import matplotlib.pyplot as plt\n",
    "import seaborn as sns\n",
    "from datetime import timedelta\n",
    "import warnings\n",
    "warnings.filterwarnings('ignore')\n",
    "\n",
    "plt.style.use('seaborn-v0_8-whitegrid')\n",
    "sns.set_palette('husl')\n",
    "plt.rcParams['figure.figsize'] = (14, 6)\n",
    "%matplotlib inline\n",
    "\n",
    "print('=' * 80)\n",
    "print('FEATURE ENGINEERING: Predicción de Brotes en Crohn/IBD')\n",
    "print('=' * 80)"
   ],
   "outputs": [
    {
     "name": "stdout",
     "output_type": "stream",
     "text": [
      "================================================================================\n",
      "FEATURE ENGINEERING: Predicción de Brotes en Crohn/IBD\n",
      "================================================================================\n"
     ]
    }
   ],
   "execution_count": 23
  },
  {
   "cell_type": "markdown",
   "metadata": {},
   "source": [
    "## 1️⃣ Cargar Datos Limpios"
   ]
  },
  {
   "cell_type": "code",
   "metadata": {
    "ExecuteTime": {
     "end_time": "2025-10-13T08:10:58.317854Z",
     "start_time": "2025-10-13T08:10:57.718282Z"
    }
   },
   "source": [
    "# Cargar dataset viable del notebook anterior\n",
    "df = pd.read_csv('../data/processed/crohn_viable.csv', parse_dates=['checkin_date'])\n",
    "\n",
    "print(f'✓ Cargado: {len(df):,} registros')\n",
    "print(f'  Usuarios: {df[\"user_id\"].nunique():,}')\n",
    "print(f'  Rango: {df[\"checkin_date\"].min()} → {df[\"checkin_date\"].max()}')\n",
    "print(f'\\nDistribución por tipo:')\n",
    "print(df['trackable_type'].value_counts())"
   ],
   "outputs": [
    {
     "name": "stdout",
     "output_type": "stream",
     "text": [
      "✓ Cargado: 334,073 registros\n",
      "  Usuarios: 325\n",
      "  Rango: 2015-05-24 00:00:00 → 2019-12-06 00:00:00\n",
      "\n",
      "Distribución por tipo:\n",
      "trackable_type\n",
      "Symptom      140251\n",
      "Treatment     62394\n",
      "Weather       50100\n",
      "Condition     45938\n",
      "Tag           18820\n",
      "Food          16512\n",
      "HBI              58\n",
      "Name: count, dtype: int64\n"
     ]
    }
   ],
   "execution_count": 24
  },
  {
   "cell_type": "markdown",
   "metadata": {},
   "source": [
    "## 2️⃣ Análisis Preliminar: ¿Qué es un \"Flare\"?\n",
    "\n",
    "### Definiciones médicas de brote en Crohn/IBD:\n",
    "\n",
    "Según literatura médica (Crohn's & Colitis Foundation):\n",
    "- **Harvey-Bradshaw Index (HBI)**: Score > 5 indica brote activo\n",
    "- **Síntomas clave**: Aumento en diarrea, dolor abdominal, sangre en heces\n",
    "- **Patrón temporal**: Empeoramiento sostenido durante varios días\n",
    "\n",
    "### Estrategias posibles:\n",
    "\n",
    "1. **Basado en HBI** (ideal pero pocos datos)\n",
    "2. **Basado en severidad de síntomas** (spike en severidad promedio)\n",
    "3. **Basado en síntomas core** (combinación de diarrhea + pain + blood)\n",
    "4. **Basado en cambio relativo** (aumento significativo respecto a baseline del usuario)"
   ]
  },
  {
   "cell_type": "code",
   "metadata": {
    "ExecuteTime": {
     "end_time": "2025-10-13T08:10:58.359290Z",
     "start_time": "2025-10-13T08:10:58.337356Z"
    }
   },
   "source": [
    "# Explorar disponibilidad de HBI scores\n",
    "hbi_records = df[df['trackable_type'] == 'HBI']\n",
    "print(f'Registros HBI: {len(hbi_records):,}')\n",
    "print(f'Usuarios con HBI: {hbi_records[\"user_id\"].nunique():,}')\n",
    "\n",
    "if len(hbi_records) > 0:\n",
    "    print(f'\\nDistribución de valores HBI:')\n",
    "    print(hbi_records['trackable_value'].value_counts().sort_index())\n",
    "    \n",
    "    # Convertir a numérico\n",
    "    hbi_numeric = pd.to_numeric(hbi_records['trackable_value'], errors='coerce')\n",
    "    print(f'\\nEstadísticas HBI:')\n",
    "    print(f'  Media: {hbi_numeric.mean():.2f}')\n",
    "    print(f'  Mediana: {hbi_numeric.median():.2f}')\n",
    "    print(f'  Registros con HBI > 5 (brote): {(hbi_numeric > 5).sum():,} ({(hbi_numeric > 5).sum()/len(hbi_numeric)*100:.1f}%)')\n",
    "else:\n",
    "    print('\\n⚠️ No hay suficientes datos de HBI para usar como variable objetivo')"
   ],
   "outputs": [
    {
     "name": "stdout",
     "output_type": "stream",
     "text": [
      "Registros HBI: 58\n",
      "Usuarios con HBI: 40\n",
      "\n",
      "Distribución de valores HBI:\n",
      "trackable_value\n",
      "0     3\n",
      "1     7\n",
      "10    5\n",
      "14    1\n",
      "15    1\n",
      "18    1\n",
      "2     9\n",
      "3     7\n",
      "4     4\n",
      "5     6\n",
      "6     8\n",
      "7     2\n",
      "8     1\n",
      "9     3\n",
      "Name: count, dtype: int64\n",
      "\n",
      "Estadísticas HBI:\n",
      "  Media: 4.93\n",
      "  Mediana: 4.00\n",
      "  Registros con HBI > 5 (brote): 22 (37.9%)\n"
     ]
    }
   ],
   "execution_count": 25
  },
  {
   "cell_type": "markdown",
   "metadata": {},
   "source": [
    "## 3️⃣ Preparar Datos de Síntomas por Día\n",
    "\n",
    "Vamos a agregar síntomas por usuario-fecha para calcular métricas diarias"
   ]
  },
  {
   "cell_type": "code",
   "metadata": {
    "ExecuteTime": {
     "end_time": "2025-10-13T08:10:58.445339Z",
     "start_time": "2025-10-13T08:10:58.381809Z"
    }
   },
   "source": [
    "# Filtrar solo síntomas\n",
    "symptoms_df = df[df['trackable_type'] == 'Symptom'].copy()\n",
    "\n",
    "print(f'Síntomas: {len(symptoms_df):,} registros')\n",
    "print(f'  Usuarios: {symptoms_df[\"user_id\"].nunique():,}')\n",
    "print(f'  Días únicos: {symptoms_df[\"checkin_date\"].nunique():,}')\n",
    "\n",
    "# Convertir severidad a numérico\n",
    "symptoms_df['severity'] = pd.to_numeric(symptoms_df['symptom_severity'], errors='coerce')\n",
    "\n",
    "print(f'\\nSeveridad de síntomas:')\n",
    "print(symptoms_df['severity'].value_counts().sort_index())\n",
    "print(f'\\nMedia: {symptoms_df[\"severity\"].mean():.2f}')\n",
    "print(f'Mediana: {symptoms_df[\"severity\"].median():.2f}')"
   ],
   "outputs": [
    {
     "name": "stdout",
     "output_type": "stream",
     "text": [
      "Síntomas: 140,251 registros\n",
      "  Usuarios: 325\n",
      "  Días únicos: 1,656\n",
      "\n",
      "Severidad de síntomas:\n",
      "severity\n",
      "0.0    51802\n",
      "1.0    34140\n",
      "2.0    29511\n",
      "3.0    16808\n",
      "4.0     7990\n",
      "Name: count, dtype: int64\n",
      "\n",
      "Media: 1.25\n",
      "Mediana: 1.00\n"
     ]
    }
   ],
   "execution_count": 26
  },
  {
   "cell_type": "code",
   "metadata": {
    "ExecuteTime": {
     "end_time": "2025-10-13T08:10:58.499585Z",
     "start_time": "2025-10-13T08:10:58.463381Z"
    }
   },
   "source": [
    "# Agregar síntomas por usuario-fecha\n",
    "daily_symptoms = symptoms_df.groupby(['user_id', 'checkin_date']).agg({\n",
    "    'severity': ['mean', 'max', 'sum', 'count'],\n",
    "}).reset_index()\n",
    "\n",
    "daily_symptoms.columns = ['user_id', 'date', 'severity_mean', 'severity_max', 'severity_sum', 'symptom_count']\n",
    "\n",
    "print(f'Días con síntomas: {len(daily_symptoms):,}')\n",
    "print(f'\\nEstadísticas por día:')\n",
    "print(daily_symptoms[['severity_mean', 'severity_max', 'severity_sum', 'symptom_count']].describe())"
   ],
   "outputs": [
    {
     "name": "stdout",
     "output_type": "stream",
     "text": [
      "Días con síntomas: 13,362\n",
      "\n",
      "Estadísticas por día:\n",
      "       severity_mean  severity_max  severity_sum  symptom_count\n",
      "count   13362.000000  13362.000000  13362.000000   13362.000000\n",
      "mean        1.187347      2.515866     13.137704      10.496258\n",
      "std         0.785659      1.150885     14.697195       7.611085\n",
      "min         0.000000      0.000000      0.000000       1.000000\n",
      "25%         0.583333      2.000000      4.000000       5.000000\n",
      "50%         1.000000      3.000000      9.000000       9.000000\n",
      "75%         1.666667      3.000000     16.000000      13.000000\n",
      "max         4.000000      4.000000    113.000000      58.000000\n"
     ]
    }
   ],
   "execution_count": 27
  },
  {
   "cell_type": "markdown",
   "metadata": {},
   "source": [
    "## 4️⃣ Análisis de Síntomas Core de IBD\n",
    "\n",
    "Analizar los síntomas más relevantes para Crohn/IBD"
   ]
  },
  {
   "cell_type": "code",
   "metadata": {
    "ExecuteTime": {
     "end_time": "2025-10-13T08:10:58.693810Z",
     "start_time": "2025-10-13T08:10:58.523989Z"
    }
   },
   "source": [
    "# Contar síntomas por categoría\n",
    "symptoms_with_category = symptoms_df[symptoms_df['symptom_category'].notna()]\n",
    "\n",
    "print('Distribución de categorías de síntomas:')\n",
    "category_counts = symptoms_with_category['symptom_category'].value_counts()\n",
    "print(category_counts)\n",
    "\n",
    "# Visualizar\n",
    "plt.figure(figsize=(12, 6))\n",
    "category_counts.plot(kind='barh', color='lightcoral', edgecolor='black')\n",
    "plt.title('Síntomas por Categoría Core de IBD', fontsize=14, fontweight='bold')\n",
    "plt.xlabel('Número de Reportes')\n",
    "plt.tight_layout()\n",
    "plt.show()\n",
    "\n",
    "# Severidad promedio por categoría\n",
    "print('\\nSeveridad promedio por categoría:')\n",
    "severity_by_category = symptoms_with_category.groupby('symptom_category')['severity'].agg(['mean', 'median', 'count'])\n",
    "print(severity_by_category.sort_values('mean', ascending=False))"
   ],
   "outputs": [
    {
     "name": "stdout",
     "output_type": "stream",
     "text": [
      "Distribución de categorías de síntomas:\n",
      "symptom_category\n",
      "other             99615\n",
      "abdominal_pain    10087\n",
      "fatigue            8922\n",
      "diarrhea           8144\n",
      "nausea             4821\n",
      "blood_in_stool     3951\n",
      "joint_pain         3843\n",
      "fever               690\n",
      "weight_loss         178\n",
      "Name: count, dtype: int64\n"
     ]
    },
    {
     "data": {
      "text/plain": [
       "<Figure size 1200x600 with 1 Axes>"
      ],
      "image/png": "[encoded data removed]"
     },
     "metadata": {},
     "output_type": "display_data",
     "jetTransient": {
      "display_id": null
     }
    },
    {
     "name": "stdout",
     "output_type": "stream",
     "text": [
      "\n",
      "Severidad promedio por categoría:\n",
      "                      mean  median  count\n",
      "symptom_category                         \n",
      "fatigue           1.858888     2.0   8922\n",
      "joint_pain        1.656779     2.0   3843\n",
      "other             1.281925     1.0  99615\n",
      "abdominal_pain    1.112224     1.0  10087\n",
      "fever             1.091304     0.0    690\n",
      "nausea            0.854387     0.0   4821\n",
      "diarrhea          0.833251     0.0   8144\n",
      "blood_in_stool    0.490509     0.0   3951\n",
      "weight_loss       0.449438     0.0    178\n"
     ]
    }
   ],
   "execution_count": 28
  },
  {
   "cell_type": "code",
   "metadata": {
    "ExecuteTime": {
     "end_time": "2025-10-13T08:10:58.782738Z",
     "start_time": "2025-10-13T08:10:58.719552Z"
    }
   },
   "source": [
    "# Crear features por categoría de síntoma por día\n",
    "daily_symptoms_by_category = symptoms_with_category.groupby(\n",
    "    ['user_id', 'checkin_date', 'symptom_category']\n",
    ")['severity'].agg(['mean', 'max', 'count']).reset_index()\n",
    "\n",
    "# Pivotar para tener una columna por categoría\n",
    "daily_core_symptoms = daily_symptoms_by_category.pivot_table(\n",
    "    index=['user_id', 'checkin_date'],\n",
    "    columns='symptom_category',\n",
    "    values='mean',\n",
    "    fill_value=0\n",
    ").reset_index()\n",
    "\n",
    "print(f'Dataset con síntomas core por día: {len(daily_core_symptoms):,} registros')\n",
    "print(f'\\nColumnas:')\n",
    "print(daily_core_symptoms.columns.tolist())\n",
    "print(f'\\nPrimeras filas:')\n",
    "print(daily_core_symptoms.head(10))"
   ],
   "outputs": [
    {
     "name": "stdout",
     "output_type": "stream",
     "text": [
      "Dataset con síntomas core por día: 13,362 registros\n",
      "\n",
      "Columnas:\n",
      "['user_id', 'checkin_date', 'abdominal_pain', 'blood_in_stool', 'diarrhea', 'fatigue', 'fever', 'joint_pain', 'nausea', 'other', 'weight_loss']\n",
      "\n",
      "Primeras filas:\n",
      "symptom_category                           user_id checkin_date  \\\n",
      "0                 QEVuQwEA+BvMZxBW+LYs9YFwaRNpOw==   2017-09-06   \n",
      "1                 QEVuQwEA+BvMZxBW+LYs9YFwaRNpOw==   2017-09-07   \n",
      "2                 QEVuQwEA+BvMZxBW+LYs9YFwaRNpOw==   2017-09-09   \n",
      "3                 QEVuQwEA+BvMZxBW+LYs9YFwaRNpOw==   2017-09-10   \n",
      "4                 QEVuQwEA+BvMZxBW+LYs9YFwaRNpOw==   2017-09-11   \n",
      "5                 QEVuQwEA+BvMZxBW+LYs9YFwaRNpOw==   2017-09-13   \n",
      "6                 QEVuQwEA+BvMZxBW+LYs9YFwaRNpOw==   2017-09-14   \n",
      "7                 QEVuQwEA+BvMZxBW+LYs9YFwaRNpOw==   2017-09-20   \n",
      "8                 QEVuQwEA+BvMZxBW+LYs9YFwaRNpOw==   2017-10-08   \n",
      "9                 QEVuQwEA+BvMZxBW+LYs9YFwaRNpOw==   2017-12-21   \n",
      "\n",
      "symptom_category  abdominal_pain  blood_in_stool  diarrhea  fatigue  fever  \\\n",
      "0                            2.0             0.0       0.0      2.0    0.0   \n",
      "1                            1.0             0.0       0.0      1.0    0.0   \n",
      "2                            2.0             0.0       0.0      2.0    0.0   \n",
      "3                            1.0             0.0       0.0      1.0    0.0   \n",
      "4                            4.0             0.0       3.0      2.0    0.0   \n",
      "5                            2.0             0.0       0.0      3.0    0.0   \n",
      "6                            1.0             1.0       0.0      2.0    0.0   \n",
      "7                            2.0             0.0       0.0      4.0    0.0   \n",
      "8                            1.0             0.0       0.0      1.0    0.0   \n",
      "9                            1.0             0.0       0.0      0.0    0.0   \n",
      "\n",
      "symptom_category  joint_pain  nausea     other  weight_loss  \n",
      "0                        0.0     0.0  1.000000          0.0  \n",
      "1                        0.0     0.0  1.000000          0.0  \n",
      "2                        0.0     0.0  1.125000          0.0  \n",
      "3                        0.0     0.0  0.714286          0.0  \n",
      "4                        0.0     0.0  1.428571          0.0  \n",
      "5                        0.0     3.0  0.714286          0.0  \n",
      "6                        0.0     2.0  1.285714          0.0  \n",
      "7                        0.0     2.0  1.444444          0.0  \n",
      "8                        1.0     1.0  0.222222          0.0  \n",
      "9                        0.0     0.0  0.600000          0.0  \n"
     ]
    }
   ],
   "execution_count": 29
  },
  {
   "cell_type": "markdown",
   "metadata": {},
   "source": [
    "## 5️⃣ Definir Variable Objetivo: \"Flare\" (Brote)\n",
    "\n",
    "### Estrategia elegida: Método Híbrido\n",
    "\n",
    "Un \"flare\" se define como un día donde se cumple **cualquiera** de estos criterios:\n",
    "\n",
    "1. **Severidad alta absoluta**: `severity_mean > 2.5` (en escala 0-4)\n",
    "2. **Spike relativo**: Aumento > 50% respecto a media móvil de 7 días del usuario\n",
    "3. **Síntomas core combinados**: Presencia simultánea de:\n",
    "   - Diarrhea con severidad ≥ 2\n",
    "   - Abdominal pain con severidad ≥ 2\n",
    "4. **HBI alto** (si disponible): HBI > 5\n",
    "\n",
    "Este enfoque balancea:\n",
    "- Definición médica estándar\n",
    "- Variabilidad individual (baseline de cada usuario)\n",
    "- Realidad de los datos disponibles"
   ]
  },
  {
   "cell_type": "code",
   "metadata": {
    "ExecuteTime": {
     "end_time": "2025-10-13T08:10:58.827681Z",
     "start_time": "2025-10-13T08:10:58.814884Z"
    }
   },
   "source": [
    "# Merge de datos diarios\n",
    "daily_data = daily_symptoms.merge(\n",
    "    daily_core_symptoms,\n",
    "    left_on=['user_id', 'date'],\n",
    "    right_on=['user_id', 'checkin_date'],\n",
    "    how='left'\n",
    ").drop('checkin_date', axis=1)\n",
    "\n",
    "# Rellenar NaN en categorías con 0 (no reportado = no sintomático)\n",
    "category_cols = ['diarrhea', 'abdominal_pain', 'blood_in_stool', 'fatigue', \n",
    "                 'nausea', 'fever', 'weight_loss', 'joint_pain', 'other']\n",
    "for col in category_cols:\n",
    "    if col in daily_data.columns:\n",
    "        daily_data[col] = daily_data[col].fillna(0)\n",
    "\n",
    "print(f'Dataset diario completo: {len(daily_data):,} registros')\n",
    "print(f'Columnas: {daily_data.columns.tolist()}')"
   ],
   "outputs": [
    {
     "name": "stdout",
     "output_type": "stream",
     "text": [
      "Dataset diario completo: 13,362 registros\n",
      "Columnas: ['user_id', 'date', 'severity_mean', 'severity_max', 'severity_sum', 'symptom_count', 'abdominal_pain', 'blood_in_stool', 'diarrhea', 'fatigue', 'fever', 'joint_pain', 'nausea', 'other', 'weight_loss']\n"
     ]
    }
   ],
   "execution_count": 30
  },
  {
   "cell_type": "code",
   "metadata": {
    "ExecuteTime": {
     "end_time": "2025-10-13T08:10:58.858324Z",
     "start_time": "2025-10-13T08:10:58.834717Z"
    }
   },
   "source": [
    "# Calcular baseline (media móvil) por usuario\n",
    "# Ordenar por usuario y fecha\n",
    "daily_data = daily_data.sort_values(['user_id', 'date'])\n",
    "\n",
    "# Calcular rolling mean de 7 días (baseline del usuario)\n",
    "daily_data['severity_baseline_7d'] = (\n",
    "    daily_data.groupby('user_id')['severity_mean']\n",
    "    .rolling(window=7, min_periods=1)\n",
    "    .mean()\n",
    "    .reset_index(level=0, drop=True)\n",
    ")\n",
    "\n",
    "# Calcular cambio relativo respecto al baseline\n",
    "daily_data['severity_change_pct'] = (\n",
    "    (daily_data['severity_mean'] - daily_data['severity_baseline_7d']) / \n",
    "    (daily_data['severity_baseline_7d'] + 0.1)  # +0.1 para evitar división por cero\n",
    ") * 100\n",
    "\n",
    "print('✓ Baseline calculado')\n",
    "print(f'\\nCambio % en severidad:')\n",
    "print(daily_data['severity_change_pct'].describe())"
   ],
   "outputs": [
    {
     "name": "stdout",
     "output_type": "stream",
     "text": [
      "✓ Baseline calculado\n",
      "\n",
      "Cambio % en severidad:\n",
      "count    13362.000000\n",
      "mean        -0.508377\n",
      "std         40.399669\n",
      "min        -95.804088\n",
      "25%        -20.880782\n",
      "50%         -1.619084\n",
      "75%         14.635120\n",
      "max        444.444444\n",
      "Name: severity_change_pct, dtype: float64\n"
     ]
    }
   ],
   "execution_count": 31
  },
  {
   "cell_type": "code",
   "metadata": {
    "ExecuteTime": {
     "end_time": "2025-10-13T08:10:59.004900Z",
     "start_time": "2025-10-13T08:10:58.882043Z"
    }
   },
   "source": [
    "# DEFINIR FLARE según criterios múltiples\n",
    "def define_flare(row):\n",
    "    \"\"\"\n",
    "    Define si un día es un 'flare' (brote) basándose en múltiples criterios\n",
    "    \"\"\"\n",
    "    # Criterio 1: Severidad absoluta alta\n",
    "    high_severity = row['severity_mean'] > 2.5\n",
    "    \n",
    "    # Criterio 2: Spike relativo (aumento > 50% respecto a baseline)\n",
    "    spike = row['severity_change_pct'] > 50\n",
    "    \n",
    "    # Criterio 3: Síntomas core combinados\n",
    "    diarrhea_present = row.get('diarrhea', 0) >= 2\n",
    "    pain_present = row.get('abdominal_pain', 0) >= 2\n",
    "    core_symptoms_combined = diarrhea_present and pain_present\n",
    "    \n",
    "    # Un flare es TRUE si se cumple cualquiera de los criterios\n",
    "    return high_severity or spike or core_symptoms_combined\n",
    "\n",
    "# Aplicar definición\n",
    "daily_data['is_flare'] = daily_data.apply(define_flare, axis=1)\n",
    "\n",
    "# Convertir a int\n",
    "daily_data['is_flare'] = daily_data['is_flare'].astype(int)\n",
    "\n",
    "print('✓ Variable objetivo \"is_flare\" creada')\n",
    "print(f'\\nDistribución de la variable objetivo:')\n",
    "print(daily_data['is_flare'].value_counts())\n",
    "print(f'\\n% de días con flare: {daily_data[\"is_flare\"].mean()*100:.1f}%')"
   ],
   "outputs": [
    {
     "name": "stdout",
     "output_type": "stream",
     "text": [
      "✓ Variable objetivo \"is_flare\" creada\n",
      "\n",
      "Distribución de la variable objetivo:\n",
      "is_flare\n",
      "0    10998\n",
      "1     2364\n",
      "Name: count, dtype: int64\n",
      "\n",
      "% de días con flare: 17.7%\n"
     ]
    }
   ],
   "execution_count": 32
  },
  {
   "cell_type": "code",
   "metadata": {
    "ExecuteTime": {
     "end_time": "2025-10-13T08:10:59.520464Z",
     "start_time": "2025-10-13T08:10:59.035321Z"
    }
   },
   "source": [
    "# Análisis de la variable objetivo\n",
    "print('Análisis detallado de días con flare vs sin flare:')\n",
    "print('\\nSeveridad promedio:')\n",
    "print(daily_data.groupby('is_flare')['severity_mean'].agg(['mean', 'median', 'std', 'count']))\n",
    "\n",
    "print('\\nNúmero de síntomas:')\n",
    "print(daily_data.groupby('is_flare')['symptom_count'].agg(['mean', 'median', 'std']))\n",
    "\n",
    "# Visualizar distribución\n",
    "fig, axes = plt.subplots(1, 2, figsize=(14, 5))\n",
    "\n",
    "# Severidad\n",
    "daily_data.boxplot(column='severity_mean', by='is_flare', ax=axes[0])\n",
    "axes[0].set_title('Severidad Promedio: Flare vs No Flare')\n",
    "axes[0].set_xlabel('Flare (0=No, 1=Sí)')\n",
    "axes[0].set_ylabel('Severidad Media')\n",
    "\n",
    "# Conteo\n",
    "daily_data['is_flare'].value_counts().plot(kind='bar', ax=axes[1], color=['lightgreen', 'lightcoral'])\n",
    "axes[1].set_title('Distribución de Días: Flare vs No Flare')\n",
    "axes[1].set_xlabel('Flare (0=No, 1=Sí)')\n",
    "axes[1].set_ylabel('Número de Días')\n",
    "axes[1].set_xticklabels(['No Flare', 'Flare'], rotation=0)\n",
    "\n",
    "plt.tight_layout()\n",
    "plt.savefig('../docs/figures/flare_distribution.png', dpi=300, bbox_inches='tight')\n",
    "plt.show()"
   ],
   "outputs": [
    {
     "name": "stdout",
     "output_type": "stream",
     "text": [
      "Análisis detallado de días con flare vs sin flare:\n",
      "\n",
      "Severidad promedio:\n",
      "              mean    median       std  count\n",
      "is_flare                                     \n",
      "0         1.002819  1.000000  0.626663  10998\n",
      "1         2.045822  2.111111  0.875664   2364\n",
      "\n",
      "Número de síntomas:\n",
      "               mean  median       std\n",
      "is_flare                             \n",
      "0         10.470267     9.0  7.308775\n",
      "1         10.617174     8.0  8.884040\n"
     ]
    },
    {
     "data": {
      "text/plain": [
       "<Figure size 1400x500 with 2 Axes>"
      ],
      "image/png": "[encoded data removed]"
     },
     "metadata": {},
     "output_type": "display_data",
     "jetTransient": {
      "display_id": null
     }
    }
   ],
   "execution_count": 33
  },
  {
   "cell_type": "markdown",
   "metadata": {},
   "source": "# Eliminar filas con NaN en features críticos (primeros días de cada usuario)\nprint(f'Registros antes de limpiar NaN: {len(daily_data):,}')\n\n# Identificar columnas numéricas importantes\nnumeric_cols = daily_data.select_dtypes(include=[np.number]).columns.tolist()\nif 'is_flare' in numeric_cols:\n    numeric_cols.remove('is_flare')  # No eliminar filas por NaN en target\n\n# Eliminar filas con demasiados NaN (>50% de features)\n# thresh = número mínimo de valores NO-NaN requeridos\nthreshold = int(np.floor(len(numeric_cols) * 0.5))\nprint(f'Threshold (mín valores no-NaN): {threshold} de {len(numeric_cols)} features')\n\ndaily_data_clean = daily_data.dropna(thresh=threshold)\n\nprint(f'Registros después de limpiar: {len(daily_data_clean):,}')\nprint(f'Reducción: {len(daily_data) - len(daily_data_clean):,} ({(len(daily_data) - len(daily_data_clean))/len(daily_data)*100:.1f}%)')\n\n# Rellenar NaN restantes con 0 (asumiendo que no reportado = no sintomático)\ndaily_data_clean = daily_data_clean.fillna(0)\n\nprint(f'\\n✓ Dataset limpio: {len(daily_data_clean):,} registros')\nprint(f'  Usuarios: {daily_data_clean[\"user_id\"].nunique():,}')\nprint(f'  Columnas: {len(daily_data_clean.columns)}')"
  },
  {
   "cell_type": "code",
   "metadata": {
    "ExecuteTime": {
     "end_time": "2025-10-13T08:10:59.657590Z",
     "start_time": "2025-10-13T08:10:59.548152Z"
    }
   },
   "source": [
    "# Ordenar por usuario y fecha (importante para rolling)\n",
    "daily_data = daily_data.sort_values(['user_id', 'date'])\n",
    "\n",
    "# Crear features de rolling windows (3, 7, 14 días)\n",
    "for window in [3, 7, 14]:\n",
    "    # Severidad promedio en ventana\n",
    "    daily_data[f'severity_mean_{window}d'] = (\n",
    "        daily_data.groupby('user_id')['severity_mean']\n",
    "        .rolling(window=window, min_periods=1)\n",
    "        .mean()\n",
    "        .reset_index(level=0, drop=True)\n",
    "    )\n",
    "    \n",
    "    # Máximo en ventana\n",
    "    daily_data[f'severity_max_{window}d'] = (\n",
    "        daily_data.groupby('user_id')['severity_max']\n",
    "        .rolling(window=window, min_periods=1)\n",
    "        .max()\n",
    "        .reset_index(level=0, drop=True)\n",
    "    )\n",
    "    \n",
    "    # Suma total de síntomas\n",
    "    daily_data[f'symptom_count_{window}d'] = (\n",
    "        daily_data.groupby('user_id')['symptom_count']\n",
    "        .rolling(window=window, min_periods=1)\n",
    "        .sum()\n",
    "        .reset_index(level=0, drop=True)\n",
    "    )\n",
    "\n",
    "print('✓ Features de rolling windows creadas (3, 7, 14 días)')\n",
    "print(f'\\nTotal de columnas: {len(daily_data.columns)}')\n",
    "print(f'\\nNuevas features:')\n",
    "new_features = [col for col in daily_data.columns if any(x in col for x in ['_3d', '_7d', '_14d'])]\n",
    "print(new_features)"
   ],
   "outputs": [
    {
     "name": "stdout",
     "output_type": "stream",
     "text": [
      "✓ Features de rolling windows creadas (3, 7, 14 días)\n",
      "\n",
      "Total de columnas: 27\n",
      "\n",
      "Nuevas features:\n",
      "['severity_baseline_7d', 'severity_mean_3d', 'severity_max_3d', 'symptom_count_3d', 'severity_mean_7d', 'severity_max_7d', 'symptom_count_7d', 'severity_mean_14d', 'severity_max_14d', 'symptom_count_14d']\n"
     ]
    }
   ],
   "execution_count": 34
  },
  {
   "cell_type": "code",
   "metadata": {
    "ExecuteTime": {
     "end_time": "2025-10-13T08:10:59.719056Z",
     "start_time": "2025-10-13T08:10:59.688867Z"
    }
   },
   "source": [
    "# Features de tendencia (cambio en los últimos días)\n",
    "for window in [3, 7]:\n",
    "    # Tendencia = diferencia entre hoy y hace N días\n",
    "    daily_data[f'severity_trend_{window}d'] = (\n",
    "        daily_data.groupby('user_id')['severity_mean']\n",
    "        .diff(periods=window)\n",
    "    )\n",
    "    \n",
    "    # Volatilidad = desviación estándar en ventana\n",
    "    daily_data[f'severity_std_{window}d'] = (\n",
    "        daily_data.groupby('user_id')['severity_mean']\n",
    "        .rolling(window=window, min_periods=2)\n",
    "        .std()\n",
    "        .reset_index(level=0, drop=True)\n",
    "    )\n",
    "\n",
    "print('✓ Features de tendencia y volatilidad creadas')"
   ],
   "outputs": [
    {
     "name": "stdout",
     "output_type": "stream",
     "text": [
      "✓ Features de tendencia y volatilidad creadas\n"
     ]
    }
   ],
   "execution_count": 35
  },
  {
   "cell_type": "code",
   "metadata": {
    "ExecuteTime": {
     "end_time": "2025-10-13T08:10:59.789492Z",
     "start_time": "2025-10-13T08:10:59.738353Z"
    }
   },
   "source": [
    "# Features de síntomas core con rolling windows\n",
    "core_symptom_cols = ['diarrhea', 'abdominal_pain', 'blood_in_stool', 'fatigue']\n",
    "\n",
    "for symptom in core_symptom_cols:\n",
    "    if symptom in daily_data.columns:\n",
    "        # Media móvil de 7 días\n",
    "        daily_data[f'{symptom}_7d'] = (\n",
    "            daily_data.groupby('user_id')[symptom]\n",
    "            .rolling(window=7, min_periods=1)\n",
    "            .mean()\n",
    "            .reset_index(level=0, drop=True)\n",
    "        )\n",
    "\n",
    "print('✓ Features de síntomas core con rolling windows creadas')"
   ],
   "outputs": [
    {
     "name": "stdout",
     "output_type": "stream",
     "text": [
      "✓ Features de síntomas core con rolling windows creadas\n"
     ]
    }
   ],
   "execution_count": 36
  },
  {
   "cell_type": "markdown",
   "metadata": {},
   "source": [
    "## 7️⃣ Features Contextuales"
   ]
  },
  {
   "cell_type": "code",
   "metadata": {
    "ExecuteTime": {
     "end_time": "2025-10-13T08:10:59.824559Z",
     "start_time": "2025-10-13T08:10:59.811425Z"
    }
   },
   "source": [
    "# Features temporales\n",
    "daily_data['day_of_week'] = daily_data['date'].dt.dayofweek\n",
    "daily_data['day_of_month'] = daily_data['date'].dt.day\n",
    "daily_data['month'] = daily_data['date'].dt.month\n",
    "daily_data['is_weekend'] = (daily_data['day_of_week'] >= 5).astype(int)\n",
    "\n",
    "# Días desde el inicio del tracking (por usuario)\n",
    "daily_data['days_since_start'] = (\n",
    "    daily_data.groupby('user_id')['date']\n",
    "    .rank(method='dense')\n",
    "    .astype(int)\n",
    ")\n",
    "\n",
    "print('✓ Features contextuales creadas')\n",
    "print(f'\\nEjemplo:')\n",
    "print(daily_data[['user_id', 'date', 'day_of_week', 'is_weekend', 'days_since_start']].head(10))"
   ],
   "outputs": [
    {
     "name": "stdout",
     "output_type": "stream",
     "text": [
      "✓ Features contextuales creadas\n",
      "\n",
      "Ejemplo:\n",
      "                            user_id       date  day_of_week  is_weekend  \\\n",
      "0  QEVuQwEA+BvMZxBW+LYs9YFwaRNpOw== 2017-09-06            2           0   \n",
      "1  QEVuQwEA+BvMZxBW+LYs9YFwaRNpOw== 2017-09-07            3           0   \n",
      "2  QEVuQwEA+BvMZxBW+LYs9YFwaRNpOw== 2017-09-09            5           1   \n",
      "3  QEVuQwEA+BvMZxBW+LYs9YFwaRNpOw== 2017-09-10            6           1   \n",
      "4  QEVuQwEA+BvMZxBW+LYs9YFwaRNpOw== 2017-09-11            0           0   \n",
      "5  QEVuQwEA+BvMZxBW+LYs9YFwaRNpOw== 2017-09-13            2           0   \n",
      "6  QEVuQwEA+BvMZxBW+LYs9YFwaRNpOw== 2017-09-14            3           0   \n",
      "7  QEVuQwEA+BvMZxBW+LYs9YFwaRNpOw== 2017-09-20            2           0   \n",
      "8  QEVuQwEA+BvMZxBW+LYs9YFwaRNpOw== 2017-10-08            6           1   \n",
      "9  QEVuQwEA+BvMZxBW+LYs9YFwaRNpOw== 2017-12-21            3           0   \n",
      "\n",
      "   days_since_start  \n",
      "0                 1  \n",
      "1                 2  \n",
      "2                 3  \n",
      "3                 4  \n",
      "4                 5  \n",
      "5                 6  \n",
      "6                 7  \n",
      "7                 8  \n",
      "8                 9  \n",
      "9                10  \n"
     ]
    }
   ],
   "execution_count": 37
  },
  {
   "cell_type": "markdown",
   "metadata": {},
   "source": [
    "## 8️⃣ Crear Features de Lag (Valores Pasados)\n",
    "\n",
    "Para predecir el futuro, necesitamos usar solo información del pasado"
   ]
  },
  {
   "cell_type": "code",
   "metadata": {
    "ExecuteTime": {
     "end_time": "2025-10-13T08:10:59.863281Z",
     "start_time": "2025-10-13T08:10:59.847043Z"
    }
   },
   "source": [
    "# Features de lag (1, 2, 3 días atrás)\n",
    "for lag in [1, 2, 3]:\n",
    "    daily_data[f'severity_mean_lag{lag}'] = (\n",
    "        daily_data.groupby('user_id')['severity_mean']\n",
    "        .shift(lag)\n",
    "    )\n",
    "    \n",
    "    daily_data[f'is_flare_lag{lag}'] = (\n",
    "        daily_data.groupby('user_id')['is_flare']\n",
    "        .shift(lag)\n",
    "    )\n",
    "\n",
    "print('✓ Features de lag creadas (1, 2, 3 días)')\n",
    "print(f'\\nEjemplo:')\n",
    "print(daily_data[['user_id', 'date', 'severity_mean', 'severity_mean_lag1', 'severity_mean_lag2']].head(10))"
   ],
   "outputs": [
    {
     "name": "stdout",
     "output_type": "stream",
     "text": [
      "✓ Features de lag creadas (1, 2, 3 días)\n",
      "\n",
      "Ejemplo:\n",
      "                            user_id       date  severity_mean  \\\n",
      "0  QEVuQwEA+BvMZxBW+LYs9YFwaRNpOw== 2017-09-06       0.916667   \n",
      "1  QEVuQwEA+BvMZxBW+LYs9YFwaRNpOw== 2017-09-07       0.875000   \n",
      "2  QEVuQwEA+BvMZxBW+LYs9YFwaRNpOw== 2017-09-09       1.000000   \n",
      "3  QEVuQwEA+BvMZxBW+LYs9YFwaRNpOw== 2017-09-10       0.583333   \n",
      "4  QEVuQwEA+BvMZxBW+LYs9YFwaRNpOw== 2017-09-11       1.583333   \n",
      "5  QEVuQwEA+BvMZxBW+LYs9YFwaRNpOw== 2017-09-13       1.000000   \n",
      "6  QEVuQwEA+BvMZxBW+LYs9YFwaRNpOw== 2017-09-14       1.153846   \n",
      "7  QEVuQwEA+BvMZxBW+LYs9YFwaRNpOw== 2017-09-20       1.400000   \n",
      "8  QEVuQwEA+BvMZxBW+LYs9YFwaRNpOw== 2017-10-08       0.400000   \n",
      "9  QEVuQwEA+BvMZxBW+LYs9YFwaRNpOw== 2017-12-21       0.437500   \n",
      "\n",
      "   severity_mean_lag1  severity_mean_lag2  \n",
      "0                 NaN                 NaN  \n",
      "1            0.916667                 NaN  \n",
      "2            0.875000            0.916667  \n",
      "3            1.000000            0.875000  \n",
      "4            0.583333            1.000000  \n",
      "5            1.583333            0.583333  \n",
      "6            1.000000            1.583333  \n",
      "7            1.153846            1.000000  \n",
      "8            1.400000            1.153846  \n",
      "9            0.400000            1.400000  \n"
     ]
    }
   ],
   "execution_count": 38
  },
  {
   "cell_type": "markdown",
   "metadata": {},
   "source": [
    "## 9️⃣ Preparar Dataset Final"
   ]
  },
  {
   "cell_type": "code",
   "metadata": {
    "ExecuteTime": {
     "end_time": "2025-10-13T08:10:59.903630Z",
     "start_time": "2025-10-13T08:10:59.880341Z"
    }
   },
   "source": "# Eliminar filas con NaN en features críticos (primeros días de cada usuario)\nprint(f'Registros antes de limpiar NaN: {len(daily_data):,}')\n\n# Identificar columnas numéricas importantes\nnumeric_cols = daily_data.select_dtypes(include=[np.number]).columns.tolist()\nif 'is_flare' in numeric_cols:\n    numeric_cols.remove('is_flare')  # No eliminar filas por NaN en target\n\n# Eliminar filas con demasiados NaN (>50% de features)\n# thresh = número mínimo de valores NO-NaN requeridos\nthreshold = int(np.floor(len(numeric_cols) * 0.5))\nprint(f'Threshold (mín valores no-NaN): {threshold} de {len(numeric_cols)} features')\n\ndaily_data_clean = daily_data.dropna(thresh=threshold)\n\nprint(f'Registros después de limpiar: {len(daily_data_clean):,}')\nprint(f'Reducción: {len(daily_data) - len(daily_data_clean):,} ({(len(daily_data) - len(daily_data_clean))/len(daily_data)*100:.1f}%)')\n\n# Rellenar NaN restantes con 0 (asumiendo que no reportado = no sintomático)\ndaily_data_clean = daily_data_clean.fillna(0)\n\nprint(f'\\n✓ Dataset limpio: {len(daily_data_clean):,} registros')\nprint(f'  Usuarios: {daily_data_clean[\"user_id\"].nunique():,}')\nprint(f'  Columnas: {len(daily_data_clean.columns)}')",
   "outputs": [
    {
     "name": "stdout",
     "output_type": "stream",
     "text": [
      "Registros antes de limpiar NaN: 13,362\n",
      "Threshold (mín valores no-NaN): 21 de 43 features\n",
      "Registros después de limpiar: 13,362\n",
      "Reducción: 0 (0.0%)\n",
      "\n",
      "✓ Dataset limpio: 13,362 registros\n",
      "  Usuarios: 325\n",
      "  Columnas: 46\n"
     ]
    }
   ],
   "execution_count": 39
  },
  {
   "cell_type": "code",
   "metadata": {
    "ExecuteTime": {
     "end_time": "2025-10-13T08:10:59.918286Z",
     "start_time": "2025-10-13T08:10:59.912609Z"
    }
   },
   "source": [
    "# Verificar balance de clases\n",
    "print('Balance de clases:')\n",
    "print(daily_data_clean['is_flare'].value_counts())\n",
    "print(f'\\n% Flare: {daily_data_clean[\"is_flare\"].mean()*100:.1f}%')\n",
    "print(f'% No Flare: {(1 - daily_data_clean[\"is_flare\"].mean())*100:.1f}%')\n",
    "\n",
    "# Ratio de desbalance\n",
    "n_no_flare = (daily_data_clean['is_flare'] == 0).sum()\n",
    "n_flare = (daily_data_clean['is_flare'] == 1).sum()\n",
    "imbalance_ratio = n_no_flare / n_flare if n_flare > 0 else 0\n",
    "\n",
    "print(f'\\nRatio de desbalance: {imbalance_ratio:.2f}:1 (no_flare:flare)')\n",
    "if imbalance_ratio > 3:\n",
    "    print('⚠️ Dataset desbalanceado. Considerar técnicas de balanceo (SMOTE, class_weight, etc.)')\n",
    "else:\n",
    "    print('✓ Balance aceptable')"
   ],
   "outputs": [
    {
     "name": "stdout",
     "output_type": "stream",
     "text": [
      "Balance de clases:\n",
      "is_flare\n",
      "0    10998\n",
      "1     2364\n",
      "Name: count, dtype: int64\n",
      "\n",
      "% Flare: 17.7%\n",
      "% No Flare: 82.3%\n",
      "\n",
      "Ratio de desbalance: 4.65:1 (no_flare:flare)\n",
      "⚠️ Dataset desbalanceado. Considerar técnicas de balanceo (SMOTE, class_weight, etc.)\n"
     ]
    }
   ],
   "execution_count": 40
  },
  {
   "cell_type": "markdown",
   "metadata": {},
   "source": [
    "## 🔟 Guardar Dataset de Features"
   ]
  },
  {
   "cell_type": "code",
   "metadata": {
    "ExecuteTime": {
     "end_time": "2025-10-13T08:11:00.329362Z",
     "start_time": "2025-10-13T08:10:59.982203Z"
    }
   },
   "source": [
    "import os\n",
    "\n",
    "# Guardar dataset completo con features\n",
    "output_file = '../data/processed/features_daily.csv'\n",
    "daily_data_clean.to_csv(output_file, index=False)\n",
    "print(f'✓ Dataset de features guardado: {output_file}')\n",
    "print(f'  Tamaño: {os.path.getsize(output_file)/(1024**2):.2f} MB')\n",
    "\n",
    "# Guardar también metadata\n",
    "feature_metadata = {\n",
    "    'total_records': len(daily_data_clean),\n",
    "    'total_users': daily_data_clean['user_id'].nunique(),\n",
    "    'total_features': len(daily_data_clean.columns),\n",
    "    'flare_percentage': daily_data_clean['is_flare'].mean() * 100,\n",
    "    'date_range': (daily_data_clean['date'].min().strftime('%Y-%m-%d'), \n",
    "                   daily_data_clean['date'].max().strftime('%Y-%m-%d')),\n",
    "}\n",
    "\n",
    "print(f'\\nMetadata:')\n",
    "for key, value in feature_metadata.items():\n",
    "    print(f'  {key}: {value}')"
   ],
   "outputs": [
    {
     "name": "stdout",
     "output_type": "stream",
     "text": [
      "✓ Dataset de features guardado: ../data/processed/features_daily.csv\n",
      "  Tamaño: 4.94 MB\n",
      "\n",
      "Metadata:\n",
      "  total_records: 13362\n",
      "  total_users: 325\n",
      "  total_features: 46\n",
      "  flare_percentage: 17.691962281095645\n",
      "  date_range: ('2015-05-24', '2019-12-05')\n"
     ]
    }
   ],
   "execution_count": 41
  },
  {
   "cell_type": "code",
   "metadata": {
    "ExecuteTime": {
     "end_time": "2025-10-13T08:11:00.363325Z",
     "start_time": "2025-10-13T08:11:00.358399Z"
    }
   },
   "source": [
    "# Lista de features para referencia\n",
    "feature_list = [col for col in daily_data_clean.columns if col not in ['user_id', 'date', 'is_flare']]\n",
    "\n",
    "print(f'\\nTotal de features disponibles para modelado: {len(feature_list)}')\n",
    "print(f'\\nCategorías de features:')\n",
    "\n",
    "categories = {\n",
    "    'Severidad base': [f for f in feature_list if 'severity' in f and 'lag' not in f and '_d' not in f],\n",
    "    'Rolling windows': [f for f in feature_list if any(x in f for x in ['_3d', '_7d', '_14d'])],\n",
    "    'Tendencias': [f for f in feature_list if 'trend' in f or 'std' in f],\n",
    "    'Lags': [f for f in feature_list if 'lag' in f],\n",
    "    'Síntomas core': [f for f in feature_list if any(x in f for x in ['diarrhea', 'abdominal_pain', 'blood_in_stool', 'fatigue'])],\n",
    "    'Temporales': [f for f in feature_list if any(x in f for x in ['day_', 'month', 'weekend', 'days_since'])],\n",
    "}\n",
    "\n",
    "for category, features in categories.items():\n",
    "    print(f'\\n{category} ({len(features)}):')\n",
    "    for f in features[:5]:  # Mostrar solo primeras 5\n",
    "        print(f'  - {f}')\n",
    "    if len(features) > 5:\n",
    "        print(f'  ... y {len(features) - 5} más')"
   ],
   "outputs": [
    {
     "name": "stdout",
     "output_type": "stream",
     "text": [
      "\n",
      "Total de features disponibles para modelado: 43\n",
      "\n",
      "Categorías de features:\n",
      "\n",
      "Severidad base (15):\n",
      "  - severity_mean\n",
      "  - severity_max\n",
      "  - severity_sum\n",
      "  - severity_baseline_7d\n",
      "  - severity_change_pct\n",
      "  ... y 10 más\n",
      "\n",
      "Rolling windows (18):\n",
      "  - severity_baseline_7d\n",
      "  - severity_mean_3d\n",
      "  - severity_max_3d\n",
      "  - symptom_count_3d\n",
      "  - severity_mean_7d\n",
      "  ... y 13 más\n",
      "\n",
      "Tendencias (4):\n",
      "  - severity_trend_3d\n",
      "  - severity_std_3d\n",
      "  - severity_trend_7d\n",
      "  - severity_std_7d\n",
      "\n",
      "Lags (6):\n",
      "  - severity_mean_lag1\n",
      "  - is_flare_lag1\n",
      "  - severity_mean_lag2\n",
      "  - is_flare_lag2\n",
      "  - severity_mean_lag3\n",
      "  ... y 1 más\n",
      "\n",
      "Síntomas core (8):\n",
      "  - abdominal_pain\n",
      "  - blood_in_stool\n",
      "  - diarrhea\n",
      "  - fatigue\n",
      "  - diarrhea_7d\n",
      "  ... y 3 más\n",
      "\n",
      "Temporales (5):\n",
      "  - day_of_week\n",
      "  - day_of_month\n",
      "  - month\n",
      "  - is_weekend\n",
      "  - days_since_start\n"
     ]
    }
   ],
   "execution_count": 42
  },
  {
   "cell_type": "markdown",
   "metadata": {},
   "source": [
    "## ✅ Resumen\n",
    "\n",
    "### Variable Objetivo \"Flare\" definida:\n",
    "Un día es considerado \"flare\" si cumple **cualquiera** de:\n",
    "1. ✅ Severidad promedio > 2.5 (en escala 0-4)\n",
    "2. ✅ Aumento > 50% respecto a baseline de 7 días\n",
    "3. ✅ Diarrhea ≥ 2 AND Abdominal pain ≥ 2\n",
    "\n",
    "### Features creadas:\n",
    "1. ✅ **Rolling windows** (3, 7, 14 días): Media, máximo, suma\n",
    "2. ✅ **Tendencias**: Cambio en 3 y 7 días\n",
    "3. ✅ **Volatilidad**: Desviación estándar en ventanas\n",
    "4. ✅ **Síntomas core**: Rolling means de diarrhea, pain, blood, fatigue\n",
    "5. ✅ **Lags**: Valores de 1, 2, 3 días atrás\n",
    "6. ✅ **Temporales**: Día de semana, mes, días desde inicio\n",
    "\n",
    "### Archivos generados:\n",
    "- `features_daily.csv`: Dataset listo para modelado con todas las features\n",
    "\n",
    "### Próximos pasos:\n",
    "1. **Model Training** (`04_model_training.ipynb`):\n",
    "   - Train/test split temporal (NO aleatorio)\n",
    "   - Modelos baseline: Logistic Regression, Random Forest\n",
    "   - Modelo avanzado: LSTM o XGBoost\n",
    "   - Feature importance analysis\n",
    "   - Evaluación: Precision, Recall, F1, ROC-AUC\n",
    "   - Considerar class balancing (SMOTE, class_weight)\n",
    "\n",
    "### Notas importantes:\n",
    "- ⚠️ Dataset probablemente desbalanceado (más días sin flare que con flare)\n",
    "- ⚠️ Usar split temporal para validación (no aleatorio)\n",
    "- ⚠️ Evaluar especialmente el **recall** (detectar todos los flares es crítico en medicina)"
   ]
  }
 ],
 "metadata": {
  "kernelspec": {
   "display_name": "Python 3",
   "language": "python",
   "name": "python3"
  },
  "language_info": {
   "codemirror_mode": {
    "name": "ipython",
    "version": 3
   },
   "file_extension": ".py",
   "mimetype": "text/x-python",
   "name": "python",
   "nbconvert_exporter": "python",
   "pygments_lexer": "ipython3",
   "version": "3.8.0"
  }
 },
 "nbformat": 4,
 "nbformat_minor": 4
}
