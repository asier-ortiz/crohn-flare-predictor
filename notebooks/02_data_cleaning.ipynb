{
 "cells": [
  {
   "cell_type": "markdown",
   "metadata": {},
   "source": [
    "# 🧹 Limpieza de Datos: Dataset Crohn/IBD\n",
    "\n",
    "**Objetivo:** Limpiar y normalizar los datos filtrados de usuarios con Crohn/IBD\n",
    "\n",
    "**Input:** `crohn_filtered.csv` (390,765 registros, 2,046 usuarios)\n",
    "\n",
    "**Tareas:**\n",
    "1. Separar valores numéricos vs categóricos en `trackable_value`\n",
    "2. Normalizar nombres de síntomas (estandarizar)\n",
    "3. Limpiar tratamientos y dosis\n",
    "4. Manejar valores missing\n",
    "5. Preparar datos para feature engineering\n",
    "\n",
    "**Autor:** Asier Ortiz García  \n",
    "**Fecha:** Octubre 2025"
   ]
  },
  {
   "cell_type": "markdown",
   "metadata": {},
   "source": [
    "## 📦 Imports y Configuración"
   ]
  },
  {
   "cell_type": "code",
   "metadata": {
    "ExecuteTime": {
     "end_time": "2025-10-13T07:38:17.695398Z",
     "start_time": "2025-10-13T07:38:17.690500Z"
    }
   },
   "source": [
    "import pandas as pd\n",
    "import numpy as np\n",
    "import matplotlib.pyplot as plt\n",
    "import seaborn as sns\n",
    "from collections import Counter\n",
    "import re\n",
    "import warnings\n",
    "warnings.filterwarnings('ignore')\n",
    "\n",
    "plt.style.use('seaborn-v0_8-whitegrid')\n",
    "sns.set_palette('husl')\n",
    "plt.rcParams['figure.figsize'] = (14, 6)\n",
    "%matplotlib inline\n",
    "\n",
    "print('=' * 80)\n",
    "print('LIMPIEZA DE DATOS: Dataset Crohn/IBD')\n",
    "print('=' * 80)"
   ],
   "outputs": [
    {
     "name": "stdout",
     "output_type": "stream",
     "text": [
      "================================================================================\n",
      "LIMPIEZA DE DATOS: Dataset Crohn/IBD\n",
      "================================================================================\n"
     ]
    }
   ],
   "execution_count": 19
  },
  {
   "cell_type": "markdown",
   "metadata": {},
   "source": [
    "## 1️⃣ Cargar Datos Filtrados"
   ]
  },
  {
   "cell_type": "code",
   "metadata": {
    "ExecuteTime": {
     "end_time": "2025-10-13T07:38:18.250734Z",
     "start_time": "2025-10-13T07:38:17.722521Z"
    }
   },
   "source": [
    "# Cargar datos filtrados del notebook anterior\n",
    "df = pd.read_csv('../data/processed/crohn_filtered.csv', parse_dates=['checkin_date'])\n",
    "\n",
    "print(f'✓ Cargado: {len(df):,} registros')\n",
    "print(f'  Usuarios: {df[\"user_id\"].nunique():,}')\n",
    "print(f'  Rango: {df[\"checkin_date\"].min()} → {df[\"checkin_date\"].max()}')\n",
    "print(f'\\nDistribución por tipo:')\n",
    "print(df['trackable_type'].value_counts())"
   ],
   "outputs": [
    {
     "name": "stdout",
     "output_type": "stream",
     "text": [
      "✓ Cargado: 390,765 registros\n",
      "  Usuarios: 2,046\n",
      "  Rango: 2015-05-24 00:00:00 → 2019-12-06 00:00:00\n",
      "\n",
      "Distribución por tipo:\n",
      "trackable_type\n",
      "Symptom      161086\n",
      "Treatment     67169\n",
      "Weather       59892\n",
      "Condition     56185\n",
      "Food          23175\n",
      "Tag           23101\n",
      "HBI             157\n",
      "Name: count, dtype: int64\n"
     ]
    }
   ],
   "execution_count": 20
  },
  {
   "cell_type": "markdown",
   "metadata": {},
   "source": [
    "## 2️⃣ Análisis de `trackable_value`"
   ]
  },
  {
   "cell_type": "code",
   "metadata": {
    "ExecuteTime": {
     "end_time": "2025-10-13T07:38:18.480983Z",
     "start_time": "2025-10-13T07:38:18.259514Z"
    }
   },
   "source": [
    "print('Top 30 valores de trackable_value:')\n",
    "print(df['trackable_value'].value_counts().head(30))\n",
    "\n",
    "# Intentar convertir a numérico\n",
    "df['value_numeric'] = pd.to_numeric(df['trackable_value'], errors='coerce')\n",
    "\n",
    "numeric_mask = df['value_numeric'].notna()\n",
    "print(f'\\nValores numéricos: {numeric_mask.sum():,} ({numeric_mask.sum()/len(df)*100:.1f}%)')\n",
    "print(f'Valores no numéricos: {(~numeric_mask).sum():,}')\n",
    "\n",
    "# Ver distribución por tipo\n",
    "print('\\nNuméricos por tipo:')\n",
    "print(df[numeric_mask].groupby('trackable_type').size())\n",
    "\n",
    "print('\\nNo numéricos por tipo:')\n",
    "print(df[~numeric_mask].groupby('trackable_type').size())"
   ],
   "outputs": [
    {
     "name": "stdout",
     "output_type": "stream",
     "text": [
      "Top 30 valores de trackable_value:\n",
      "trackable_value\n",
      "0                                75089\n",
      "1                                53002\n",
      "2                                46026\n",
      "3                                28541\n",
      "4                                15344\n",
      "partly-cloudy-day                 3641\n",
      "rain                              2387\n",
      "1.0 tablet                        2180\n",
      "0.0                               2012\n",
      "30.0 mg                           1726\n",
      "150.0 mcg                         1548\n",
      "partly-cloudy-night               1462\n",
      "1000.0 IU                         1439\n",
      "0.5 packet                        1408\n",
      "2 capsules                        1403\n",
      "1 capsule                         1350\n",
      "150.0 mg                          1099\n",
      "2 x 500mg                         1033\n",
      "20 ml                             1011\n",
      "0.0001                             993\n",
      "1.0 drop                           987\n",
      "clear-day                          962\n",
      "3.0 pill                           954\n",
      "1 tsp                              932\n",
      "5 mg                               883\n",
      "1.0 dose                           798\n",
      "3 drops                            751\n",
      "2 x 100.0 mg                       735\n",
      "20.0 mg                            675\n",
      "325 mg (35 mg elemental iron)      673\n",
      "Name: count, dtype: int64\n",
      "\n",
      "Valores numéricos: 268,473 (68.7%)\n",
      "Valores no numéricos: 122,292\n",
      "\n",
      "Numéricos por tipo:\n",
      "trackable_type\n",
      "Condition     56185\n",
      "HBI             157\n",
      "Symptom      161086\n",
      "Treatment      1149\n",
      "Weather       49896\n",
      "dtype: int64\n",
      "\n",
      "No numéricos por tipo:\n",
      "trackable_type\n",
      "Food         23175\n",
      "Tag          23101\n",
      "Treatment    66020\n",
      "Weather       9996\n",
      "dtype: int64\n"
     ]
    }
   ],
   "execution_count": 21
  },
  {
   "cell_type": "markdown",
   "metadata": {},
   "source": [
    "## 3️⃣ Limpiar Valores por Tipo\n",
    "\n",
    "Estrategia:\n",
    "- **Symptoms**: Convertir a escala 0-4 (severidad)\n",
    "- **Treatments**: Extraer indicador de toma (yes/no) y dosis si es posible\n",
    "- **Weather**: Categorías fijas\n",
    "- **Food**: Binario (consumido o no)\n",
    "- **HBI**: Numérico directo"
   ]
  },
  {
   "cell_type": "code",
   "metadata": {
    "ExecuteTime": {
     "end_time": "2025-10-13T07:38:18.618290Z",
     "start_time": "2025-10-13T07:38:18.488759Z"
    }
   },
   "source": [
    "# Crear columna limpia para cada tipo\n",
    "df['value_clean'] = df['trackable_value'].copy()\n",
    "\n",
    "# SÍNTOMAS: Ya deberían ser 0-4 en su mayoría\n",
    "symptoms = df[df['trackable_type'] == 'Symptom'].copy()\n",
    "print('Síntomas - distribución de valores:')\n",
    "print(symptoms['trackable_value'].value_counts().head(10))\n",
    "\n",
    "# Verificar si hay síntomas con valores fuera de 0-4\n",
    "symptoms_numeric = pd.to_numeric(symptoms['trackable_value'], errors='coerce')\n",
    "out_of_range = symptoms_numeric[(symptoms_numeric < 0) | (symptoms_numeric > 4)]\n",
    "print(f'\\nSíntomas fuera de rango 0-4: {len(out_of_range):,}')\n",
    "if len(out_of_range) > 0:\n",
    "    print('Valores únicos fuera de rango:', sorted(out_of_range.unique())[:20])"
   ],
   "outputs": [
    {
     "name": "stdout",
     "output_type": "stream",
     "text": [
      "Síntomas - distribución de valores:\n",
      "trackable_value\n",
      "0    57066\n",
      "1    39019\n",
      "2    34090\n",
      "3    20314\n",
      "4    10597\n",
      "Name: count, dtype: int64\n",
      "\n",
      "Síntomas fuera de rango 0-4: 0\n"
     ]
    }
   ],
   "execution_count": 22
  },
  {
   "cell_type": "code",
   "metadata": {
    "ExecuteTime": {
     "end_time": "2025-10-13T07:38:18.796521Z",
     "start_time": "2025-10-13T07:38:18.639018Z"
    }
   },
   "source": "# TRATAMIENTOS: Extraer dosis\ntreatments = df[df['trackable_type'] == 'Treatment'].copy()\nprint('Tratamientos - ejemplos de valores:')\nprint(treatments['trackable_value'].value_counts().head(20))\n\n# Función para extraer dosis numérica de tratamientos\ndef extract_dose(value):\n    \"\"\"\n    Extrae la dosis numérica de strings como '1.0 tablet', '30.0 mg', '2 capsules'\n    \"\"\"\n    if pd.isna(value):\n        return np.nan\n    \n    # Si ya es numérico, devolver\n    try:\n        return float(value)\n    except:\n        pass\n    \n    # Buscar patrones como \"30.0 mg\", \"1.0 tablet\", \"2 capsules\"\n    # Debe tener al menos un dígito (no solo punto)\n    match = re.search(r'(\\d+\\.?\\d*|\\d*\\.\\d+)', str(value))\n    if match:\n        try:\n            return float(match.group(1))\n        except ValueError:\n            return np.nan\n    \n    return np.nan\n\n# Aplicar extracción de dosis\ntreatments['dose_extracted'] = treatments['trackable_value'].apply(extract_dose)\nprint(f'\\nDosis extraídas: {treatments[\"dose_extracted\"].notna().sum():,} de {len(treatments):,}')\nprint(f'Dosis promedio: {treatments[\"dose_extracted\"].mean():.2f}')\nprint(f'Dosis mediana: {treatments[\"dose_extracted\"].median():.2f}')",
   "outputs": [
    {
     "name": "stdout",
     "output_type": "stream",
     "text": [
      "Tratamientos - ejemplos de valores:\n",
      "trackable_value\n",
      "1.0 tablet                       2180\n",
      "30.0 mg                          1726\n",
      "150.0 mcg                        1548\n",
      "1000.0 IU                        1439\n",
      "0.5 packet                       1408\n",
      "2 capsules                       1403\n",
      "1 capsule                        1350\n",
      "150.0 mg                         1099\n",
      "2 x 500mg                        1033\n",
      "20 ml                            1011\n",
      "1.0 drop                          987\n",
      "3.0 pill                          954\n",
      "1 tsp                             932\n",
      "5 mg                              883\n",
      "1.0 dose                          798\n",
      "3 drops                           751\n",
      "2 x 100.0 mg                      735\n",
      "20.0 mg                           675\n",
      "325 mg (35 mg elemental iron)     673\n",
      "8 pills                           659\n",
      "Name: count, dtype: int64\n",
      "\n",
      "Dosis extraídas: 65,806 de 67,169\n",
      "Dosis promedio: 133.38\n",
      "Dosis mediana: 3.00\n"
     ]
    }
   ],
   "execution_count": 23
  },
  {
   "cell_type": "code",
   "metadata": {
    "ExecuteTime": {
     "end_time": "2025-10-13T07:38:18.843078Z",
     "start_time": "2025-10-13T07:38:18.803867Z"
    }
   },
   "source": [
    "# WEATHER: Categorías\n",
    "weather = df[df['trackable_type'] == 'Weather'].copy()\n",
    "print('Weather - categorías:')\n",
    "print(weather['trackable_value'].value_counts())"
   ],
   "outputs": [
    {
     "name": "stdout",
     "output_type": "stream",
     "text": [
      "Weather - categorías:\n",
      "trackable_value\n",
      "partly-cloudy-day      3641\n",
      "rain                   2387\n",
      "0.0                    2012\n",
      "partly-cloudy-night    1462\n",
      "0.0001                  993\n",
      "                       ... \n",
      "0.1805                    1\n",
      "0.0527                    1\n",
      "0.0358                    1\n",
      "0.0422                    1\n",
      "0.0495                    1\n",
      "Name: count, Length: 704, dtype: int64\n"
     ]
    }
   ],
   "execution_count": 24
  },
  {
   "cell_type": "markdown",
   "metadata": {},
   "source": [
    "## 4️⃣ Normalizar Nombres de Síntomas\n",
    "\n",
    "Problema identificado: 9,000+ síntomas únicos con muchos duplicados por:\n",
    "- Mayúsculas/minúsculas: \"Diarrhea\" vs \"diarrhea\"\n",
    "- Espacios extra\n",
    "- Sinónimos: \"loose stools\" vs \"diarrhea\"\n",
    "- Typos: \"Diarrhea\" vs \"Diarrea\""
   ]
  },
  {
   "cell_type": "code",
   "metadata": {
    "ExecuteTime": {
     "end_time": "2025-10-13T07:38:19.102470Z",
     "start_time": "2025-10-13T07:38:18.850852Z"
    }
   },
   "source": [
    "# Analizar síntomas\n",
    "symptoms_df = df[df['trackable_type'] == 'Symptom'].copy()\n",
    "print(f'Síntomas únicos (sin limpiar): {symptoms_df[\"trackable_name\"].nunique():,}')\n",
    "\n",
    "# Normalización básica: lowercase, strip, remove extra spaces\n",
    "symptoms_df['symptom_normalized'] = (\n",
    "    symptoms_df['trackable_name']\n",
    "    .str.lower()\n",
    "    .str.strip()\n",
    "    .str.replace(r'\\s+', ' ', regex=True)  # Reemplazar múltiples espacios por uno\n",
    ")\n",
    "\n",
    "print(f'Síntomas únicos (normalizado): {symptoms_df[\"symptom_normalized\"].nunique():,}')\n",
    "print(f'Reducción: {symptoms_df[\"trackable_name\"].nunique() - symptoms_df[\"symptom_normalized\"].nunique():,} duplicados eliminados')\n",
    "\n",
    "# Top síntomas después de normalizar\n",
    "print('\\nTop 20 síntomas (normalizados):')\n",
    "top_symptoms = symptoms_df['symptom_normalized'].value_counts().head(20)\n",
    "print(top_symptoms)"
   ],
   "outputs": [
    {
     "name": "stdout",
     "output_type": "stream",
     "text": [
      "Síntomas únicos (sin limpiar): 2,159\n",
      "Síntomas únicos (normalizado): 2,152\n",
      "Reducción: 7 duplicados eliminados\n",
      "\n",
      "Top 20 síntomas (normalizados):\n",
      "symptom_normalized\n",
      "diarrhea                 8307\n",
      "fatigue                  6696\n",
      "nausea                   5372\n",
      "abdominal pain           5202\n",
      "headache                 4112\n",
      "joint pain               3926\n",
      "bloating                 3292\n",
      "stomach pain             3114\n",
      "constipation             2838\n",
      "fatigue and tiredness    2678\n",
      "bloody stools            2562\n",
      "gas                      2253\n",
      "bowel urgency            1932\n",
      "anxiety                  1892\n",
      "brain fog                1863\n",
      "lower abdomen pain       1842\n",
      "stiffness                1790\n",
      "bowel movements          1720\n",
      "depression               1454\n",
      "lightheadedness          1433\n",
      "Name: count, dtype: int64\n"
     ]
    }
   ],
   "execution_count": 25
  },
  {
   "cell_type": "code",
   "metadata": {
    "ExecuteTime": {
     "end_time": "2025-10-13T07:38:19.353153Z",
     "start_time": "2025-10-13T07:38:19.111446Z"
    }
   },
   "source": [
    "# Identificar síntomas relacionados con Crohn/IBD\n",
    "# Basado en literatura médica: https://www.crohnscolitisfoundation.org/\n",
    "IBD_CORE_SYMPTOMS = {\n",
    "    'diarrhea': ['diarrhea', 'diarrhoea', 'loose stools', 'loose stool', 'watery stool'],\n",
    "    'abdominal_pain': ['abdominal pain', 'stomach pain', 'belly pain', 'cramping', 'cramps'],\n",
    "    'blood_in_stool': ['blood in stool', 'bloody stool', 'rectal bleeding', 'bleeding'],\n",
    "    'fatigue': ['fatigue', 'tired', 'tiredness', 'exhaustion', 'low energy'],\n",
    "    'nausea': ['nausea', 'nauseous', 'feeling sick'],\n",
    "    'fever': ['fever', 'high temperature', 'temperature'],\n",
    "    'weight_loss': ['weight loss', 'losing weight'],\n",
    "    'joint_pain': ['joint pain', 'arthralgia', 'joints hurt'],\n",
    "}\n",
    "\n",
    "def map_to_core_symptom(symptom_text):\n",
    "    \"\"\"\n",
    "    Mapea síntomas a categorías core de IBD\n",
    "    \"\"\"\n",
    "    if pd.isna(symptom_text):\n",
    "        return 'other'\n",
    "    \n",
    "    symptom_lower = str(symptom_text).lower()\n",
    "    \n",
    "    for core_symptom, keywords in IBD_CORE_SYMPTOMS.items():\n",
    "        for keyword in keywords:\n",
    "            if keyword in symptom_lower:\n",
    "                return core_symptom\n",
    "    \n",
    "    return 'other'\n",
    "\n",
    "# Aplicar mapeo\n",
    "symptoms_df['symptom_category'] = symptoms_df['symptom_normalized'].apply(map_to_core_symptom)\n",
    "\n",
    "print('Distribución de categorías de síntomas:')\n",
    "print(symptoms_df['symptom_category'].value_counts())\n",
    "\n",
    "print(f'\\n% de síntomas categorizados (no \"other\"): {(symptoms_df[\"symptom_category\"] != \"other\").sum() / len(symptoms_df) * 100:.1f}%')"
   ],
   "outputs": [
    {
     "name": "stdout",
     "output_type": "stream",
     "text": [
      "Distribución de categorías de síntomas:\n",
      "symptom_category\n",
      "other             113386\n",
      "abdominal_pain     12131\n",
      "fatigue            10601\n",
      "diarrhea            9395\n",
      "nausea              5517\n",
      "blood_in_stool      4576\n",
      "joint_pain          4424\n",
      "fever                797\n",
      "weight_loss          259\n",
      "Name: count, dtype: int64\n",
      "\n",
      "% de síntomas categorizados (no \"other\"): 29.6%\n"
     ]
    }
   ],
   "execution_count": 26
  },
  {
   "cell_type": "markdown",
   "metadata": {},
   "source": [
    "## 5️⃣ Limpieza de Datos Demográficos"
   ]
  },
  {
   "cell_type": "code",
   "metadata": {
    "ExecuteTime": {
     "end_time": "2025-10-13T07:38:19.527786Z",
     "start_time": "2025-10-13T07:38:19.371765Z"
    }
   },
   "source": [
    "# Analizar valores faltantes\n",
    "print('Valores faltantes por columna:')\n",
    "missing = df.isnull().sum()\n",
    "missing_pct = (missing / len(df)) * 100\n",
    "missing_df = pd.DataFrame({'Missing': missing, 'Percentage': missing_pct})\n",
    "print(missing_df[missing_df['Missing'] > 0].sort_values('Missing', ascending=False))\n",
    "\n",
    "# Analizar edad\n",
    "print('\\nEdad:')\n",
    "print(f'  Missing: {df[\"age\"].isnull().sum():,} ({df[\"age\"].isnull().sum()/len(df)*100:.1f}%)')\n",
    "print(f'  Media: {df[\"age\"].mean():.1f}')\n",
    "print(f'  Mediana: {df[\"age\"].median():.1f}')\n",
    "print(f'  Rango: {df[\"age\"].min():.0f} - {df[\"age\"].max():.0f}')\n",
    "\n",
    "# Edad por usuario (debería ser constante)\n",
    "age_by_user = df.groupby('user_id')['age'].agg(['first', 'nunique', 'count'])\n",
    "inconsistent_age = age_by_user[age_by_user['nunique'] > 1]\n",
    "print(f'\\nUsuarios con edad inconsistente: {len(inconsistent_age)}')\n",
    "\n",
    "# Sexo\n",
    "print('\\nSexo:')\n",
    "print(df['sex'].value_counts(dropna=False))"
   ],
   "outputs": [
    {
     "name": "stdout",
     "output_type": "stream",
     "text": [
      "Valores faltantes por columna:\n",
      "                 Missing  Percentage\n",
      "value_numeric     122292   31.295536\n",
      "trackable_value    46290   11.845994\n",
      "value_clean        46290   11.845994\n",
      "age                 7222    1.848170\n",
      "country             7199    1.842284\n",
      "sex                 5676    1.452535\n",
      "trackable_name         1    0.000256\n",
      "\n",
      "Edad:\n",
      "  Missing: 7,222 (1.8%)\n",
      "  Media: 36.4\n",
      "  Mediana: 35.0\n",
      "  Rango: -19963 - 78\n",
      "\n",
      "Usuarios con edad inconsistente: 0\n",
      "\n",
      "Sexo:\n",
      "sex\n",
      "female        304820\n",
      "male           36177\n",
      "other          22648\n",
      "doesnt_say     21444\n",
      "NaN             5676\n",
      "Name: count, dtype: int64\n"
     ]
    }
   ],
   "execution_count": 27
  },
  {
   "cell_type": "markdown",
   "metadata": {},
   "source": [
    "## 6️⃣ Crear Dataset Limpio\n",
    "\n",
    "Aplicar todas las transformaciones al dataframe completo"
   ]
  },
  {
   "cell_type": "code",
   "metadata": {
    "ExecuteTime": {
     "end_time": "2025-10-13T07:38:20.549136Z",
     "start_time": "2025-10-13T07:38:19.536280Z"
    }
   },
   "source": [
    "# Hacer una copia para el dataset limpio\n",
    "df_clean = df.copy()\n",
    "\n",
    "# 1. Normalizar trackable_name (lowercase, strip, spaces)\n",
    "df_clean['trackable_name_normalized'] = (\n",
    "    df_clean['trackable_name']\n",
    "    .str.lower()\n",
    "    .str.strip()\n",
    "    .str.replace(r'\\s+', ' ', regex=True)\n",
    ")\n",
    "\n",
    "# 2. Crear columnas específicas por tipo\n",
    "# Para síntomas: severidad 0-4\n",
    "is_symptom = df_clean['trackable_type'] == 'Symptom'\n",
    "df_clean.loc[is_symptom, 'symptom_severity'] = pd.to_numeric(\n",
    "    df_clean.loc[is_symptom, 'trackable_value'], \n",
    "    errors='coerce'\n",
    ")\n",
    "\n",
    "# Limitar a rango 0-4 (algunos valores pueden estar fuera)\n",
    "df_clean.loc[is_symptom, 'symptom_severity'] = df_clean.loc[is_symptom, 'symptom_severity'].clip(0, 4)\n",
    "\n",
    "# Para tratamientos: extraer dosis\n",
    "is_treatment = df_clean['trackable_type'] == 'Treatment'\n",
    "df_clean.loc[is_treatment, 'treatment_dose'] = (\n",
    "    df_clean.loc[is_treatment, 'trackable_value'].apply(extract_dose)\n",
    ")\n",
    "\n",
    "# 3. Mapear síntomas a categorías\n",
    "df_clean.loc[is_symptom, 'symptom_category'] = (\n",
    "    df_clean.loc[is_symptom, 'trackable_name_normalized'].apply(map_to_core_symptom)\n",
    ")\n",
    "\n",
    "# 4. Crear flag para registros completamente numéricos\n",
    "df_clean['has_numeric_value'] = pd.to_numeric(df_clean['trackable_value'], errors='coerce').notna()\n",
    "\n",
    "print('✓ Transformaciones aplicadas')\n",
    "print(f'\\nNuevas columnas creadas:')\n",
    "new_cols = ['trackable_name_normalized', 'symptom_severity', 'treatment_dose', 'symptom_category', 'has_numeric_value']\n",
    "for col in new_cols:\n",
    "    if col in df_clean.columns:\n",
    "        non_null = df_clean[col].notna().sum()\n",
    "        print(f'  {col}: {non_null:,} valores no nulos')"
   ],
   "outputs": [
    {
     "name": "stdout",
     "output_type": "stream",
     "text": [
      "✓ Transformaciones aplicadas\n",
      "\n",
      "Nuevas columnas creadas:\n",
      "  trackable_name_normalized: 390,764 valores no nulos\n",
      "  symptom_severity: 161,086 valores no nulos\n",
      "  treatment_dose: 65,806 valores no nulos\n",
      "  symptom_category: 161,086 valores no nulos\n",
      "  has_numeric_value: 390,765 valores no nulos\n"
     ]
    }
   ],
   "execution_count": 28
  },
  {
   "cell_type": "markdown",
   "metadata": {},
   "source": [
    "## 7️⃣ Filtrar Usuarios Viables para Modelado\n",
    "\n",
    "Criterios para usuarios viables:\n",
    "- Al menos 30 días de datos\n",
    "- Al menos 50 registros totales\n",
    "- Al menos 10 registros de síntomas"
   ]
  },
  {
   "cell_type": "code",
   "metadata": {
    "ExecuteTime": {
     "end_time": "2025-10-13T07:38:20.764410Z",
     "start_time": "2025-10-13T07:38:20.643861Z"
    }
   },
   "source": [
    "# Calcular métricas por usuario\n",
    "user_stats = df_clean.groupby('user_id').agg({\n",
    "    'checkin_date': ['min', 'max', 'nunique'],\n",
    "    'trackable_type': 'count',\n",
    "}).reset_index()\n",
    "\n",
    "user_stats.columns = ['user_id', 'first_date', 'last_date', 'days_tracked', 'total_records']\n",
    "user_stats['date_range_days'] = (user_stats['last_date'] - user_stats['first_date']).dt.days\n",
    "\n",
    "# Contar registros de síntomas por usuario\n",
    "symptom_counts = df_clean[df_clean['trackable_type'] == 'Symptom'].groupby('user_id').size().reset_index(name='symptom_records')\n",
    "user_stats = user_stats.merge(symptom_counts, on='user_id', how='left')\n",
    "user_stats['symptom_records'] = user_stats['symptom_records'].fillna(0)\n",
    "\n",
    "print('Estadísticas de usuarios:')\n",
    "print(f'  Total usuarios: {len(user_stats):,}')\n",
    "print(f'  Días promedio: {user_stats[\"date_range_days\"].mean():.1f}')\n",
    "print(f'  Registros promedio: {user_stats[\"total_records\"].mean():.1f}')\n",
    "print(f'  Síntomas promedio: {user_stats[\"symptom_records\"].mean():.1f}')\n",
    "\n",
    "# Aplicar filtros\n",
    "viable_users = user_stats[\n",
    "    (user_stats['date_range_days'] >= 30) &\n",
    "    (user_stats['total_records'] >= 50) &\n",
    "    (user_stats['symptom_records'] >= 10)\n",
    "]\n",
    "\n",
    "print(f'\\n✓ Usuarios viables: {len(viable_users):,} ({len(viable_users)/len(user_stats)*100:.1f}%)')\n",
    "print(f'  Días promedio: {viable_users[\"date_range_days\"].mean():.1f}')\n",
    "print(f'  Registros promedio: {viable_users[\"total_records\"].mean():.1f}')\n",
    "print(f'  Síntomas promedio: {viable_users[\"symptom_records\"].mean():.1f}')"
   ],
   "outputs": [
    {
     "name": "stdout",
     "output_type": "stream",
     "text": [
      "Estadísticas de usuarios:\n",
      "  Total usuarios: 2,046\n",
      "  Días promedio: 64.8\n",
      "  Registros promedio: 191.0\n",
      "  Síntomas promedio: 78.7\n",
      "\n",
      "✓ Usuarios viables: 325 (15.9%)\n",
      "  Días promedio: 281.4\n",
      "  Registros promedio: 1027.9\n",
      "  Síntomas promedio: 431.5\n"
     ]
    }
   ],
   "execution_count": 29
  },
  {
   "cell_type": "code",
   "metadata": {
    "ExecuteTime": {
     "end_time": "2025-10-13T07:38:20.937954Z",
     "start_time": "2025-10-13T07:38:20.771514Z"
    }
   },
   "source": [
    "# Filtrar dataset a usuarios viables\n",
    "df_viable = df_clean[df_clean['user_id'].isin(viable_users['user_id'])].copy()\n",
    "\n",
    "print(f'Dataset viable:')\n",
    "print(f'  Registros: {len(df_viable):,} (de {len(df_clean):,})')\n",
    "print(f'  Usuarios: {df_viable[\"user_id\"].nunique():,}')\n",
    "print(f'  Reducción: {(1 - len(df_viable)/len(df_clean))*100:.1f}%')\n",
    "\n",
    "print(f'\\nDistribución por tipo (usuarios viables):')\n",
    "print(df_viable['trackable_type'].value_counts())"
   ],
   "outputs": [
    {
     "name": "stdout",
     "output_type": "stream",
     "text": [
      "Dataset viable:\n",
      "  Registros: 334,073 (de 390,765)\n",
      "  Usuarios: 325\n",
      "  Reducción: 14.5%\n",
      "\n",
      "Distribución por tipo (usuarios viables):\n",
      "trackable_type\n",
      "Symptom      140251\n",
      "Treatment     62394\n",
      "Weather       50100\n",
      "Condition     45938\n",
      "Tag           18820\n",
      "Food          16512\n",
      "HBI              58\n",
      "Name: count, dtype: int64\n"
     ]
    }
   ],
   "execution_count": 30
  },
  {
   "cell_type": "markdown",
   "metadata": {},
   "source": [
    "## 8️⃣ Guardar Datos Limpios"
   ]
  },
  {
   "cell_type": "code",
   "metadata": {
    "ExecuteTime": {
     "end_time": "2025-10-13T07:38:24.830017Z",
     "start_time": "2025-10-13T07:38:20.944279Z"
    }
   },
   "source": "# Guardar dataset limpio completo\nimport os\n\noutput_file = '../data/processed/crohn_cleaned.csv'\ndf_clean.to_csv(output_file, index=False)\nprint(f'✓ Guardado dataset limpio: {output_file}')\nprint(f'  Tamaño: {os.path.getsize(output_file)/(1024**2):.2f} MB')\n\n# Guardar dataset viable (para modelado)\nviable_file = '../data/processed/crohn_viable.csv'\ndf_viable.to_csv(viable_file, index=False)\nprint(f'\\n✓ Guardado dataset viable: {viable_file}')\nprint(f'  Tamaño: {os.path.getsize(viable_file)/(1024**2):.2f} MB')\n\n# Guardar estadísticas de usuarios viables\nuser_stats_file = '../data/processed/user_statistics.csv'\nviable_users.to_csv(user_stats_file, index=False)\nprint(f'\\n✓ Guardadas estadísticas de usuarios: {user_stats_file}')",
   "outputs": [
    {
     "name": "stdout",
     "output_type": "stream",
     "text": [
      "✓ Guardado dataset limpio: ../data/processed/crohn_cleaned.csv\n",
      "  Tamaño: 48.79 MB\n",
      "\n",
      "✓ Guardado dataset viable: ../data/processed/crohn_viable.csv\n",
      "  Tamaño: 41.85 MB\n",
      "\n",
      "✓ Guardadas estadísticas de usuarios: ../data/processed/user_statistics.csv\n"
     ]
    }
   ],
   "execution_count": 31
  },
  {
   "cell_type": "markdown",
   "metadata": {},
   "source": [
    "## ✅ Resumen\n",
    "\n",
    "### Transformaciones aplicadas:\n",
    "1. ✅ Normalización de nombres (lowercase, strip, espacios)\n",
    "2. ✅ Separación de valores numéricos vs categóricos\n",
    "3. ✅ Extracción de severidad de síntomas (0-4)\n",
    "4. ✅ Extracción de dosis de tratamientos\n",
    "5. ✅ Mapeo de síntomas a categorías core de IBD\n",
    "6. ✅ Filtrado de usuarios viables (≥30 días, ≥50 registros, ≥10 síntomas)\n",
    "\n",
    "### Archivos generados:\n",
    "- `crohn_cleaned.csv`: Dataset completo limpio\n",
    "- `crohn_viable.csv`: Solo usuarios viables para modelado\n",
    "- `user_statistics.csv`: Estadísticas por usuario\n",
    "\n",
    "### Próximos pasos:\n",
    "1. **Feature Engineering** (`03_feature_engineering.ipynb`):\n",
    "   - Pivotar datos a formato wide (user-date)\n",
    "   - Crear rolling windows (3, 7, 14 días)\n",
    "   - Calcular tendencias de síntomas\n",
    "   - **Definir variable objetivo \"flare\"**\n",
    "\n",
    "2. **Definir \"Flare\"**:\n",
    "   - Opción 1: Spike en severidad promedio de síntomas\n",
    "   - Opción 2: HBI score > threshold (si hay suficientes datos)\n",
    "   - Opción 3: Combinación de síntomas core (diarrhea + pain + blood)"
   ]
  }
 ],
 "metadata": {
  "kernelspec": {
   "display_name": "Python 3",
   "language": "python",
   "name": "python3"
  },
  "language_info": {
   "codemirror_mode": {
    "name": "ipython",
    "version": 3
   },
   "file_extension": ".py",
   "mimetype": "text/x-python",
   "name": "python",
   "nbconvert_exporter": "python",
   "pygments_lexer": "ipython3",
   "version": "3.8.0"
  }
 },
 "nbformat": 4,
 "nbformat_minor": 4
}
