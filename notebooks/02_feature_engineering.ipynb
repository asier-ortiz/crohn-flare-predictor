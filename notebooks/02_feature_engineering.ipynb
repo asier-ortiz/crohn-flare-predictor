{
 "cells": [
  {
   "metadata": {},
   "cell_type": "code",
   "outputs": [],
   "execution_count": null,
   "source": "",
   "id": "f22e268eb1a9cd25"
  }
 ],
 "metadata": {},
 "nbformat": 4,
 "nbformat_minor": 5
}
